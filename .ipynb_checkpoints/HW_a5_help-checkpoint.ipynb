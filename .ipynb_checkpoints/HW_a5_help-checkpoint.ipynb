{
 "cells": [
  {
   "cell_type": "markdown",
   "metadata": {},
   "source": [
    "# a4 Follow-up and a5 help"
   ]
  },
  {
   "cell_type": "markdown",
   "metadata": {},
   "source": [
    "### What's Included: \n",
    "1. Someone asked for a demo of how to use the lemmatizer and to check against noun and verb lists.\n",
    "2. a5 Helpful hints and tips are included second. I'll be updating these, so you clone the repo locally, you'll have to do a \"pull\"(github jargon) to \"get latest\" (Microsoft jargon). (http://rogerdudler.github.io/git-guide/)\n",
    "\n",
    "### Updates: \n",
    "1. Fixed broken lemma example...doh 20190305"
   ]
  },
  {
   "cell_type": "markdown",
   "metadata": {},
   "source": [
    "### Lemma demo: \n",
    "Lemmatization, unlike Stemming, reduces the inflected words properly ensuring that the root word belongs to the language. In Lemmatization root word is called Lemma. A lemma (plural lemmas or lemmata) is the canonical form, dictionary form, or citation form of a set of words.\n",
    "\n",
    "For example, runs, running, ran are all forms of the word run, therefore run is the lemma of all these words. Because lemmatization returns an actual word of the language, it is used where it is necessary to get valid words.\n",
    "\n",
    "https://www.datacamp.com/community/tutorials/stemming-lemmatization-python"
   ]
  },
  {
   "cell_type": "code",
   "execution_count": 6,
   "metadata": {},
   "outputs": [
    {
     "name": "stderr",
     "output_type": "stream",
     "text": [
      "[nltk_data] Downloading package punkt to\n",
      "[nltk_data]     C:\\Users\\iguest\\AppData\\Roaming\\nltk_data...\n",
      "[nltk_data]   Unzipping tokenizers\\punkt.zip.\n",
      "[nltk_data] Downloading package wordnet to\n",
      "[nltk_data]     C:\\Users\\iguest\\AppData\\Roaming\\nltk_data...\n",
      "[nltk_data]   Unzipping corpora\\wordnet.zip.\n"
     ]
    },
    {
     "data": {
      "text/plain": [
       "True"
      ]
     },
     "execution_count": 6,
     "metadata": {},
     "output_type": "execute_result"
    }
   ],
   "source": [
    "from nltk import download\n",
    "download('punkt')\n",
    "download('wordnet')"
   ]
  },
  {
   "cell_type": "code",
   "execution_count": 9,
   "metadata": {},
   "outputs": [],
   "source": [
    "from nltk.stem import WordNetLemmatizer\n",
    "wordnet_lemmatizer = WordNetLemmatizer()"
   ]
  },
  {
   "cell_type": "code",
   "execution_count": 14,
   "metadata": {},
   "outputs": [],
   "source": [
    "sentence = \"He was running and eating at same time. He has bad habit of swimming after playing long hours in the Sun.\"\n",
    "punctuations=\"?:!.,;\"\n",
    "sentence_words = nltk.word_tokenize(sentence)\n",
    "for word in sentence_words:\n",
    "    if word in punctuations:\n",
    "        sentence_words.remove(word)"
   ]
  },
  {
   "cell_type": "code",
   "execution_count": 15,
   "metadata": {},
   "outputs": [
    {
     "name": "stdout",
     "output_type": "stream",
     "text": [
      "Word                Lemma               \n",
      "He                  He                  \n",
      "was                 be                  \n",
      "running             run                 \n",
      "and                 and                 \n",
      "eating              eat                 \n",
      "at                  at                  \n",
      "same                same                \n",
      "time                time                \n",
      "He                  He                  \n",
      "has                 have                \n",
      "bad                 bad                 \n",
      "habit               habit               \n",
      "of                  of                  \n",
      "swimming            swim                \n",
      "after               after               \n",
      "playing             play                \n",
      "long                long                \n",
      "hours               hours               \n",
      "in                  in                  \n",
      "the                 the                 \n",
      "Sun                 Sun                 \n"
     ]
    }
   ],
   "source": [
    "sentence_words\n",
    "print(\"{0:20}{1:20}\".format(\"Word\",\"Lemma\"))\n",
    "for word in sentence_words:\n",
    "     print (\"{0:20}{1:20}\".format(word,wordnet_lemmatizer.lemmatize(word, pos=\"v\")))"
   ]
  },
  {
   "cell_type": "code",
   "execution_count": 16,
   "metadata": {},
   "outputs": [],
   "source": [
    "#Create easy word dictionary for example below\n",
    "easy_word_dict = {'a': True, 'able': True, 'aboard': True, 'about': True, 'above': True, 'absent': True, 'accept': True, 'accident': True, 'account': True, 'ache': True, 'aching': True, 'acorn': True, 'acre': True, 'across': True, 'act': True, 'acts': True, 'add': True, 'address': True, 'admire': True, 'adventure': True, 'afar': True, 'afraid': True, 'after': True, 'afternoon': True, 'afterward': True, 'afterwards': True, 'again': True, 'against': True, 'age': True, 'aged': True, 'ago': True, 'agree': True, 'ah': True, 'ahead': True, 'aid': True, 'aim': True, 'air': True, 'airfield': True, 'airplane': True, 'airport': True, 'airship': True, 'airy': True, 'alarm': True, 'alike': True, 'alive': True, 'all': True, 'alley': True, 'alligator': True, 'allow': True, 'almost': True, 'alone': True, 'along': True, 'aloud': True, 'already': True, 'also': True, 'always': True, 'am': True, 'america': True, 'american': True, 'among': True, 'amount': True, 'an': True, 'and': True, 'angel': True, 'anger': True, 'angry': True, 'animal': True, 'another': True, 'answer': True, 'ant': True, 'any': True, 'anybody': True, 'anyhow': True, 'anyone': True, 'anything': True, 'anyway': True, 'anywhere': True, 'apart': True, 'apartment': True, 'ape': True, 'apiece': True, 'appear': True, 'apple': True, 'april': True, 'apron': True, 'are': True, \"aren't\": True, 'arise': True, 'arithmetic': True, 'arm': True, 'armful': True, 'army': True, 'arose': True, 'around': True, 'arrange': True, 'arrive': True, 'arrived': True, 'arrow': True, 'art': True, 'artist': True, 'as': True, 'ash': True, 'ashes': True, 'aside': True, 'ask': True, 'asleep': True, 'at': True, 'ate': True, 'attack': True, 'attend': True, 'attention': True, 'august': True, 'aunt': True, 'author': True, 'auto': True, 'automobile': True, 'autumn': True, 'avenue': True, 'awake': True, 'awaken': True, 'away': True, 'awful': True, 'awfully': True, 'awhile': True, 'ax': True, 'axe': True, 'baa': True, 'babe': True, 'babies': True, 'back': True, 'background': True, 'backward': True, 'backwards': True, 'bacon': True, 'bad': True, 'badge': True, 'badly': True, 'bag': True, 'bake': True, 'baker': True, 'bakery': True, 'baking': True, 'ball': True, 'balloon': True, 'banana': True, 'band': True, 'bandage': True, 'bang': True, 'banjo': True, 'bank': True, 'banker': True, 'bar': True, 'barber': True, 'bare': True, 'barefoot': True, 'barely': True, 'bark': True, 'barn': True, 'barrel': True, 'base': True, 'baseball': True, 'basement': True, 'basket': True, 'bat': True, 'batch': True, 'bath': True, 'bathe': True, 'bathing': True, 'bathroom': True, 'bathtub': True, 'battle': True, 'battleship': True, 'bay': True, 'be': True, 'beach': True, 'bead': True, 'beam': True, 'bean': True, 'bear': True, 'beard': True, 'beast': True, 'beat': True, 'beating': True, 'beautiful': True, 'beautify': True, 'beauty': True, 'became': True, 'because': True, 'become': True, 'becoming': True, 'bed': True, 'bedbug': True, 'bedroom': True, 'bedspread': True, 'bedtime': True, 'bee': True, 'beech': True, 'beef': True, 'beefsteak': True, 'beehive': True, 'been': True, 'beer': True, 'beet': True, 'before': True, 'beg': True, 'began': True, 'beggar': True, 'begged': True, 'begin': True, 'beginning': True, 'begun': True, 'behave': True, 'behind': True, 'being': True, 'believe': True, 'bell': True, 'belong': True, 'below': True, 'belt': True, 'bench': True, 'bend': True, 'beneath': True, 'bent': True, 'berries': True, 'berry': True, 'beside': True, 'besides': True, 'best': True, 'bet': True, 'better': True, 'between': True, 'bib': True, 'bible': True, 'bicycle': True, 'bid': True, 'big': True, 'bigger': True, 'bill': True, 'billboard': True, 'bin': True, 'bind': True, 'bird': True, 'birth': True, 'birthday': True, 'biscuit': True, 'bit': True, 'bite': True, 'biting': True, 'bitter': True, 'black': True, 'blackberry': True, 'blackbird': True, 'blackboard': True, 'blackness': True, 'blacksmith': True, 'blame': True, 'blank': True, 'blanket': True, 'blast': True, 'blaze': True, 'bleed': True, 'bless': True, 'blessing': True, 'blew': True, 'blind': True, 'blindfold': True, 'blinds': True, 'block': True, 'blood': True, 'bloom': True, 'blossom': True, 'blot': True, 'blow': True, 'blue': True, 'blueberry': True, 'bluebird': True, 'blush': True, 'board': True, 'boast': True, 'boat': True, 'bob': True, 'bobwhite': True, 'bodies': True, 'body': True, 'boil': True, 'boiler': True, 'bold': True, 'bone': True, 'bonnet': True, 'boo': True, 'book': True, 'bookcase': True, 'bookkeeper': True, 'boom': True, 'boot': True, 'born': True, 'borrow': True, 'boss': True, 'both': True, 'bother': True, 'bottle': True, 'bottom': True, 'bought': True, 'bounce': True, 'bow': True, 'bow-wow': True, 'bowl': True, 'box': True, 'boxcar': True, 'boxer': True, 'boxes': True, 'boy': True, 'boyhood': True, 'bracelet': True, 'brain': True, 'brake': True, 'bran': True, 'branch': True, 'brass': True, 'brave': True, 'bread': True, 'break': True, 'breakfast': True, 'breast': True, 'breath': True, 'breathe': True, 'breeze': True, 'brick': True, 'bride': True, 'bridge': True, 'bright': True, 'brightness': True, 'bring': True, 'broad': True, 'broadcast': True, 'broke': True, 'broken': True, 'brook': True, 'broom': True, 'brother': True, 'brought': True, 'brown': True, 'brush': True, 'bubble': True, 'bucket': True, 'buckle': True, 'bud': True, 'buffalo': True, 'bug': True, 'buggy': True, 'build': True, 'building': True, 'built': True, 'bulb': True, 'bull': True, 'bullet': True, 'bum': True, 'bumblebee': True, 'bump': True, 'bun': True, 'bunch': True, 'bundle': True, 'bunny': True, 'burn': True, 'burst': True, 'bury': True, 'bus': True, 'bush': True, 'bushel': True, 'business': True, 'busy': True, 'but': True, 'butcher': True, 'butt': True, 'butter': True, 'buttercup': True, 'butterfly': True, 'buttermilk': True, 'butterscotch': True, 'button': True, 'buttonhole': True, 'buy': True, 'buzz': True, 'by': True, 'bye': True, 'cab': True, 'cabbage': True, 'cabin': True, 'cabinet': True, 'cackle': True, 'cage': True, 'cake': True, 'calendar': True, 'calf': True, 'call': True, 'caller': True, 'calling': True, 'came': True, 'camel': True, 'camp': True, 'campfire': True, 'can': True, \"can't\": True, 'canal': True, 'canary': True, 'candle': True, 'candlestick': True, 'candy': True, 'cane': True, 'cannon': True, 'cannot': True, 'canoe': True, 'canyon': True, 'cap': True, 'cape': True, 'capital': True, 'captain': True, 'car': True, 'card': True, 'cardboard': True, 'care': True, 'careful': True, 'careless': True, 'carelessness': True, 'carload': True, 'carpenter': True, 'carpet': True, 'carriage': True, 'carrot': True, 'carry': True, 'cart': True, 'carve': True, 'case': True, 'cash': True, 'cashier': True, 'castle': True, 'cat': True, 'catbird': True, 'catch': True, 'catcher': True, 'caterpillar': True, 'catfish': True, 'catsup': True, 'cattle': True, 'caught': True, 'cause': True, 'cave': True, 'ceiling': True, 'cell': True, 'cellar': True, 'cent': True, 'center': True, 'cereal': True, 'certain': True, 'certainly': True, 'chain': True, 'chair': True, 'chalk': True, 'champion': True, 'chance': True, 'change': True, 'chap': True, 'charge': True, 'charm': True, 'chart': True, 'chase': True, 'chatter': True, 'cheap': True, 'cheat': True, 'check': True, 'checkers': True, 'cheek': True, 'cheer': True, 'cheese': True, 'cherry': True, 'chest': True, 'chew': True, 'chick': True, 'chicken': True, 'chief': True, 'child': True, 'childhood': True, 'children': True, 'chill': True, 'chilly': True, 'chimney': True, 'chin': True, 'china': True, 'chip': True, 'chipmunk': True, 'chocolate': True, 'choice': True, 'choose': True, 'chop': True, 'chorus': True, 'chose': True, 'chosen': True, 'christen': True, 'christmas': True, 'church': True, 'churn': True, 'cigarette': True, 'circle': True, 'circus': True, 'citizen': True, 'city': True, 'clang': True, 'clap': True, 'class': True, 'classmate': True, 'classroom': True, 'claw': True, 'clay': True, 'clean': True, 'cleaner': True, 'clear': True, 'clerk': True, 'clever': True, 'click': True, 'cliff': True, 'climb': True, 'clip': True, 'cloak': True, 'clock': True, 'close': True, 'closet': True, 'cloth': True, 'clothes': True, 'clothing': True, 'cloud': True, 'cloudy': True, 'clover': True, 'clown': True, 'club': True, 'cluck': True, 'clump': True, 'coach': True, 'coal': True, 'coast': True, 'coat': True, 'cob': True, 'cobbler': True, 'cocoa': True, 'coconut': True, 'cocoon': True, 'cod': True, 'codfish': True, 'coffee': True, 'coffeepot': True, 'coin': True, 'cold': True, 'collar': True, 'college': True, 'color': True, 'colored': True, 'colt': True, 'column': True, 'comb': True, 'come': True, 'comfort': True, 'comic': True, 'coming': True, 'company': True, 'compare': True, 'conductor': True, 'cone': True, 'connect': True, 'coo': True, 'cook': True, 'cooked': True, 'cookie': True, 'cookies': True, 'cooking': True, 'cool': True, 'cooler': True, 'coop': True, 'copper': True, 'copy': True, 'cord': True, 'cork': True, 'corn': True, 'corner': True, 'correct': True, 'cost': True, 'cot': True, 'cottage': True, 'cotton': True, 'couch': True, 'cough': True, 'could': True, \"couldn't\": True, 'count': True, 'counter': True, 'country': True, 'county': True, 'course': True, 'court': True, 'cousin': True, 'cover': True, 'cow': True, 'coward': True, 'cowardly': True, 'cowboy': True, 'cozy': True, 'crab': True, 'crack': True, 'cracker': True, 'cradle': True, 'cramps': True, 'cranberry': True, 'crank': True, 'cranky': True, 'crash': True, 'crawl': True, 'crazy': True, 'cream': True, 'creamy': True, 'creek': True, 'creep': True, 'crept': True, 'cried': True, 'cries': True, 'croak': True, 'crook': True, 'crooked': True, 'crop': True, 'cross': True, 'cross-eyed': True, 'crossing': True, 'crow': True, 'crowd': True, 'crowded': True, 'crown': True, 'cruel': True, 'crumb': True, 'crumble': True, 'crush': True, 'crust': True, 'cry': True, 'cub': True, 'cuff': True, 'cup': True, 'cupboard': True, 'cupful': True, 'cure': True, 'curl': True, 'curly': True, 'curtain': True, 'curve': True, 'cushion': True, 'custard': True, 'customer': True, 'cut': True, 'cute': True, 'cutting': True, 'dab': True, 'dad': True, 'daddy': True, 'daily': True, 'dairy': True, 'daisy': True, 'dam': True, 'damage': True, 'dame': True, 'damp': True, 'dance': True, 'dancer': True, 'dancing': True, 'dandy': True, 'danger': True, 'dangerous': True, 'dare': True, 'dark': True, 'darkness': True, 'darling': True, 'darn': True, 'dart': True, 'dash': True, 'date': True, 'daughter': True, 'dawn': True, 'day': True, 'daybreak': True, 'daytime': True, 'dead': True, 'deaf': True, 'deal': True, 'dear': True, 'death': True, 'december': True, 'decide': True, 'deck': True, 'deed': True, 'deep': True, 'deer': True, 'defeat': True, 'defend': True, 'defense': True, 'delight': True, 'den': True, 'dentist': True, 'depend': True, 'deposit': True, 'describe': True, 'desert': True, 'deserve': True, 'desire': True, 'desk': True, 'destroy': True, 'devil': True, 'dew': True, 'diamond': True, 'did': True, \"didn't\": True, 'die': True, 'died': True, 'dies': True, 'difference': True, 'different': True, 'dig': True, 'dim': True, 'dime': True, 'dine': True, 'ding-dong': True, 'dinner': True, 'dip': True, 'direct': True, 'direction': True, 'dirt': True, 'dirty': True, 'discover': True, 'dish': True, 'dislike': True, 'dismiss': True, 'ditch': True, 'dive': True, 'diver': True, 'divide': True, 'do': True, 'dock': True, 'doctor': True, 'does': True, \"doesn't\": True, 'dog': True, 'doll': True, 'dollar': True, 'dolly': True, \"don't\": True, 'done': True, 'donkey': True, 'door': True, 'doorbell': True, 'doorknob': True, 'doorstep': True, 'dope': True, 'dot': True, 'double': True, 'dough': True, 'dove': True, 'down': True, 'downstairs': True, 'downtown': True, 'dozen': True, 'drag': True, 'drain': True, 'drank': True, 'draw': True, 'drawer': True, 'drawing': True, 'dream': True, 'dress': True, 'dresser': True, 'dressmaker': True, 'drew': True, 'dried': True, 'drift': True, 'drill': True, 'drink': True, 'drip': True, 'drive': True, 'driven': True, 'driver': True, 'drop': True, 'drove': True, 'drown': True, 'drowsy': True, 'drub': True, 'drum': True, 'drunk': True, 'dry': True, 'duck': True, 'due': True, 'dug': True, 'dull': True, 'dumb': True, 'dump': True, 'during': True, 'dust': True, 'dusty': True, 'duty': True, 'dwarf': True, 'dwell': True, 'dwelt': True, 'dying': True, 'each': True, 'eager': True, 'eagle': True, 'ear': True, 'early': True, 'earn': True, 'earth': True, 'east': True, 'eastern': True, 'easy': True, 'eat': True, 'eaten': True, 'edge': True, 'egg': True, 'eh': True, 'eight': True, 'eighteen': True, 'eighth': True, 'eighty': True, 'either': True, 'elbow': True, 'elder': True, 'eldest': True, 'electric': True, 'electricity': True, 'elephant': True, 'eleven': True, 'elf': True, 'elm': True, 'else': True, 'elsewhere': True, 'empty': True, 'end': True, 'ending': True, 'enemy': True, 'engine': True, 'engineer': True, 'english': True, 'enjoy': True, 'enough': True, 'enter': True, 'envelope': True, 'equal': True, 'erase': True, 'eraser': True, 'errand': True, 'escape': True, 'eve': True, 'even': True, 'evening': True, 'ever': True, 'every': True, 'everybody': True, 'everyday': True, 'everyone': True, 'everything': True, 'everywhere': True, 'evil': True, 'exact': True, 'except': True, 'exchange': True, 'excited': True, 'exciting': True, 'excuse': True, 'exit': True, 'expect': True, 'explain': True, 'extra': True, 'eye': True, 'eyebrow': True, 'fable': True, 'face': True, 'facing': True, 'fact': True, 'factory': True, 'fail': True, 'faint': True, 'fair': True, 'fairy': True, 'faith': True, 'fake': True, 'fall': True, 'false': True, 'family': True, 'fan': True, 'fancy': True, 'far': True, 'far-off': True, 'faraway': True, 'fare': True, 'farm': True, 'farmer': True, 'farming': True, 'farther': True, 'fashion': True, 'fast': True, 'fasten': True, 'fat': True, 'father': True, 'fault': True, 'favor': True, 'favorite': True, 'fear': True, 'feast': True, 'feather': True, 'february': True, 'fed': True, 'feed': True, 'feel': True, 'feet': True, 'fell': True, 'fellow': True, 'felt': True, 'fence': True, 'fever': True, 'few': True, 'fib': True, 'fiddle': True, 'field': True, 'fife': True, 'fifteen': True, 'fifth': True, 'fifty': True, 'fig': True, 'fight': True, 'figure': True, 'file': True, 'fill': True, 'film': True, 'finally': True, 'find': True, 'fine': True, 'finger': True, 'finish': True, 'fire': True, 'firearm': True, 'firecracker': True, 'fireplace': True, 'fireworks': True, 'firing': True, 'first': True, 'fish': True, 'fisherman': True, 'fist': True, 'fit': True, 'fits': True, 'five': True, 'fix': True, 'flag': True, 'flake': True, 'flame': True, 'flap': True, 'flash': True, 'flashlight': True, 'flat': True, 'flea': True, 'flesh': True, 'flew': True, 'flies': True, 'flight': True, 'flip': True, 'flip-flop': True, 'float': True, 'flock': True, 'flood': True, 'floor': True, 'flop': True, 'flour': True, 'flow': True, 'flower': True, 'flowery': True, 'flutter': True, 'fly': True, 'foam': True, 'fog': True, 'foggy': True, 'fold': True, 'folks': True, 'follow': True, 'following': True, 'fond': True, 'food': True, 'fool': True, 'foolish': True, 'foot': True, 'football': True, 'footprint': True, 'for': True, 'forehead': True, 'forest': True, 'forget': True, 'forgive': True, 'forgot': True, 'forgotten': True, 'fork': True, 'form': True, 'fort': True, 'forth': True, 'fortune': True, 'forty': True, 'forward': True, 'fought': True, 'found': True, 'fountain': True, 'four': True, 'fourteen': True, 'fourth': True, 'fox': True, 'frame': True, 'free': True, 'freedom': True, 'freeze': True, 'freight': True, 'french': True, 'fresh': True, 'fret': True, 'friday': True, 'fried': True, 'friend': True, 'friendly': True, 'friendship': True, 'frighten': True, 'frog': True, 'from': True, 'front': True, 'frost': True, 'frown': True, 'froze': True, 'fruit': True, 'fry': True, 'fudge': True, 'fuel': True, 'full': True, 'fully': True, 'fun': True, 'funny': True, 'fur': True, 'furniture': True, 'further': True, 'fuzzy': True, 'gain': True, 'gallon': True, 'gallop': True, 'game': True, 'gang': True, 'garage': True, 'garbage': True, 'garden': True, 'gas': True, 'gasoline': True, 'gate': True, 'gather': True, 'gave': True, 'gay': True, 'gear': True, 'geese': True, 'general': True, 'gentle': True, 'gentleman': True, 'gentlemen': True, 'geography': True, 'get': True, 'getting': True, 'giant': True, 'gift': True, 'gingerbread': True, 'girl': True, 'give': True, 'given': True, 'giving': True, 'glad': True, 'gladly': True, 'glance': True, 'glass': True, 'glasses': True, 'gleam': True, 'glide': True, 'glory': True, 'glove': True, 'glow': True, 'glue': True, 'go': True, 'goal': True, 'goat': True, 'gobble': True, 'god': True, 'godmother': True, 'goes': True, 'going': True, 'gold': True, 'golden': True, 'goldfish': True, 'golf': True, 'gone': True, 'good': True, 'good-by': True, 'good-bye': True, 'good-looking': True, 'goodbye': True, 'goodness': True, 'goods': True, 'goody': True, 'goose': True, 'gooseberry': True, 'got': True, 'govern': True, 'government': True, 'gown': True, 'grab': True, 'gracious': True, 'grade': True, 'grain': True, 'grand': True, 'grandchild': True, 'grandchildren': True, 'granddaughter': True, 'grandfather': True, 'grandma': True, 'grandmother': True, 'grandpa': True, 'grandson': True, 'grandstand': True, 'grape': True, 'grapefruit': True, 'grapes': True, 'grass': True, 'grasshopper': True, 'grateful': True, 'grave': True, 'gravel': True, 'graveyard': True, 'gravy': True, 'gray': True, 'graze': True, 'grease': True, 'great': True, 'green': True, 'greet': True, 'grew': True, 'grind': True, 'groan': True, 'grocery': True, 'ground': True, 'group': True, 'grove': True, 'grow': True, 'guard': True, 'guess': True, 'guest': True, 'guide': True, 'gulf': True, 'gum': True, 'gun': True, 'gunpowder': True, 'guy': True, 'ha': True, 'habit': True, 'had': True, \"hadn't\": True, 'hail': True, 'hair': True, 'haircut': True, 'hairpin': True, 'half': True, 'hall': True, 'halt': True, 'ham': True, 'hammer': True, 'hand': True, 'handful': True, 'handkerchief': True, 'handle': True, 'handwriting': True, 'hang': True, 'happen': True, 'happily': True, 'happiness': True, 'happy': True, 'harbor': True, 'hard': True, 'hardly': True, 'hardship': True, 'hardware': True, 'hare': True, 'hark': True, 'harm': True, 'harness': True, 'harp': True, 'harvest': True, 'has': True, \"hasn't\": True, 'haste': True, 'hasten': True, 'hasty': True, 'hat': True, 'hatch': True, 'hatchet': True, 'hate': True, 'haul': True, 'have': True, \"haven't\": True, 'having': True, 'hawk': True, 'hay': True, 'hayfield': True, 'haystack': True, 'he': True, \"he'd\": True, \"he'll\": True, \"he's\": True, 'head': True, 'headache': True, 'heal': True, 'health': True, 'healthy': True, 'heap': True, 'hear': True, 'heard': True, 'hearing': True, 'heart': True, 'heat': True, 'heater': True, 'heaven': True, 'heavy': True, 'heel': True, 'height': True, 'held': True, 'hell': True, 'hello': True, 'helmet': True, 'help': True, 'helper': True, 'helpful': True, 'hem': True, 'hen': True, 'henhouse': True, 'her': True, 'herd': True, 'here': True, \"here's\": True, 'hero': True, 'hers': True, 'herself': True, 'hey': True, 'hickory': True, 'hid': True, 'hidden': True, 'hide': True, 'high': True, 'highway': True, 'hill': True, 'hillside': True, 'hilltop': True, 'hilly': True, 'him': True, 'himself': True, 'hind': True, 'hint': True, 'hip': True, 'hire': True, 'his': True, 'hiss': True, 'history': True, 'hit': True, 'hitch': True, 'hive': True, 'ho': True, 'hoe': True, 'hog': True, 'hold': True, 'holder': True, 'hole': True, 'holiday': True, 'hollow': True, 'holy': True, 'home': True, 'homely': True, 'homesick': True, 'honest': True, 'honey': True, 'honeybee': True, 'honeymoon': True, 'honk': True, 'honor': True, 'hood': True, 'hoof': True, 'hook': True, 'hoop': True, 'hop': True, 'hope': True, 'hopeful': True, 'hopeless': True, 'horn': True, 'horse': True, 'horseback': True, 'horseshoe': True, 'hose': True, 'hospital': True, 'host': True, 'hot': True, 'hotel': True, 'hound': True, 'hour': True, 'house': True, 'housetop': True, 'housewife': True, 'housework': True, 'how': True, 'however': True, 'howl': True, 'hug': True, 'huge': True, 'hum': True, 'humble': True, 'hump': True, 'hundred': True, 'hung': True, 'hunger': True, 'hungry': True, 'hunk': True, 'hunt': True, 'hunter': True, 'hurrah': True, 'hurried': True, 'hurry': True, 'hurt': True, 'husband': True, 'hush': True, 'hut': True, 'hymn': True, 'i': True, \"i'd\": True, \"i'll\": True, \"i'm\": True, \"i've\": True, 'ice': True, 'icy': True, 'idea': True, 'ideal': True, 'if': True, 'ill': True, 'important': True, 'impossible': True, 'improve': True, 'in': True, 'inch': True, 'inches': True, 'income': True, 'indeed': True, 'indian': True, 'indoors': True, 'ink': True, 'inn': True, 'insect': True, 'inside': True, 'instant': True, 'instead': True, 'insult': True, 'intend': True, 'interested': True, 'interesting': True, 'into': True, 'invite': True, 'iron': True, 'is': True, 'island': True, \"isn't\": True, 'it': True, \"it's\": True, 'its': True, 'itself': True, 'ivory': True, 'ivy': True, 'jacket': True, 'jacks': True, 'jail': True, 'jam': True, 'january': True, 'jar': True, 'jaw': True, 'jay': True, 'jelly': True, 'jellyfish': True, 'jerk': True, 'jig': True, 'job': True, 'jockey': True, 'join': True, 'joke': True, 'joking': True, 'jolly': True, 'journey': True, 'joy': True, 'joyful': True, 'joyous': True, 'judge': True, 'jug': True, 'juice': True, 'juicy': True, 'july': True, 'jump': True, 'june': True, 'junior': True, 'junk': True, 'just': True, 'keen': True, 'keep': True, 'kept': True, 'kettle': True, 'key': True, 'kick': True, 'kid': True, 'kill': True, 'killed': True, 'kind': True, 'kindly': True, 'kindness': True, 'king': True, 'kingdom': True, 'kiss': True, 'kitchen': True, 'kite': True, 'kitten': True, 'kitty': True, 'knee': True, 'kneel': True, 'knew': True, 'knife': True, 'knit': True, 'knives': True, 'knob': True, 'knock': True, 'knot': True, 'know': True, 'known': True, 'lace': True, 'lad': True, 'ladder': True, 'ladies': True, 'lady': True, 'laid': True, 'lake': True, 'lamb': True, 'lame': True, 'lamp': True, 'land': True, 'lane': True, 'language': True, 'lantern': True, 'lap': True, 'lard': True, 'large': True, 'lash': True, 'lass': True, 'last': True, 'late': True, 'laugh': True, 'laundry': True, 'law': True, 'lawn': True, 'lawyer': True, 'lay': True, 'lazy': True, 'lead': True, 'leader': True, 'leaf': True, 'leak': True, 'lean': True, 'leap': True, 'learn': True, 'learned': True, 'least': True, 'leather': True, 'leave': True, 'leaving': True, 'led': True, 'left': True, 'leg': True, 'lemon': True, 'lemonade': True, 'lend': True, 'length': True, 'less': True, 'lesson': True, 'let': True, \"let's\": True, 'letter': True, 'letting': True, 'lettuce': True, 'level': True, 'liberty': True, 'library': True, 'lice': True, 'lick': True, 'lid': True, 'lie': True, 'life': True, 'lift': True, 'light': True, 'lightness': True, 'lightning': True, 'like': True, 'likely': True, 'liking': True, 'lily': True, 'limb': True, 'lime': True, 'limp': True, 'line': True, 'linen': True, 'lion': True, 'lip': True, 'list': True, 'listen': True, 'lit': True, 'little': True, 'live': True, 'lively': True, 'liver': True, 'lives': True, 'living': True, 'lizard': True, 'load': True, 'loaf': True, 'loan': True, 'loaves': True, 'lock': True, 'locomotive': True, 'log': True, 'lone': True, 'lonely': True, 'lonesome': True, 'long': True, 'look': True, 'lookout': True, 'loop': True, 'loose': True, 'lord': True, 'lose': True, 'loser': True, 'loss': True, 'lost': True, 'lot': True, 'loud': True, 'love': True, 'lovely': True, 'lover': True, 'low': True, 'luck': True, 'lucky': True, 'lumber': True, 'lump': True, 'lunch': True, 'lying': True, 'ma': True, 'machine': True, 'machinery': True, 'mad': True, 'made': True, 'magazine': True, 'magic': True, 'maid': True, 'mail': True, 'mailbox': True, 'mailman': True, 'major': True, 'make': True, 'making': True, 'male': True, 'mama': True, 'mamma': True, 'man': True, 'manager': True, 'mane': True, 'manger': True, 'many': True, 'map': True, 'maple': True, 'marble': True, 'march': True, 'mare': True, 'mark': True, 'market': True, 'marriage': True, 'married': True, 'marry': True, 'mask': True, 'mast': True, 'master': True, 'mat': True, 'match': True, 'matter': True, 'mattress': True, 'may': True, 'maybe': True, 'mayor': True, 'maypole': True, 'me': True, 'meadow': True, 'meal': True, 'mean': True, 'means': True, 'meant': True, 'measure': True, 'meat': True, 'medicine': True, 'meet': True, 'meeting': True, 'melt': True, 'member': True, 'men': True, 'mend': True, 'meow': True, 'merry': True, 'mess': True, 'message': True, 'met': True, 'metal': True, 'mew': True, 'mice': True, 'middle': True, 'midnight': True, 'might': True, 'mighty': True, 'mile': True, 'miler': True, 'milk': True, 'milkman': True, 'mill': True, 'million': True, 'mind': True, 'mine': True, 'miner': True, 'mint': True, 'minute': True, 'mirror': True, 'mischief': True, 'miss': True, 'misspell': True, 'mistake': True, 'misty': True, 'mitt': True, 'mitten': True, 'mix': True, 'moment': True, 'monday': True, 'money': True, 'monkey': True, 'month': True, 'moo': True, 'moon': True, 'moonlight': True, 'moose': True, 'mop': True, 'more': True, 'morning': True, 'morrow': True, 'moss': True, 'most': True, 'mostly': True, 'mother': True, 'motor': True, 'mount': True, 'mountain': True, 'mouse': True, 'mouth': True, 'move': True, 'movie': True, 'movies': True, 'moving': True, 'mow': True, 'mr.': True, 'mrs.': True, 'much': True, 'mud': True, 'muddy': True, 'mug': True, 'mule': True, 'multiply': True, 'murder': True, 'music': True, 'must': True, 'my': True, 'myself': True, 'nail': True, 'name': True, 'nap': True, 'napkin': True, 'narrow': True, 'nasty': True, 'naughty': True, 'navy': True, 'near': True, 'nearby': True, 'nearly': True, 'neat': True, 'neck': True, 'necktie': True, 'need': True, 'needle': True, \"needn't\": True, 'negro': True, 'neighbor': True, 'neighborhood': True, 'neither': True, 'nerve': True, 'nest': True, 'net': True, 'never': True, 'nevermore': True, 'new': True, 'news': True, 'newspaper': True, 'next': True, 'nibble': True, 'nice': True, 'nickel': True, 'night': True, 'nightgown': True, 'nine': True, 'nineteen': True, 'ninety': True, 'no': True, 'nobody': True, 'nod': True, 'noise': True, 'noisy': True, 'none': True, 'noon': True, 'nor': True, 'north': True, 'northern': True, 'nose': True, 'not': True, 'note': True, 'nothing': True, 'notice': True, 'november': True, 'now': True, 'nowhere': True, 'number': True, 'nurse': True, 'nut': True, \"o'clock\": True, 'oak': True, 'oar': True, 'oatmeal': True, 'oats': True, 'obey': True, 'ocean': True, 'october': True, 'odd': True, 'of': True, 'off': True, 'offer': True, 'office': True, 'officer': True, 'often': True, 'oh': True, 'oil': True, 'old': True, 'old-fashioned': True, 'on': True, 'once': True, 'one': True, 'onion': True, 'only': True, 'onward': True, 'open': True, 'or': True, 'orange': True, 'orchard': True, 'order': True, 'ore': True, 'organ': True, 'other': True, 'otherwise': True, 'ouch': True, 'ought': True, 'our': True, 'ours': True, 'ourselves': True, 'out': True, 'outdoors': True, 'outfit': True, 'outlaw': True, 'outline': True, 'outside': True, 'outward': True, 'oven': True, 'over': True, 'overalls': True, 'overcoat': True, 'overeat': True, 'overhead': True, 'overhear': True, 'overnight': True, 'overturn': True, 'owe': True, 'owing': True, 'owl': True, 'own': True, 'owner': True, 'ox': True, 'pa': True, 'pace': True, 'pack': True, 'package': True, 'pad': True, 'page': True, 'paid': True, 'pail': True, 'pain': True, 'painful': True, 'paint': True, 'painter': True, 'painting': True, 'pair': True, 'pal': True, 'palace': True, 'pale': True, 'pan': True, 'pancake': True, 'pane': True, 'pansy': True, 'pants': True, 'papa': True, 'paper': True, 'parade': True, 'pardon': True, 'parent': True, 'park': True, 'part': True, 'partly': True, 'partner': True, 'party': True, 'pass': True, 'passenger': True, 'past': True, 'paste': True, 'pasture': True, 'pat': True, 'patch': True, 'path': True, 'patter': True, 'pave': True, 'pavement': True, 'paw': True, 'pay': True, 'payment': True, 'pea': True, 'peace': True, 'peaceful': True, 'peach': True, 'peaches': True, 'peak': True, 'peanut': True, 'pear': True, 'pearl': True, 'peas': True, 'peck': True, 'peek': True, 'peel': True, 'peep': True, 'peg': True, 'pen': True, 'pencil': True, 'penny': True, 'people': True, 'pepper': True, 'peppermint': True, 'perfume': True, 'perhaps': True, 'person': True, 'pet': True, 'phone': True, 'piano': True, 'pick': True, 'pickle': True, 'picnic': True, 'picture': True, 'pie': True, 'piece': True, 'pig': True, 'pigeon': True, 'piggy': True, 'pile': True, 'pill': True, 'pillow': True, 'pin': True, 'pine': True, 'pineapple': True, 'pink': True, 'pint': True, 'pipe': True, 'pistol': True, 'pit': True, 'pitch': True, 'pitcher': True, 'pity': True, 'place': True, 'plain': True, 'plan': True, 'plane': True, 'plant': True, 'plate': True, 'platform': True, 'platter': True, 'play': True, 'player': True, 'playground': True, 'playhouse': True, 'playmate': True, 'plaything': True, 'pleasant': True, 'please': True, 'pleasure': True, 'plenty': True, 'plow': True, 'plug': True, 'plum': True, 'pocket': True, 'pocketbook': True, 'poem': True, 'point': True, 'poison': True, 'poke': True, 'pole': True, 'police': True, 'policeman': True, 'polish': True, 'polite': True, 'pond': True, 'ponies': True, 'pony': True, 'pool': True, 'poor': True, 'pop': True, 'popcorn': True, 'popped': True, 'porch': True, 'pork': True, 'possible': True, 'post': True, 'postage': True, 'postman': True, 'pot': True, 'potato': True, 'potatoes': True, 'pound': True, 'pour': True, 'powder': True, 'power': True, 'powerful': True, 'praise': True, 'pray': True, 'prayer': True, 'prepare': True, 'present': True, 'pretty': True, 'price': True, 'prick': True, 'prince': True, 'princess': True, 'print': True, 'prison': True, 'prize': True, 'promise': True, 'proper': True, 'protect': True, 'proud': True, 'prove': True, 'prune': True, 'public': True, 'puddle': True, 'puff': True, 'pull': True, 'pump': True, 'pumpkin': True, 'punch': True, 'punish': True, 'pup': True, 'pupil': True, 'puppy': True, 'pure': True, 'purple': True, 'purse': True, 'push': True, 'puss': True, 'pussy': True, 'pussycat': True, 'put': True, 'putting': True, 'puzzle': True, 'quack': True, 'quart': True, 'quarter': True, 'queen': True, 'queer': True, 'question': True, 'quick': True, 'quickly': True, 'quiet': True, 'quilt': True, 'quit': True, 'quite': True, 'rabbit': True, 'race': True, 'rack': True, 'radio': True, 'radish': True, 'rag': True, 'rail': True, 'railroad': True, 'railway': True, 'rain': True, 'rainbow': True, 'rainy': True, 'raise': True, 'raisin': True, 'rake': True, 'ram': True, 'ran': True, 'ranch': True, 'rang': True, 'rap': True, 'rapidly': True, 'rat': True, 'rate': True, 'rather': True, 'rattle': True, 'raw': True, 'ray': True, 'reach': True, 'read': True, 'reader': True, 'reading': True, 'ready': True, 'real': True, 'really': True, 'reap': True, 'rear': True, 'reason': True, 'rebuild': True, 'receive': True, 'recess': True, 'record': True, 'red': True, 'redbird': True, 'redbreast': True, 'refuse': True, 'reindeer': True, 'rejoice': True, 'remain': True, 'remember': True, 'remind': True, 'remove': True, 'rent': True, 'repair': True, 'repay': True, 'repeat': True, 'report': True, 'rest': True, 'return': True, 'review': True, 'reward': True, 'rib': True, 'ribbon': True, 'rice': True, 'rich': True, 'rid': True, 'riddle': True, 'ride': True, 'rider': True, 'riding': True, 'right': True, 'rim': True, 'ring': True, 'rip': True, 'ripe': True, 'rise': True, 'rising': True, 'river': True, 'road': True, 'roadside': True, 'roar': True, 'roast': True, 'rob': True, 'robber': True, 'robe': True, 'robin': True, 'rock': True, 'rocket': True, 'rocky': True, 'rode': True, 'roll': True, 'roller': True, 'roof': True, 'room': True, 'rooster': True, 'root': True, 'rope': True, 'rose': True, 'rosebud': True, 'rot': True, 'rotten': True, 'rough': True, 'round': True, 'route': True, 'row': True, 'rowboat': True, 'royal': True, 'rub': True, 'rubbed': True, 'rubber': True, 'rubbish': True, 'rug': True, 'rule': True, 'ruler': True, 'rumble': True, 'run': True, 'rung': True, 'runner': True, 'running': True, 'rush': True, 'rust': True, 'rusty': True, 'rye': True, 'sack': True, 'sad': True, 'saddle': True, 'sadness': True, 'safe': True, 'safety': True, 'said': True, 'sail': True, 'sailboat': True, 'sailor': True, 'saint': True, 'salad': True, 'sale': True, 'salt': True, 'same': True, 'sand': True, 'sandwich': True, 'sandy': True, 'sang': True, 'sank': True, 'sap': True, 'sash': True, 'sat': True, 'satin': True, 'satisfactory': True, 'saturday': True, 'sausage': True, 'savage': True, 'save': True, 'savings': True, 'saw': True, 'say': True, 'scab': True, 'scales': True, 'scare': True, 'scarf': True, 'school': True, 'schoolboy': True, 'schoolhouse': True, 'schoolmaster': True, 'schoolroom': True, 'scorch': True, 'score': True, 'scrap': True, 'scrape': True, 'scratch': True, 'scream': True, 'screen': True, 'screw': True, 'scrub': True, 'sea': True, 'seal': True, 'seam': True, 'search': True, 'season': True, 'seat': True, 'second': True, 'secret': True, 'see': True, 'seed': True, 'seeing': True, 'seek': True, 'seem': True, 'seen': True, 'seesaw': True, 'select': True, 'self': True, 'selfish': True, 'sell': True, 'send': True, 'sense': True, 'sent': True, 'sentence': True, 'separate': True, 'september': True, 'servant': True, 'serve': True, 'service': True, 'set': True, 'setting': True, 'settle': True, 'settlement': True, 'seven': True, 'seventeen': True, 'seventh': True, 'seventy': True, 'several': True, 'sew': True, 'shade': True, 'shadow': True, 'shady': True, 'shake': True, 'shaker': True, 'shaking': True, 'shall': True, 'shame': True, \"shan't\": True, 'shape': True, 'share': True, 'sharp': True, 'shave': True, 'she': True, \"she'd\": True, \"she'll\": True, \"she's\": True, 'shear': True, 'shears': True, 'shed': True, 'sheep': True, 'sheet': True, 'shelf': True, 'shell': True, 'shepherd': True, 'shine': True, 'shining': True, 'shiny': True, 'ship': True, 'shirt': True, 'shock': True, 'shoe': True, 'shoemaker': True, 'shone': True, 'shook': True, 'shoot': True, 'shop': True, 'shopping': True, 'shore': True, 'short': True, 'shot': True, 'should': True, 'shoulder': True, \"shouldn't\": True, 'shout': True, 'shovel': True, 'show': True, 'shower': True, 'shut': True, 'shy': True, 'sick': True, 'sickness': True, 'side': True, 'sidewalk': True, 'sideways': True, 'sigh': True, 'sight': True, 'sign': True, 'silence': True, 'silent': True, 'silk': True, 'sill': True, 'silly': True, 'silver': True, 'simple': True, 'sin': True, 'since': True, 'sing': True, 'singer': True, 'single': True, 'sink': True, 'sip': True, 'sir': True, 'sis': True, 'sissy': True, 'sister': True, 'sit': True, 'sitting': True, 'six': True, 'sixteen': True, 'sixth': True, 'sixty': True, 'size': True, 'skate': True, 'skater': True, 'ski': True, 'skin': True, 'skip': True, 'skirt': True, 'sky': True, 'slam': True, 'slap': True, 'slate': True, 'slave': True, 'sled': True, 'sleep': True, 'sleepy': True, 'sleeve': True, 'sleigh': True, 'slept': True, 'slice': True, 'slid': True, 'slide': True, 'sling': True, 'slip': True, 'slipped': True, 'slipper': True, 'slippery': True, 'slit': True, 'slow': True, 'slowly': True, 'sly': True, 'smack': True, 'small': True, 'smart': True, 'smell': True, 'smile': True, 'smoke': True, 'smooth': True, 'snail': True, 'snake': True, 'snap': True, 'snapping': True, 'sneeze': True, 'snow': True, 'snowball': True, 'snowflake': True, 'snowy': True, 'snuff': True, 'snug': True, 'so': True, 'soak': True, 'soap': True, 'sob': True, 'socks': True, 'sod': True, 'soda': True, 'sofa': True, 'soft': True, 'soil': True, 'sold': True, 'soldier': True, 'sole': True, 'some': True, 'somebody': True, 'somehow': True, 'someone': True, 'something': True, 'sometime': True, 'sometimes': True, 'somewhere': True, 'son': True, 'song': True, 'soon': True, 'sore': True, 'sorrow': True, 'sorry': True, 'sort': True, 'soul': True, 'sound': True, 'soup': True, 'sour': True, 'south': True, 'southern': True, 'space': True, 'spade': True, 'spank': True, 'sparrow': True, 'speak': True, 'speaker': True, 'spear': True, 'speech': True, 'speed': True, 'spell': True, 'spelling': True, 'spend': True, 'spent': True, 'spider': True, 'spike': True, 'spill': True, 'spin': True, 'spinach': True, 'spirit': True, 'spit': True, 'splash': True, 'spoil': True, 'spoke': True, 'spook': True, 'spoon': True, 'sport': True, 'spot': True, 'spread': True, 'spring': True, 'springtime': True, 'sprinkle': True, 'square': True, 'squash': True, 'squeak': True, 'squeeze': True, 'squirrel': True, 'stable': True, 'stack': True, 'stage': True, 'stair': True, 'stall': True, 'stamp': True, 'stand': True, 'star': True, 'stare': True, 'start': True, 'starve': True, 'state': True, 'states': True, 'station': True, 'stay': True, 'steak': True, 'steal': True, 'steam': True, 'steamboat': True, 'steamer': True, 'steel': True, 'steep': True, 'steeple': True, 'steer': True, 'stem': True, 'step': True, 'stepping': True, 'stick': True, 'sticky': True, 'stiff': True, 'still': True, 'stillness': True, 'sting': True, 'stir': True, 'stitch': True, 'stock': True, 'stocking': True, 'stole': True, 'stone': True, 'stood': True, 'stool': True, 'stoop': True, 'stop': True, 'stopped': True, 'stopping': True, 'store': True, 'stories': True, 'stork': True, 'storm': True, 'stormy': True, 'story': True, 'stove': True, 'straight': True, 'strange': True, 'stranger': True, 'strap': True, 'straw': True, 'strawberry': True, 'stream': True, 'street': True, 'stretch': True, 'string': True, 'strip': True, 'stripes': True, 'strong': True, 'stuck': True, 'study': True, 'stuff': True, 'stump': True, 'stung': True, 'subject': True, 'such': True, 'suck': True, 'sudden': True, 'suffer': True, 'sugar': True, 'suit': True, 'sum': True, 'summer': True, 'sun': True, 'sunday': True, 'sunflower': True, 'sung': True, 'sunk': True, 'sunlight': True, 'sunny': True, 'sunrise': True, 'sunset': True, 'sunshine': True, 'supper': True, 'suppose': True, 'sure': True, 'surely': True, 'surface': True, 'surprise': True, 'swallow': True, 'swam': True, 'swamp': True, 'swan': True, 'swat': True, 'swear': True, 'sweat': True, 'sweater': True, 'sweep': True, 'sweet': True, 'sweetheart': True, 'sweetness': True, 'swell': True, 'swept': True, 'swift': True, 'swim': True, 'swimming': True, 'swing': True, 'switch': True, 'sword': True, 'swore': True, 'table': True, 'tablecloth': True, 'tablespoon': True, 'tablet': True, 'tack': True, 'tag': True, 'tail': True, 'tailor': True, 'take': True, 'taken': True, 'taking': True, 'tale': True, 'talk': True, 'talker': True, 'tall': True, 'tame': True, 'tan': True, 'tank': True, 'tap': True, 'tape': True, 'tar': True, 'tardy': True, 'task': True, 'taste': True, 'taught': True, 'tax': True, 'tea': True, 'teach': True, 'teacher': True, 'team': True, 'tear': True, 'tease': True, 'teaspoon': True, 'teeth': True, 'telephone': True, 'tell': True, 'temper': True, 'ten': True, 'tennis': True, 'tent': True, 'term': True, 'terrible': True, 'test': True, 'than': True, 'thank': True, 'thankful': True, 'thanks': True, 'thanksgiving': True, 'that': True, \"that's\": True, 'the': True, 'theater': True, 'thee': True, 'their': True, 'them': True, 'then': True, 'there': True, 'these': True, 'they': True, \"they'd\": True, \"they'll\": True, \"they're\": True, \"they've\": True, 'thick': True, 'thief': True, 'thimble': True, 'thin': True, 'thing': True, 'think': True, 'third': True, 'thirsty': True, 'thirteen': True, 'thirty': True, 'this': True, 'thorn': True, 'those': True, 'though': True, 'thought': True, 'thousand': True, 'thread': True, 'three': True, 'threw': True, 'throat': True, 'throne': True, 'through': True, 'throw': True, 'thrown': True, 'thumb': True, 'thunder': True, 'thursday': True, 'thy': True, 'tick': True, 'ticket': True, 'tickle': True, 'tie': True, 'tiger': True, 'tight': True, 'till': True, 'time': True, 'tin': True, 'tinkle': True, 'tiny': True, 'tip': True, 'tiptoe': True, 'tire': True, 'tired': True, 'title': True, 'to': True, 'toad': True, 'toadstool': True, 'toast': True, 'tobacco': True, 'today': True, 'toe': True, 'together': True, 'toilet': True, 'told': True, 'tomato': True, 'tomorrow': True, 'ton': True, 'tone': True, 'tongue': True, 'tonight': True, 'too': True, 'took': True, 'tool': True, 'toot': True, 'tooth': True, 'toothbrush': True, 'toothpick': True, 'top': True, 'tore': True, 'torn': True, 'toss': True, 'touch': True, 'tow': True, 'toward': True, 'towards': True, 'towel': True, 'tower': True, 'town': True, 'toy': True, 'trace': True, 'track': True, 'trade': True, 'train': True, 'tramp': True, 'trap': True, 'tray': True, 'treasure': True, 'treat': True, 'tree': True, 'trick': True, 'tricycle': True, 'tried': True, 'trim': True, 'trip': True, 'trolley': True, 'trouble': True, 'truck': True, 'true': True, 'truly': True, 'trunk': True, 'trust': True, 'truth': True, 'try': True, 'tub': True, 'tuesday': True, 'tug': True, 'tulip': True, 'tumble': True, 'tune': True, 'tunnel': True, 'turkey': True, 'turn': True, 'turtle': True, 'twelve': True, 'twenty': True, 'twice': True, 'twig': True, 'twin': True, 'two': True, 'ugly': True, 'umbrella': True, 'uncle': True, 'under': True, 'understand': True, 'underwear': True, 'undress': True, 'unfair': True, 'unfinished': True, 'unfold': True, 'unfriendly': True, 'unhappy': True, 'unhurt': True, 'uniform': True, 'united': True, 'unkind': True, 'unknown': True, 'unless': True, 'unpleasant': True, 'until': True, 'unwilling': True, 'up': True, 'upon': True, 'upper': True, 'upset': True, 'upside': True, 'upstairs': True, 'uptown': True, 'upward': True, 'us': True, 'use': True, 'used': True, 'useful': True, 'valentine': True, 'valley': True, 'valuable': True, 'value': True, 'vase': True, 'vegetable': True, 'velvet': True, 'very': True, 'vessel': True, 'victory': True, 'view': True, 'village': True, 'vine': True, 'violet': True, 'visit': True, 'visitor': True, 'voice': True, 'vote': True, 'wag': True, 'wagon': True, 'waist': True, 'wait': True, 'wake': True, 'waken': True, 'walk': True, 'wall': True, 'walnut': True, 'want': True, 'war': True, 'warm': True, 'warn': True, 'was': True, 'wash': True, 'washer': True, 'washtub': True, \"wasn't\": True, 'waste': True, 'watch': True, 'watchman': True, 'water': True, 'watermelon': True, 'waterproof': True, 'wave': True, 'wax': True, 'way': True, 'wayside': True, 'we': True, \"we'd\": True, \"we'll\": True, \"we're\": True, \"we've\": True, 'weak': True, 'weaken': True, 'weakness': True, 'wealth': True, 'weapon': True, 'wear': True, 'weary': True, 'weather': True, 'weave': True, 'web': True, 'wedding': True, 'wednesday': True, 'wee': True, 'weed': True, 'week': True, 'weep': True, 'weigh': True, 'welcome': True, 'well': True, 'went': True, 'were': True, 'west': True, 'western': True, 'wet': True, 'whale': True, 'what': True, \"what's\": True, 'wheat': True, 'wheel': True, 'when': True, 'whenever': True, 'where': True, 'which': True, 'while': True, 'whip': True, 'whipped': True, 'whirl': True, 'whiskey': True, 'whisky': True, 'whisper': True, 'whistle': True, 'white': True, 'who': True, \"who'd\": True, \"who'll\": True, \"who's\": True, 'whole': True, 'whom': True, 'whose': True, 'why': True, 'wicked': True, 'wide': True, 'wife': True, 'wiggle': True, 'wild': True, 'wildcat': True, 'will': True, 'willing': True, 'willow': True, 'win': True, 'wind': True, 'windmill': True, 'window': True, 'windy': True, 'wine': True, 'wing': True, 'wink': True, 'winner': True, 'winter': True, 'wipe': True, 'wire': True, 'wise': True, 'wish': True, 'wit': True, 'witch': True, 'with': True, 'without': True, 'woke': True, 'wolf': True, 'woman': True, 'women': True, 'won': True, \"won't\": True, 'wonder': True, 'wonderful': True, 'wood': True, 'wooden': True, 'woodpecker': True, 'woods': True, 'wool': True, 'woolen': True, 'word': True, 'wore': True, 'work': True, 'worker': True, 'workman': True, 'world': True, 'worm': True, 'worn': True, 'worry': True, 'worse': True, 'worst': True, 'worth': True, 'would': True, \"wouldn't\": True, 'wound': True, 'wove': True, 'wrap': True, 'wrapped': True, 'wreck': True, 'wren': True, 'wring': True, 'write': True, 'writing': True, 'written': True, 'wrong': True, 'wrote': True, 'wrung': True, 'yard': True, 'yarn': True, 'year': True, 'yell': True, 'yellow': True, 'yes': True, 'yesterday': True, 'yet': True, 'yolk': True, 'yonder': True, 'you': True, \"you'd\": True, \"you'll\": True, \"you're\": True, \"you've\": True, 'young': True, 'youngster': True, 'your': True, 'yours': True, 'yourself': True, 'yourselves': True, 'youth': True}"
   ]
  },
  {
   "cell_type": "code",
   "execution_count": 17,
   "metadata": {},
   "outputs": [
    {
     "name": "stdout",
     "output_type": "stream",
     "text": [
      "{'a': True, 'able': True, 'aboard': True, 'about': True, 'above': True, 'absent': True, 'accept': True, 'accident': True, 'account': True, 'ache': True}\n"
     ]
    }
   ],
   "source": [
    "#view first 10 with a list comprehension\n",
    "print({key: easy_word_dict[key] for key in list(easy_word_dict)[:10]})"
   ]
  },
  {
   "cell_type": "code",
   "execution_count": 18,
   "metadata": {},
   "outputs": [
    {
     "name": "stdout",
     "output_type": "stream",
     "text": [
      "6\n"
     ]
    }
   ],
   "source": [
    "#1st Create a \"lemmatizer\" object\n",
    "lemmatizer = WordNetLemmatizer()\n",
    "\n",
    "#Define my function\n",
    "def count_easy_words(word_list):\n",
    "    \"\"\"This function takes in a list of words and returns the number that are easy\"\"\"\n",
    "    \n",
    "    #Initialize a counter\n",
    "    count = 0\n",
    "    for word in word_list:\n",
    "        #First lemmatize a noun list\n",
    "        lem_noun_list = lemmatizer.lemmatize(word.lower(), pos = 'n')\n",
    "        #print(lem_noun_list) #check out: geese, sparrows\n",
    "        \n",
    "        #Second lemmatize a verb list\n",
    "        lem_verb_list = lemmatizer.lemmatize(word.lower(), pos = 'v')\n",
    "        #print(lem_verb_list) #check out: went, has\n",
    "        \n",
    "        #The get() method returns the value for the given key, if present in the dictionary. \n",
    "        #Here I no longer reference \"word\" instead I reference my lemma objects\n",
    "        #If any given \"lem_noun\" is a key in my easy words dictionary, then count it\n",
    "        #The or here is important because it only counts once if it's in either verb or noun list\n",
    "        if easy_word_dict.get(lem_noun_list)or easy_word_dict.get(lem_verb_list): #if a given lemma is in \n",
    "            count +=1 \n",
    "            #print(word) #confirmed: returned expected words\n",
    "    return count\n",
    "\n",
    "word_list = ['Zaphod', 'Beeblebrox','went','words','spoken','has','consequences', 'sparrows', 'obseqious', 'geese', 'Astrophysics']\n",
    "print(count_easy_words(word_list)) \n",
    "# test: PASS"
   ]
  },
  {
   "cell_type": "markdown",
   "metadata": {},
   "source": [
    "## Working with Tweets"
   ]
  },
  {
   "cell_type": "markdown",
   "metadata": {},
   "source": [
    "In a5 you'll be working with real-live tweet data. Examine the sample tweets below to see how they're formatted"
   ]
  },
  {
   "cell_type": "code",
   "execution_count": 21,
   "metadata": {},
   "outputs": [],
   "source": [
    "tweets = [{'created_at': 'Mon Oct 10 18:39:51 +0000 2016',\n",
    "  'retweet_count': 9,\n",
    "  'entities': {'hashtags': [{'indices': [20, 41],\n",
    "     'text': 'IndigenousPeoplesDay'}]},\n",
    "  'user': {'screen_name': 'UW_iSchool'},\n",
    "  'text': 'RT @UWAPress: Happy #IndigenousPeoplesDay https://t.co/YmU9e9lj7v'},\n",
    " {'created_at': 'Mon Oct 10 18:00:00 +0000 2016',\n",
    "  'retweet_count': 0,\n",
    "  'entities': {'hashtags': [{'indices': [16, 29], 'text': 'IdealistFair'}]},\n",
    "  'user': {'screen_name': 'UW_iSchool'},\n",
    "  'text': \"We'll be at the #IdealistFair this evening on the Seattle U. campus. Come and learn about our graduate programs: https://t.co/et1HrQshmr\"},\n",
    " {'created_at': 'Mon Oct 10 15:10:36 +0000 2016',\n",
    "  'retweet_count': 1,\n",
    "  'entities': {'hashtags': []},\n",
    "  'user': {'screen_name': 'UW_iSchool'},\n",
    "  'text': 'RT @iYouthUW: iYouth Tips for 1st\\xa0Years https://t.co/K4SCIEhJ8k https://t.co/p4lbC6Jb5o'}]"
   ]
  },
  {
   "cell_type": "markdown",
   "metadata": {},
   "source": [
    "Print the second tweet (first index)"
   ]
  },
  {
   "cell_type": "code",
   "execution_count": 44,
   "metadata": {},
   "outputs": [
    {
     "data": {
      "text/plain": [
       "[{'indices': [16, 29], 'text': 'IdealistFair'}]"
      ]
     },
     "execution_count": 44,
     "metadata": {},
     "output_type": "execute_result"
    }
   ],
   "source": [
    "first_tweet = tweets[1]\n",
    "first_tweet['entities']['hashtags']#[0]['text']"
   ]
  },
  {
   "cell_type": "markdown",
   "metadata": {},
   "source": [
    "Access and print the first hashtag value as a hashtag (#)"
   ]
  },
  {
   "cell_type": "code",
   "execution_count": 45,
   "metadata": {},
   "outputs": [
    {
     "name": "stdout",
     "output_type": "stream",
     "text": [
      "#IdealistFair\n"
     ]
    }
   ],
   "source": [
    "first_hashtag = first_tweet['entities']['hashtags'][0]['text']\n",
    "print('#'+first_hashtag)"
   ]
  },
  {
   "cell_type": "markdown",
   "metadata": {},
   "source": [
    "Print the text of all the tweets in this sample"
   ]
  },
  {
   "cell_type": "code",
   "execution_count": 46,
   "metadata": {},
   "outputs": [
    {
     "name": "stdout",
     "output_type": "stream",
     "text": [
      "RT @UWAPress: Happy #IndigenousPeoplesDay https://t.co/YmU9e9lj7v\n",
      "We'll be at the #IdealistFair this evening on the Seattle U. campus. Come and learn about our graduate programs: https://t.co/et1HrQshmr\n",
      "RT @iYouthUW: iYouth Tips for 1st Years https://t.co/K4SCIEhJ8k https://t.co/p4lbC6Jb5o\n"
     ]
    }
   ],
   "source": [
    "for tweet in tweets: \n",
    "    print(tweet['text'])"
   ]
  },
  {
   "cell_type": "markdown",
   "metadata": {},
   "source": [
    "That's the basics of working with tweets\n",
    "\n",
    "In this assignment you're going to be coducting a sentiment analysis. \n",
    "\n",
    "To do that you need sentiments"
   ]
  },
  {
   "cell_type": "code",
   "execution_count": 47,
   "metadata": {},
   "outputs": [],
   "source": [
    "from data.sentiments_nrc import SENTIMENTS, EMOTIONS\n",
    "\n",
    "# print(SENTIMENTS) # A Dictionary 6000 + words and associated emotions\n",
    "#     {\n",
    "#     'abacus':  {'trust': 1}\n",
    "#    ,'abandon': {'sadness': 1, 'fear': 1, 'negative': 1}\n",
    "#    ,'abandoned': {'sadness': 1, 'negative': 1\n",
    "#      )\n",
    "\n",
    "# print(EMOTIONS) # A list of 10 emotions  \n",
    "# ['positive', 'joy', 'sadness', 'surprise', 'trust']"
   ]
  },
  {
   "cell_type": "code",
   "execution_count": 63,
   "metadata": {},
   "outputs": [
    {
     "name": "stdout",
     "output_type": "stream",
     "text": [
      "{'positive': 1, 'trust': 1}\n"
     ]
    }
   ],
   "source": [
    "print(SENTIMENTS['prefer']) # A list of 10 emotions  \n",
    "# ['positive', 'joy', 'sadness', 'surprise', 'trust'...]"
   ]
  },
  {
   "cell_type": "markdown",
   "metadata": {},
   "source": [
    "You're going to have to create lists of words, then compare them to sentiments in order to understand if any of the words in your list are in a given sentiment list. \n",
    "\n",
    "You'll have to write functions to do that work. I'm not going to write your function for you, but I will show you a cool list comprehension for doing this kind of work. "
   ]
  },
  {
   "cell_type": "code",
   "execution_count": 68,
   "metadata": {},
   "outputs": [
    {
     "name": "stdout",
     "output_type": "stream",
     "text": [
      "prefer\n",
      "sunshine\n"
     ]
    }
   ],
   "source": [
    "#let's say you have a tweet text that looks like this: \n",
    "\"Amazingly, I prefer a #rainy day to #sunshine.\"\n",
    "\n",
    "#You'll write a function that splits that into a list of words. \n",
    "#I'm going to cheat here and do it manually for demo purposes: \n",
    "tweet_text = [\"Amazingly\", \"I\", \"prefer\", \"a\", \"rainy\", \"day\", \"to\", \"sunshine\"]\n",
    "\n",
    "#and you want to find out if any of the words in your tweet text demonstrate \"positive emotion\" based on your \n",
    "# emotion list\n",
    "emotion = 'positive'\n",
    "\n",
    "#You could write a for loop that says FOR every  IN word list\n",
    "# IF the word is in the emotion list, get the emotion\n",
    "\n",
    "#You could totally write this in a for loop with an if statement. \n",
    "#Or you could write this as a list comprehension for efficiency\n",
    "\n",
    "# for word in tweet_text: \n",
    "#     if SENTIMENTS.get(word, {}).get(emotion): \n",
    "#         print(word)\n",
    "        \n",
    "[word for word in tweet_text if SENTIMENTS.get(word, {}).get(emotion)]\n",
    "\n"
   ]
  },
  {
   "cell_type": "markdown",
   "metadata": {},
   "source": [
    "If you can find this for one emotion, then you can find it for a lot of emotions...even a list of emotions. \n",
    "\n",
    "You want to store it in a structure that looks like this: \n",
    "\n",
    "```\n",
    "{\n",
    " 'anger': [],\n",
    " 'anticipation': [],\n",
    " 'disgust': [],\n",
    " 'fear': [],\n",
    " 'joy': ['amazingly', 'sunshine'],\n",
    " 'negative': [],\n",
    " 'positive': ['amazingly', 'prefer', 'sunshine'],\n",
    " 'sadness': ['rainy'],\n",
    " 'surprise': ['amazingly'],\n",
    " 'trust': ['prefer']\n",
    "}\n",
    "```"
   ]
  },
  {
   "cell_type": "markdown",
   "metadata": {},
   "source": [
    "# Formatting into Tables"
   ]
  },
  {
   "cell_type": "code",
   "execution_count": 69,
   "metadata": {},
   "outputs": [
    {
     "name": "stdout",
     "output_type": "stream",
     "text": [
      "{'country': 'Aruba', 'le_1960': 65.56936585, 'le_2013': 75.33217073}\n"
     ]
    }
   ],
   "source": [
    "import csv\n",
    "with open('data/life_expectancy.csv', newline='') as le_file:\n",
    "    le_file.readline()\n",
    "    reader = csv.reader(le_file)\n",
    "    life_expectancy_list = []\n",
    "    for row in reader:\n",
    "        record = {}\n",
    "        record['country'] = row[0]\n",
    "        record['le_1960'] = float(row[3])\n",
    "        record['le_2013'] = float(row[4])\n",
    "        life_expectancy_list.append(record)\n",
    "\n",
    "print(life_expectancy_list[0])"
   ]
  },
  {
   "cell_type": "code",
   "execution_count": 70,
   "metadata": {},
   "outputs": [
    {
     "name": "stdout",
     "output_type": "stream",
     "text": [
      "{'country': 'Afghanistan', 'le_1960': 31.58004878, 'le_2013': 60.93141463, 'change': 29.35136585}\n"
     ]
    }
   ],
   "source": [
    "##Append the change value\n",
    "\n",
    "list_len = len(life_expectancy_list)\n",
    "for i in range(list_len): \n",
    "    ##Convert these values from strings to float in order to subtract them\n",
    "    change = float(life_expectancy_list[i][\"le_2013\"])-float(life_expectancy_list[i][\"le_1960\"])\n",
    "    ##\"append\" the new change value to the end of each dict in the list\n",
    "    life_expectancy_list[i][\"change\"] = change\n",
    "print(life_expectancy_list[1])"
   ]
  },
  {
   "cell_type": "code",
   "execution_count": 72,
   "metadata": {},
   "outputs": [
    {
     "name": "stdout",
     "output_type": "stream",
     "text": [
      "[{'country': 'Aruba', 'le_1960': 65.56936585, 'le_2013': 75.33217073, 'change': 9.762804880000004}, {'country': 'Afghanistan', 'le_1960': 31.58004878, 'le_2013': 60.93141463, 'change': 29.35136585}, {'country': 'Angola', 'le_1960': 32.98482927, 'le_2013': 51.86617073, 'change': 18.88134146}, {'country': 'Albania', 'le_1960': 62.25436585, 'le_2013': 77.5372439, 'change': 15.282878050000008}, {'country': 'United Arab Emirates', 'le_1960': 52.24321951, 'le_2013': 77.13129268, 'change': 24.88807317}, {'country': 'Argentina', 'le_1960': 65.21553659, 'le_2013': 76.18729268, 'change': 10.97175609}, {'country': 'Armenia', 'le_1960': 65.86346341, 'le_2013': 74.5407561, 'change': 8.677292690000002}, {'country': 'Antigua and Barbuda', 'le_1960': 61.78273171, 'le_2013': 75.82929268, 'change': 14.046560969999994}, {'country': 'Australia', 'le_1960': 70.81707317, 'le_2013': 82.19756098, 'change': 11.380487810000005}, {'country': 'Austria', 'le_1960': 68.58560976, 'le_2013': 80.8902439, 'change': 12.304634140000005}, {'country': 'Azerbaijan', 'le_1960': 60.8362439, 'le_2013': 70.69314634, 'change': 9.856902439999999}, {'country': 'Burundi', 'le_1960': 41.23604878, 'le_2013': 54.09719512, 'change': 12.861146340000005}, {'country': 'Belgium', 'le_1960': 69.70195122, 'le_2013': 80.38536585, 'change': 10.683414630000001}, {'country': 'Benin', 'le_1960': 37.27826829, 'le_2013': 59.28756098, 'change': 22.009292690000002}, {'country': 'Burkina Faso', 'le_1960': 34.47790244, 'le_2013': 56.27502439, 'change': 21.797121949999998}, {'country': 'Bangladesh', 'le_1960': 47.02456098, 'le_2013': 70.69339024, 'change': 23.668829260000003}, {'country': 'Bulgaria', 'le_1960': 69.24756098, 'le_2013': 74.46585366, 'change': 5.2182926799999905}, {'country': 'Bahrain', 'le_1960': 52.08936585, 'le_2013': 76.66987805, 'change': 24.580512199999994}, {'country': 'Bahamas, The', 'le_1960': 62.72904878, 'le_2013': 75.07256098, 'change': 12.343512200000006}, {'country': 'Bosnia and Herzegovina', 'le_1960': 60.27621951, 'le_2013': 76.27990244, 'change': 16.003682930000004}, {'country': 'Belarus', 'le_1960': 67.70809756, 'le_2013': 72.47073171, 'change': 4.762634149999997}, {'country': 'Belize', 'le_1960': 59.96136585, 'le_2013': 73.90487805, 'change': 13.943512199999994}, {'country': 'Bolivia', 'le_1960': 42.66812195, 'le_2013': 67.21736585, 'change': 24.549243899999993}, {'country': 'Brazil', 'le_1960': 54.69214634, 'le_2013': 73.88595122, 'change': 19.193804879999995}, {'country': 'Barbados', 'le_1960': 60.76660976, 'le_2013': 75.29641463, 'change': 14.52980487}, {'country': 'Brunei Darussalam', 'le_1960': 62.45756098, 'le_2013': 78.56643902, 'change': 16.108878040000008}, {'country': 'Bhutan', 'le_1960': 32.35936585, 'le_2013': 68.30231707, 'change': 35.94295122}, {'country': 'Botswana', 'le_1960': 50.5362439, 'le_2013': 47.40560976, 'change': -3.130634140000005}, {'country': 'Central African Republic', 'le_1960': 36.48263415, 'le_2013': 50.13680488, 'change': 13.654170729999997}, {'country': 'Canada', 'le_1960': 71.13317073, 'le_2013': 81.40112195, 'change': 10.26795122}, {'country': 'Switzerland', 'le_1960': 71.31341463, 'le_2013': 82.74878049, 'change': 11.435365860000005}, {'country': 'Channel Islands', 'le_1960': 70.63978049, 'le_2013': 80.25953659, 'change': 9.61975609999999}, {'country': 'Chile', 'le_1960': 57.02153659, 'le_2013': 79.83680488, 'change': 22.815268290000006}, {'country': 'China', 'le_1960': 43.46580488, 'le_2013': 75.35302439, 'change': 31.88721951}, {'country': \"Cote d'Ivoire\", 'le_1960': 36.87241463, 'le_2013': 50.75741463, 'change': 13.884999999999998}, {'country': 'Cameroon', 'le_1960': 41.5237561, 'le_2013': 55.04180488, 'change': 13.51804878}, {'country': 'Congo, Dem. Rep.', 'le_1960': 41.01804878, 'le_2013': 49.94385366, 'change': 8.925804880000001}, {'country': 'Congo, Rep.', 'le_1960': 48.58163415, 'le_2013': 58.77, 'change': 10.188365850000004}, {'country': 'Colombia', 'le_1960': 56.7167561, 'le_2013': 73.97882927, 'change': 17.262073170000008}, {'country': 'Comoros', 'le_1960': 43.44195122, 'le_2013': 60.8574878, 'change': 17.41553658}, {'country': 'Cabo Verde', 'le_1960': 49.00136585, 'le_2013': 74.87068293, 'change': 25.869317080000002}, {'country': 'Costa Rica', 'le_1960': 61.60636585, 'le_2013': 79.921, 'change': 18.314634150000003}, {'country': 'Cuba', 'le_1960': 63.90465854, 'le_2013': 79.23926829, 'change': 15.334609749999998}, {'country': 'Cyprus', 'le_1960': 69.59392683, 'le_2013': 79.80431707, 'change': 10.210390239999995}, {'country': 'Czech Republic', 'le_1960': 70.34878049, 'le_2013': 78.27804878, 'change': 7.92926829000001}, {'country': 'Germany', 'le_1960': 69.31295122, 'le_2013': 81.04390244, 'change': 11.730951219999994}, {'country': 'Djibouti', 'le_1960': 44.02126829, 'le_2013': 61.78695122, 'change': 17.765682929999997}, {'country': 'Denmark', 'le_1960': 72.17658537, 'le_2013': 80.30243902, 'change': 8.125853649999996}, {'country': 'Dominican Republic', 'le_1960': 51.84526829, 'le_2013': 73.45095122, 'change': 21.605682929999993}, {'country': 'Algeria', 'le_1960': 46.13512195, 'le_2013': 71.00965854, 'change': 24.874536590000005}, {'country': 'Ecuador', 'le_1960': 53.12443902, 'le_2013': 76.46507317, 'change': 23.34063415}, {'country': 'Egypt, Arab Rep.', 'le_1960': 48.01370732, 'le_2013': 71.13292683, 'change': 23.11921951}, {'country': 'Eritrea', 'le_1960': 37.36290244, 'le_2013': 62.75463415, 'change': 25.391731710000002}, {'country': 'Spain', 'le_1960': 69.10926829, 'le_2013': 82.42682927, 'change': 13.317560979999996}, {'country': 'Estonia', 'le_1960': 67.90597561, 'le_2013': 76.42439024, 'change': 8.518414629999995}, {'country': 'Ethiopia', 'le_1960': 38.40570732, 'le_2013': 63.61734146, 'change': 25.21163414}, {'country': 'Finland', 'le_1960': 68.8197561, 'le_2013': 80.83170732, 'change': 12.01195122}, {'country': 'Fiji', 'le_1960': 55.9584878, 'le_2013': 69.923, 'change': 13.964512200000001}, {'country': 'France', 'le_1960': 69.86829268, 'le_2013': 81.96829268, 'change': 12.100000000000009}, {'country': 'Micronesia, Fed. Sts.', 'le_1960': 57.58658537, 'le_2013': 68.96097561, 'change': 11.374390240000004}, {'country': 'Gabon', 'le_1960': 39.55780488, 'le_2013': 63.441, 'change': 23.883195120000003}, {'country': 'United Kingdom', 'le_1960': 71.12682927, 'le_2013': 80.95609756, 'change': 9.829268290000002}, {'country': 'Georgia', 'le_1960': 63.43185366, 'le_2013': 74.0795122, 'change': 10.647658539999995}, {'country': 'Ghana', 'le_1960': 45.83146341, 'le_2013': 61.09863415, 'change': 15.267170740000005}, {'country': 'Guinea', 'le_1960': 34.88639024, 'le_2013': 56.09165854, 'change': 21.2052683}, {'country': 'Gambia, The', 'le_1960': 32.04221951, 'le_2013': 58.83134146, 'change': 26.789121949999995}, {'country': 'Guinea-Bissau', 'le_1960': 42.14541463, 'le_2013': 54.27170732, 'change': 12.12629269}, {'country': 'Equatorial Guinea', 'le_1960': 36.73304878, 'le_2013': 53.11456098, 'change': 16.381512200000003}, {'country': 'Greece', 'le_1960': 68.16390244, 'le_2013': 80.63414634, 'change': 12.4702439}, {'country': 'Grenada', 'le_1960': 59.81592683, 'le_2013': 72.74134146, 'change': 12.925414629999999}, {'country': 'Guatemala', 'le_1960': 45.53163415, 'le_2013': 71.99282927, 'change': 26.46119512}, {'country': 'Guam', 'le_1960': 61.22634146, 'le_2013': 78.87512195, 'change': 17.648780489999993}, {'country': 'Guyana', 'le_1960': 58.23260976, 'le_2013': 66.20790244, 'change': 7.9752926799999955}, {'country': 'Hong Kong SAR, China', 'le_1960': 66.99970732, 'le_2013': 83.83170732, 'change': 16.832000000000008}, {'country': 'Honduras', 'le_1960': 46.28831707, 'le_2013': 73.80304878, 'change': 27.51473171}, {'country': 'Croatia', 'le_1960': 64.60865854, 'le_2013': 77.12682927, 'change': 12.518170730000008}, {'country': 'Haiti', 'le_1960': 42.159, 'le_2013': 63.05885366, 'change': 20.899853659999998}, {'country': 'Hungary', 'le_1960': 68.00317073, 'le_2013': 75.26829268, 'change': 7.265121950000008}, {'country': 'Indonesia', 'le_1960': 44.8065122, 'le_2013': 70.81743902, 'change': 26.010926819999995}, {'country': 'India', 'le_1960': 41.38363415, 'le_2013': 66.4562439, 'change': 25.072609750000005}, {'country': 'Ireland', 'le_1960': 69.6917561, 'le_2013': 81.04390244, 'change': 11.35214633999999}, {'country': 'Iran, Islamic Rep.', 'le_1960': 44.9455122, 'le_2013': 74.0687561, 'change': 29.1232439}, {'country': 'Iraq', 'le_1960': 48.03068293, 'le_2013': 69.47168293, 'change': 21.441000000000003}, {'country': 'Iceland', 'le_1960': 73.42865854, 'le_2013': 83.11707317, 'change': 9.688414629999997}, {'country': 'Italy', 'le_1960': 69.12390244, 'le_2013': 82.2902439, 'change': 13.166341459999998}, {'country': 'Jamaica', 'le_1960': 64.19182927, 'le_2013': 73.46892683, 'change': 9.277097560000001}, {'country': 'Jordan', 'le_1960': 52.68526829, 'le_2013': 73.90141463, 'change': 21.21614634}, {'country': 'Japan', 'le_1960': 67.66609756, 'le_2013': 83.33195122, 'change': 15.665853659999996}, {'country': 'Kazakhstan', 'le_1960': 58.36758537, 'le_2013': 70.45, 'change': 12.082414630000002}, {'country': 'Kenya', 'le_1960': 46.36241463, 'le_2013': 61.68397561, 'change': 15.321560979999994}, {'country': 'Kyrgyz Republic', 'le_1960': 56.12807317, 'le_2013': 70.20243902, 'change': 14.07436585}, {'country': 'Cambodia', 'le_1960': 41.20129268, 'le_2013': 71.74756098, 'change': 30.5462683}, {'country': 'Kiribati', 'le_1960': 46.875, 'le_2013': 68.84907317, 'change': 21.974073169999997}, {'country': 'Korea, Rep.', 'le_1960': 53.00131707, 'le_2013': 81.4597561, 'change': 28.458439030000008}, {'country': 'Kuwait', 'le_1960': 60.34795122, 'le_2013': 74.4627561, 'change': 14.114804879999994}, {'country': 'Lao PDR', 'le_1960': 43.19292683, 'le_2013': 68.24941463, 'change': 25.056487800000006}, {'country': 'Lebanon', 'le_1960': 63.28012195, 'le_2013': 80.12887805, 'change': 16.848756099999996}, {'country': 'Liberia', 'le_1960': 34.78317073, 'le_2013': 60.53187805, 'change': 25.74870732}, {'country': 'Libya', 'le_1960': 42.64119512, 'le_2013': 75.36168293, 'change': 32.72048781}, {'country': 'St. Lucia', 'le_1960': 57.3037561, 'le_2013': 74.79195122, 'change': 17.48819512}, {'country': 'Sri Lanka', 'le_1960': 59.74714634, 'le_2013': 74.24029268, 'change': 14.493146339999996}, {'country': 'Lesotho', 'le_1960': 46.51070732, 'le_2013': 49.33146341, 'change': 2.820756089999996}, {'country': 'Lithuania', 'le_1960': 69.84731707, 'le_2013': 74.16341463, 'change': 4.316097560000003}, {'country': 'Luxembourg', 'le_1960': 68.44639024, 'le_2013': 81.79756098, 'change': 13.35117074}, {'country': 'Latvia', 'le_1960': 69.78682927, 'le_2013': 73.9804878, 'change': 4.1936585300000075}, {'country': 'Macao SAR, China', 'le_1960': 64.66092683, 'le_2013': 80.3437561, 'change': 15.68282927}, {'country': 'Morocco', 'le_1960': 48.44663415, 'le_2013': 70.87212195, 'change': 22.425487799999992}, {'country': 'Moldova', 'le_1960': 61.81278049, 'le_2013': 68.8115122, 'change': 6.998731709999994}, {'country': 'Madagascar', 'le_1960': 39.97468293, 'le_2013': 64.69139024, 'change': 24.716707310000004}, {'country': 'Maldives', 'le_1960': 35.85960976, 'le_2013': 77.93536585, 'change': 42.07575609}, {'country': 'Mexico', 'le_1960': 57.06563415, 'le_2013': 77.35402439, 'change': 20.288390240000005}, {'country': 'Macedonia, FYR', 'le_1960': 60.62280488, 'le_2013': 75.18802439, 'change': 14.565219509999999}, {'country': 'Mali', 'le_1960': 28.21160976, 'le_2013': 55.0135122, 'change': 26.80190244}, {'country': 'Malta', 'le_1960': 67.60178049, 'le_2013': 80.74634146, 'change': 13.14456097}, {'country': 'Myanmar', 'le_1960': 42.73639024, 'le_2013': 65.09968293, 'change': 22.36329269}, {'country': 'Montenegro', 'le_1960': 63.70560976, 'le_2013': 74.75836585, 'change': 11.052756090000003}, {'country': 'Mongolia', 'le_1960': 48.36880488, 'le_2013': 67.54819512, 'change': 19.179390240000004}, {'country': 'Mozambique', 'le_1960': 35.00370732, 'le_2013': 50.17336585, 'change': 15.169658530000007}, {'country': 'Mauritania', 'le_1960': 43.48309756, 'le_2013': 61.5117561, 'change': 18.028658540000002}, {'country': 'Mauritius', 'le_1960': 58.74521951, 'le_2013': 74.46, 'change': 15.714780489999995}, {'country': 'Malawi', 'le_1960': 37.83558537, 'le_2013': 55.23470732, 'change': 17.39912195}, {'country': 'Malaysia', 'le_1960': 59.47534146, 'le_2013': 75.01626829, 'change': 15.540926829999997}, {'country': 'Namibia', 'le_1960': 46.88039024, 'le_2013': 64.34387805, 'change': 17.463487810000004}, {'country': 'New Caledonia', 'le_1960': 58.63902439, 'le_2013': 77.12195122, 'change': 18.482926829999997}, {'country': 'Niger', 'le_1960': 35.51504878, 'le_2013': 58.44270732, 'change': 22.927658539999996}, {'country': 'Nigeria', 'le_1960': 37.18295122, 'le_2013': 52.49978049, 'change': 15.31682927}, {'country': 'Nicaragua', 'le_1960': 46.99882927, 'le_2013': 74.78817073, 'change': 27.789341460000003}, {'country': 'Netherlands', 'le_1960': 73.39268293, 'le_2013': 81.10487805, 'change': 7.71219511999999}, {'country': 'Norway', 'le_1960': 73.5497561, 'le_2013': 81.45121951, 'change': 7.901463410000005}, {'country': 'Nepal', 'le_1960': 38.45563415, 'le_2013': 68.40385366, 'change': 29.948219509999994}, {'country': 'New Zealand', 'le_1960': 71.23658537, 'le_2013': 81.40731707, 'change': 10.170731700000005}, {'country': 'Oman', 'le_1960': 42.66707317, 'le_2013': 76.85202439, 'change': 34.184951219999995}, {'country': 'Pakistan', 'le_1960': 46.43373171, 'le_2013': 66.58536585, 'change': 20.15163414}, {'country': 'Panama', 'le_1960': 60.87682927, 'le_2013': 77.57895122, 'change': 16.70212194999999}, {'country': 'Peru', 'le_1960': 47.69158537, 'le_2013': 74.81460976, 'change': 27.123024389999998}, {'country': 'Philippines', 'le_1960': 57.81192683, 'le_2013': 68.7144878, 'change': 10.902560970000003}, {'country': 'Papua New Guinea', 'le_1960': 38.4622439, 'le_2013': 62.43073171, 'change': 23.968487810000006}, {'country': 'Poland', 'le_1960': 67.6804878, 'le_2013': 76.84878049, 'change': 9.168292690000001}, {'country': 'Puerto Rico', 'le_1960': 68.71960976, 'le_2013': 78.71119512, 'change': 9.991585360000002}, {'country': 'Korea, Dem. Rep.', 'le_1960': 51.07717073, 'le_2013': 69.80695122, 'change': 18.729780490000003}, {'country': 'Portugal', 'le_1960': 62.80892683, 'le_2013': 80.37317073, 'change': 17.5642439}, {'country': 'Paraguay', 'le_1960': 63.79370732, 'le_2013': 72.2734878, 'change': 8.479780479999995}, {'country': 'French Polynesia', 'le_1960': 56.35704878, 'le_2013': 76.33904878, 'change': 19.982}, {'country': 'Qatar', 'le_1960': 61.24790244, 'le_2013': 78.60690244, 'change': 17.359}, {'country': 'Romania', 'le_1960': 65.64243902, 'le_2013': 74.46341463, 'change': 8.820975610000005}, {'country': 'Russian Federation', 'le_1960': 66.05529268, 'le_2013': 71.07317073, 'change': 5.017878050000007}, {'country': 'Rwanda', 'le_1960': 42.24929268, 'le_2013': 63.99397561, 'change': 21.744682929999996}, {'country': 'Saudi Arabia', 'le_1960': 45.66626829, 'le_2013': 75.70336585, 'change': 30.03709756}, {'country': 'Sudan', 'le_1960': 48.18763415, 'le_2013': 62.0444878, 'change': 13.856853649999998}, {'country': 'Senegal', 'le_1960': 38.206, 'le_2013': 63.35073171, 'change': 25.144731709999995}, {'country': 'Singapore', 'le_1960': 65.65982927, 'le_2013': 82.34634146, 'change': 16.686512190000002}, {'country': 'Solomon Islands', 'le_1960': 49.38170732, 'le_2013': 67.71690244, 'change': 18.33519512}, {'country': 'Sierra Leone', 'le_1960': 30.33153659, 'le_2013': 45.55095122, 'change': 15.219414630000003}, {'country': 'El Salvador', 'le_1960': 51.29931707, 'le_2013': 72.33892683, 'change': 21.039609760000005}, {'country': 'Somalia', 'le_1960': 36.96587805, 'le_2013': 55.0245122, 'change': 18.058634149999996}, {'country': 'South Sudan', 'le_1960': 31.67670732, 'le_2013': 55.24121951, 'change': 23.564512190000002}, {'country': 'Sao Tome and Principe', 'le_1960': 50.45136585, 'le_2013': 66.26097561, 'change': 15.80960976}, {'country': 'Suriname', 'le_1960': 59.68012195, 'le_2013': 71.03163415, 'change': 11.351512200000002}, {'country': 'Slovak Republic', 'le_1960': 69.97592683, 'le_2013': 76.26097561, 'change': 6.285048779999997}, {'country': 'Slovenia', 'le_1960': 68.97804878, 'le_2013': 80.27804878, 'change': 11.300000000000011}, {'country': 'Sweden', 'le_1960': 73.00560976, 'le_2013': 81.70487805, 'change': 8.699268290000006}, {'country': 'Swaziland', 'le_1960': 44.23378049, 'le_2013': 48.93792683, 'change': 4.704146340000001}, {'country': 'Syrian Arab Republic', 'le_1960': 52.7682439, 'le_2013': 74.71578049, 'change': 21.94753659}, {'country': 'Chad', 'le_1960': 38.01612195, 'le_2013': 51.15907317, 'change': 13.14295122}, {'country': 'Togo', 'le_1960': 40.27282927, 'le_2013': 56.4885122, 'change': 16.21568293}, {'country': 'Thailand', 'le_1960': 55.23836585, 'le_2013': 74.36507317, 'change': 19.12670732}, {'country': 'Tajikistan', 'le_1960': 56.15353659, 'le_2013': 67.37460976, 'change': 11.221073169999997}, {'country': 'Turkmenistan', 'le_1960': 54.45868293, 'le_2013': 65.46258537, 'change': 11.003902439999997}, {'country': 'Timor-Leste', 'le_1960': 33.72712195, 'le_2013': 67.52236585, 'change': 33.7952439}, {'country': 'Tonga', 'le_1960': 61.36453659, 'le_2013': 72.64231707, 'change': 11.277780480000004}, {'country': 'Trinidad and Tobago', 'le_1960': 62.65758537, 'le_2013': 69.92521951, 'change': 7.2676341400000055}, {'country': 'Tunisia', 'le_1960': 42.0097561, 'le_2013': 73.64634146, 'change': 31.636585360000005}, {'country': 'Turkey', 'le_1960': 45.38441463, 'le_2013': 75.17595122, 'change': 29.79153659}, {'country': 'Tanzania', 'le_1960': 43.65387805, 'le_2013': 61.49314634, 'change': 17.83926829}, {'country': 'Uganda', 'le_1960': 43.98356098, 'le_2013': 59.19, 'change': 15.206439019999998}, {'country': 'Ukraine', 'le_1960': 68.29953659, 'le_2013': 71.1595122, 'change': 2.8599756099999922}, {'country': 'Uruguay', 'le_1960': 67.89587805, 'le_2013': 77.05141463, 'change': 9.155536580000003}, {'country': 'United States', 'le_1960': 69.77073171, 'le_2013': 78.84146341, 'change': 9.070731699999996}, {'country': 'Uzbekistan', 'le_1960': 58.88553659, 'le_2013': 68.22758537, 'change': 9.342048779999999}, {'country': 'St. Vincent and the Grenadines', 'le_1960': 57.72387805, 'le_2013': 72.50097561, 'change': 14.777097559999994}, {'country': 'Venezuela, RB', 'le_1960': 59.52919512, 'le_2013': 74.64309756, 'change': 15.113902440000004}, {'country': 'Virgin Islands (U.S.)', 'le_1960': 63.73021951, 'le_2013': 79.62439024, 'change': 15.894170729999999}, {'country': 'Vietnam', 'le_1960': 59.06702439, 'le_2013': 75.7564878, 'change': 16.689463410000002}, {'country': 'Vanuatu', 'le_1960': 46.4874878, 'le_2013': 71.68682927, 'change': 25.199341470000007}, {'country': 'Samoa', 'le_1960': 49.9695122, 'le_2013': 73.26487805, 'change': 23.295365849999996}, {'country': 'Yemen, Rep.', 'le_1960': 32.38565854, 'le_2013': 63.08958537, 'change': 30.70392683}, {'country': 'South Africa', 'le_1960': 49.03629268, 'le_2013': 56.73658537, 'change': 7.700292689999998}, {'country': 'Zambia', 'le_1960': 45.10980488, 'le_2013': 58.09278049, 'change': 12.982975610000004}, {'country': 'Zimbabwe', 'le_1960': 51.54246341, 'le_2013': 59.7734878, 'change': 8.231024389999995}]\n"
     ]
    }
   ],
   "source": [
    "#print...that looks ugly\n",
    "print(life_expectancy_list)\n"
   ]
  },
  {
   "cell_type": "code",
   "execution_count": 73,
   "metadata": {},
   "outputs": [
    {
     "name": "stdout",
     "output_type": "stream",
     "text": [
      "{'country': 'Aruba', 'le_1960': 65.56936585, 'le_2013': 75.33217073, 'change': 9.762804880000004}\n",
      "{'country': 'Afghanistan', 'le_1960': 31.58004878, 'le_2013': 60.93141463, 'change': 29.35136585}\n",
      "{'country': 'Angola', 'le_1960': 32.98482927, 'le_2013': 51.86617073, 'change': 18.88134146}\n",
      "{'country': 'Albania', 'le_1960': 62.25436585, 'le_2013': 77.5372439, 'change': 15.282878050000008}\n",
      "{'country': 'United Arab Emirates', 'le_1960': 52.24321951, 'le_2013': 77.13129268, 'change': 24.88807317}\n",
      "{'country': 'Argentina', 'le_1960': 65.21553659, 'le_2013': 76.18729268, 'change': 10.97175609}\n",
      "{'country': 'Armenia', 'le_1960': 65.86346341, 'le_2013': 74.5407561, 'change': 8.677292690000002}\n",
      "{'country': 'Antigua and Barbuda', 'le_1960': 61.78273171, 'le_2013': 75.82929268, 'change': 14.046560969999994}\n",
      "{'country': 'Australia', 'le_1960': 70.81707317, 'le_2013': 82.19756098, 'change': 11.380487810000005}\n",
      "{'country': 'Austria', 'le_1960': 68.58560976, 'le_2013': 80.8902439, 'change': 12.304634140000005}\n",
      "{'country': 'Azerbaijan', 'le_1960': 60.8362439, 'le_2013': 70.69314634, 'change': 9.856902439999999}\n",
      "{'country': 'Burundi', 'le_1960': 41.23604878, 'le_2013': 54.09719512, 'change': 12.861146340000005}\n",
      "{'country': 'Belgium', 'le_1960': 69.70195122, 'le_2013': 80.38536585, 'change': 10.683414630000001}\n",
      "{'country': 'Benin', 'le_1960': 37.27826829, 'le_2013': 59.28756098, 'change': 22.009292690000002}\n",
      "{'country': 'Burkina Faso', 'le_1960': 34.47790244, 'le_2013': 56.27502439, 'change': 21.797121949999998}\n",
      "{'country': 'Bangladesh', 'le_1960': 47.02456098, 'le_2013': 70.69339024, 'change': 23.668829260000003}\n",
      "{'country': 'Bulgaria', 'le_1960': 69.24756098, 'le_2013': 74.46585366, 'change': 5.2182926799999905}\n",
      "{'country': 'Bahrain', 'le_1960': 52.08936585, 'le_2013': 76.66987805, 'change': 24.580512199999994}\n",
      "{'country': 'Bahamas, The', 'le_1960': 62.72904878, 'le_2013': 75.07256098, 'change': 12.343512200000006}\n",
      "{'country': 'Bosnia and Herzegovina', 'le_1960': 60.27621951, 'le_2013': 76.27990244, 'change': 16.003682930000004}\n",
      "{'country': 'Belarus', 'le_1960': 67.70809756, 'le_2013': 72.47073171, 'change': 4.762634149999997}\n",
      "{'country': 'Belize', 'le_1960': 59.96136585, 'le_2013': 73.90487805, 'change': 13.943512199999994}\n",
      "{'country': 'Bolivia', 'le_1960': 42.66812195, 'le_2013': 67.21736585, 'change': 24.549243899999993}\n",
      "{'country': 'Brazil', 'le_1960': 54.69214634, 'le_2013': 73.88595122, 'change': 19.193804879999995}\n",
      "{'country': 'Barbados', 'le_1960': 60.76660976, 'le_2013': 75.29641463, 'change': 14.52980487}\n",
      "{'country': 'Brunei Darussalam', 'le_1960': 62.45756098, 'le_2013': 78.56643902, 'change': 16.108878040000008}\n",
      "{'country': 'Bhutan', 'le_1960': 32.35936585, 'le_2013': 68.30231707, 'change': 35.94295122}\n",
      "{'country': 'Botswana', 'le_1960': 50.5362439, 'le_2013': 47.40560976, 'change': -3.130634140000005}\n",
      "{'country': 'Central African Republic', 'le_1960': 36.48263415, 'le_2013': 50.13680488, 'change': 13.654170729999997}\n",
      "{'country': 'Canada', 'le_1960': 71.13317073, 'le_2013': 81.40112195, 'change': 10.26795122}\n",
      "{'country': 'Switzerland', 'le_1960': 71.31341463, 'le_2013': 82.74878049, 'change': 11.435365860000005}\n",
      "{'country': 'Channel Islands', 'le_1960': 70.63978049, 'le_2013': 80.25953659, 'change': 9.61975609999999}\n",
      "{'country': 'Chile', 'le_1960': 57.02153659, 'le_2013': 79.83680488, 'change': 22.815268290000006}\n",
      "{'country': 'China', 'le_1960': 43.46580488, 'le_2013': 75.35302439, 'change': 31.88721951}\n",
      "{'country': \"Cote d'Ivoire\", 'le_1960': 36.87241463, 'le_2013': 50.75741463, 'change': 13.884999999999998}\n",
      "{'country': 'Cameroon', 'le_1960': 41.5237561, 'le_2013': 55.04180488, 'change': 13.51804878}\n",
      "{'country': 'Congo, Dem. Rep.', 'le_1960': 41.01804878, 'le_2013': 49.94385366, 'change': 8.925804880000001}\n",
      "{'country': 'Congo, Rep.', 'le_1960': 48.58163415, 'le_2013': 58.77, 'change': 10.188365850000004}\n",
      "{'country': 'Colombia', 'le_1960': 56.7167561, 'le_2013': 73.97882927, 'change': 17.262073170000008}\n",
      "{'country': 'Comoros', 'le_1960': 43.44195122, 'le_2013': 60.8574878, 'change': 17.41553658}\n",
      "{'country': 'Cabo Verde', 'le_1960': 49.00136585, 'le_2013': 74.87068293, 'change': 25.869317080000002}\n",
      "{'country': 'Costa Rica', 'le_1960': 61.60636585, 'le_2013': 79.921, 'change': 18.314634150000003}\n",
      "{'country': 'Cuba', 'le_1960': 63.90465854, 'le_2013': 79.23926829, 'change': 15.334609749999998}\n",
      "{'country': 'Cyprus', 'le_1960': 69.59392683, 'le_2013': 79.80431707, 'change': 10.210390239999995}\n",
      "{'country': 'Czech Republic', 'le_1960': 70.34878049, 'le_2013': 78.27804878, 'change': 7.92926829000001}\n",
      "{'country': 'Germany', 'le_1960': 69.31295122, 'le_2013': 81.04390244, 'change': 11.730951219999994}\n",
      "{'country': 'Djibouti', 'le_1960': 44.02126829, 'le_2013': 61.78695122, 'change': 17.765682929999997}\n",
      "{'country': 'Denmark', 'le_1960': 72.17658537, 'le_2013': 80.30243902, 'change': 8.125853649999996}\n",
      "{'country': 'Dominican Republic', 'le_1960': 51.84526829, 'le_2013': 73.45095122, 'change': 21.605682929999993}\n",
      "{'country': 'Algeria', 'le_1960': 46.13512195, 'le_2013': 71.00965854, 'change': 24.874536590000005}\n",
      "{'country': 'Ecuador', 'le_1960': 53.12443902, 'le_2013': 76.46507317, 'change': 23.34063415}\n",
      "{'country': 'Egypt, Arab Rep.', 'le_1960': 48.01370732, 'le_2013': 71.13292683, 'change': 23.11921951}\n",
      "{'country': 'Eritrea', 'le_1960': 37.36290244, 'le_2013': 62.75463415, 'change': 25.391731710000002}\n",
      "{'country': 'Spain', 'le_1960': 69.10926829, 'le_2013': 82.42682927, 'change': 13.317560979999996}\n",
      "{'country': 'Estonia', 'le_1960': 67.90597561, 'le_2013': 76.42439024, 'change': 8.518414629999995}\n",
      "{'country': 'Ethiopia', 'le_1960': 38.40570732, 'le_2013': 63.61734146, 'change': 25.21163414}\n",
      "{'country': 'Finland', 'le_1960': 68.8197561, 'le_2013': 80.83170732, 'change': 12.01195122}\n",
      "{'country': 'Fiji', 'le_1960': 55.9584878, 'le_2013': 69.923, 'change': 13.964512200000001}\n",
      "{'country': 'France', 'le_1960': 69.86829268, 'le_2013': 81.96829268, 'change': 12.100000000000009}\n",
      "{'country': 'Micronesia, Fed. Sts.', 'le_1960': 57.58658537, 'le_2013': 68.96097561, 'change': 11.374390240000004}\n",
      "{'country': 'Gabon', 'le_1960': 39.55780488, 'le_2013': 63.441, 'change': 23.883195120000003}\n",
      "{'country': 'United Kingdom', 'le_1960': 71.12682927, 'le_2013': 80.95609756, 'change': 9.829268290000002}\n",
      "{'country': 'Georgia', 'le_1960': 63.43185366, 'le_2013': 74.0795122, 'change': 10.647658539999995}\n",
      "{'country': 'Ghana', 'le_1960': 45.83146341, 'le_2013': 61.09863415, 'change': 15.267170740000005}\n",
      "{'country': 'Guinea', 'le_1960': 34.88639024, 'le_2013': 56.09165854, 'change': 21.2052683}\n",
      "{'country': 'Gambia, The', 'le_1960': 32.04221951, 'le_2013': 58.83134146, 'change': 26.789121949999995}\n",
      "{'country': 'Guinea-Bissau', 'le_1960': 42.14541463, 'le_2013': 54.27170732, 'change': 12.12629269}\n",
      "{'country': 'Equatorial Guinea', 'le_1960': 36.73304878, 'le_2013': 53.11456098, 'change': 16.381512200000003}\n",
      "{'country': 'Greece', 'le_1960': 68.16390244, 'le_2013': 80.63414634, 'change': 12.4702439}\n",
      "{'country': 'Grenada', 'le_1960': 59.81592683, 'le_2013': 72.74134146, 'change': 12.925414629999999}\n",
      "{'country': 'Guatemala', 'le_1960': 45.53163415, 'le_2013': 71.99282927, 'change': 26.46119512}\n",
      "{'country': 'Guam', 'le_1960': 61.22634146, 'le_2013': 78.87512195, 'change': 17.648780489999993}\n",
      "{'country': 'Guyana', 'le_1960': 58.23260976, 'le_2013': 66.20790244, 'change': 7.9752926799999955}\n",
      "{'country': 'Hong Kong SAR, China', 'le_1960': 66.99970732, 'le_2013': 83.83170732, 'change': 16.832000000000008}\n",
      "{'country': 'Honduras', 'le_1960': 46.28831707, 'le_2013': 73.80304878, 'change': 27.51473171}\n",
      "{'country': 'Croatia', 'le_1960': 64.60865854, 'le_2013': 77.12682927, 'change': 12.518170730000008}\n",
      "{'country': 'Haiti', 'le_1960': 42.159, 'le_2013': 63.05885366, 'change': 20.899853659999998}\n",
      "{'country': 'Hungary', 'le_1960': 68.00317073, 'le_2013': 75.26829268, 'change': 7.265121950000008}\n",
      "{'country': 'Indonesia', 'le_1960': 44.8065122, 'le_2013': 70.81743902, 'change': 26.010926819999995}\n",
      "{'country': 'India', 'le_1960': 41.38363415, 'le_2013': 66.4562439, 'change': 25.072609750000005}\n",
      "{'country': 'Ireland', 'le_1960': 69.6917561, 'le_2013': 81.04390244, 'change': 11.35214633999999}\n",
      "{'country': 'Iran, Islamic Rep.', 'le_1960': 44.9455122, 'le_2013': 74.0687561, 'change': 29.1232439}\n",
      "{'country': 'Iraq', 'le_1960': 48.03068293, 'le_2013': 69.47168293, 'change': 21.441000000000003}\n",
      "{'country': 'Iceland', 'le_1960': 73.42865854, 'le_2013': 83.11707317, 'change': 9.688414629999997}\n",
      "{'country': 'Italy', 'le_1960': 69.12390244, 'le_2013': 82.2902439, 'change': 13.166341459999998}\n",
      "{'country': 'Jamaica', 'le_1960': 64.19182927, 'le_2013': 73.46892683, 'change': 9.277097560000001}\n",
      "{'country': 'Jordan', 'le_1960': 52.68526829, 'le_2013': 73.90141463, 'change': 21.21614634}\n",
      "{'country': 'Japan', 'le_1960': 67.66609756, 'le_2013': 83.33195122, 'change': 15.665853659999996}\n",
      "{'country': 'Kazakhstan', 'le_1960': 58.36758537, 'le_2013': 70.45, 'change': 12.082414630000002}\n",
      "{'country': 'Kenya', 'le_1960': 46.36241463, 'le_2013': 61.68397561, 'change': 15.321560979999994}\n",
      "{'country': 'Kyrgyz Republic', 'le_1960': 56.12807317, 'le_2013': 70.20243902, 'change': 14.07436585}\n",
      "{'country': 'Cambodia', 'le_1960': 41.20129268, 'le_2013': 71.74756098, 'change': 30.5462683}\n",
      "{'country': 'Kiribati', 'le_1960': 46.875, 'le_2013': 68.84907317, 'change': 21.974073169999997}\n",
      "{'country': 'Korea, Rep.', 'le_1960': 53.00131707, 'le_2013': 81.4597561, 'change': 28.458439030000008}\n",
      "{'country': 'Kuwait', 'le_1960': 60.34795122, 'le_2013': 74.4627561, 'change': 14.114804879999994}\n",
      "{'country': 'Lao PDR', 'le_1960': 43.19292683, 'le_2013': 68.24941463, 'change': 25.056487800000006}\n",
      "{'country': 'Lebanon', 'le_1960': 63.28012195, 'le_2013': 80.12887805, 'change': 16.848756099999996}\n",
      "{'country': 'Liberia', 'le_1960': 34.78317073, 'le_2013': 60.53187805, 'change': 25.74870732}\n",
      "{'country': 'Libya', 'le_1960': 42.64119512, 'le_2013': 75.36168293, 'change': 32.72048781}\n",
      "{'country': 'St. Lucia', 'le_1960': 57.3037561, 'le_2013': 74.79195122, 'change': 17.48819512}\n",
      "{'country': 'Sri Lanka', 'le_1960': 59.74714634, 'le_2013': 74.24029268, 'change': 14.493146339999996}\n",
      "{'country': 'Lesotho', 'le_1960': 46.51070732, 'le_2013': 49.33146341, 'change': 2.820756089999996}\n",
      "{'country': 'Lithuania', 'le_1960': 69.84731707, 'le_2013': 74.16341463, 'change': 4.316097560000003}\n",
      "{'country': 'Luxembourg', 'le_1960': 68.44639024, 'le_2013': 81.79756098, 'change': 13.35117074}\n",
      "{'country': 'Latvia', 'le_1960': 69.78682927, 'le_2013': 73.9804878, 'change': 4.1936585300000075}\n",
      "{'country': 'Macao SAR, China', 'le_1960': 64.66092683, 'le_2013': 80.3437561, 'change': 15.68282927}\n",
      "{'country': 'Morocco', 'le_1960': 48.44663415, 'le_2013': 70.87212195, 'change': 22.425487799999992}\n",
      "{'country': 'Moldova', 'le_1960': 61.81278049, 'le_2013': 68.8115122, 'change': 6.998731709999994}\n",
      "{'country': 'Madagascar', 'le_1960': 39.97468293, 'le_2013': 64.69139024, 'change': 24.716707310000004}\n",
      "{'country': 'Maldives', 'le_1960': 35.85960976, 'le_2013': 77.93536585, 'change': 42.07575609}\n",
      "{'country': 'Mexico', 'le_1960': 57.06563415, 'le_2013': 77.35402439, 'change': 20.288390240000005}\n",
      "{'country': 'Macedonia, FYR', 'le_1960': 60.62280488, 'le_2013': 75.18802439, 'change': 14.565219509999999}\n",
      "{'country': 'Mali', 'le_1960': 28.21160976, 'le_2013': 55.0135122, 'change': 26.80190244}\n",
      "{'country': 'Malta', 'le_1960': 67.60178049, 'le_2013': 80.74634146, 'change': 13.14456097}\n",
      "{'country': 'Myanmar', 'le_1960': 42.73639024, 'le_2013': 65.09968293, 'change': 22.36329269}\n",
      "{'country': 'Montenegro', 'le_1960': 63.70560976, 'le_2013': 74.75836585, 'change': 11.052756090000003}\n",
      "{'country': 'Mongolia', 'le_1960': 48.36880488, 'le_2013': 67.54819512, 'change': 19.179390240000004}\n",
      "{'country': 'Mozambique', 'le_1960': 35.00370732, 'le_2013': 50.17336585, 'change': 15.169658530000007}\n",
      "{'country': 'Mauritania', 'le_1960': 43.48309756, 'le_2013': 61.5117561, 'change': 18.028658540000002}\n",
      "{'country': 'Mauritius', 'le_1960': 58.74521951, 'le_2013': 74.46, 'change': 15.714780489999995}\n",
      "{'country': 'Malawi', 'le_1960': 37.83558537, 'le_2013': 55.23470732, 'change': 17.39912195}\n",
      "{'country': 'Malaysia', 'le_1960': 59.47534146, 'le_2013': 75.01626829, 'change': 15.540926829999997}\n",
      "{'country': 'Namibia', 'le_1960': 46.88039024, 'le_2013': 64.34387805, 'change': 17.463487810000004}\n",
      "{'country': 'New Caledonia', 'le_1960': 58.63902439, 'le_2013': 77.12195122, 'change': 18.482926829999997}\n",
      "{'country': 'Niger', 'le_1960': 35.51504878, 'le_2013': 58.44270732, 'change': 22.927658539999996}\n",
      "{'country': 'Nigeria', 'le_1960': 37.18295122, 'le_2013': 52.49978049, 'change': 15.31682927}\n",
      "{'country': 'Nicaragua', 'le_1960': 46.99882927, 'le_2013': 74.78817073, 'change': 27.789341460000003}\n",
      "{'country': 'Netherlands', 'le_1960': 73.39268293, 'le_2013': 81.10487805, 'change': 7.71219511999999}\n",
      "{'country': 'Norway', 'le_1960': 73.5497561, 'le_2013': 81.45121951, 'change': 7.901463410000005}\n",
      "{'country': 'Nepal', 'le_1960': 38.45563415, 'le_2013': 68.40385366, 'change': 29.948219509999994}\n",
      "{'country': 'New Zealand', 'le_1960': 71.23658537, 'le_2013': 81.40731707, 'change': 10.170731700000005}\n",
      "{'country': 'Oman', 'le_1960': 42.66707317, 'le_2013': 76.85202439, 'change': 34.184951219999995}\n",
      "{'country': 'Pakistan', 'le_1960': 46.43373171, 'le_2013': 66.58536585, 'change': 20.15163414}\n",
      "{'country': 'Panama', 'le_1960': 60.87682927, 'le_2013': 77.57895122, 'change': 16.70212194999999}\n",
      "{'country': 'Peru', 'le_1960': 47.69158537, 'le_2013': 74.81460976, 'change': 27.123024389999998}\n",
      "{'country': 'Philippines', 'le_1960': 57.81192683, 'le_2013': 68.7144878, 'change': 10.902560970000003}\n",
      "{'country': 'Papua New Guinea', 'le_1960': 38.4622439, 'le_2013': 62.43073171, 'change': 23.968487810000006}\n",
      "{'country': 'Poland', 'le_1960': 67.6804878, 'le_2013': 76.84878049, 'change': 9.168292690000001}\n",
      "{'country': 'Puerto Rico', 'le_1960': 68.71960976, 'le_2013': 78.71119512, 'change': 9.991585360000002}\n",
      "{'country': 'Korea, Dem. Rep.', 'le_1960': 51.07717073, 'le_2013': 69.80695122, 'change': 18.729780490000003}\n",
      "{'country': 'Portugal', 'le_1960': 62.80892683, 'le_2013': 80.37317073, 'change': 17.5642439}\n",
      "{'country': 'Paraguay', 'le_1960': 63.79370732, 'le_2013': 72.2734878, 'change': 8.479780479999995}\n",
      "{'country': 'French Polynesia', 'le_1960': 56.35704878, 'le_2013': 76.33904878, 'change': 19.982}\n",
      "{'country': 'Qatar', 'le_1960': 61.24790244, 'le_2013': 78.60690244, 'change': 17.359}\n",
      "{'country': 'Romania', 'le_1960': 65.64243902, 'le_2013': 74.46341463, 'change': 8.820975610000005}\n",
      "{'country': 'Russian Federation', 'le_1960': 66.05529268, 'le_2013': 71.07317073, 'change': 5.017878050000007}\n",
      "{'country': 'Rwanda', 'le_1960': 42.24929268, 'le_2013': 63.99397561, 'change': 21.744682929999996}\n",
      "{'country': 'Saudi Arabia', 'le_1960': 45.66626829, 'le_2013': 75.70336585, 'change': 30.03709756}\n",
      "{'country': 'Sudan', 'le_1960': 48.18763415, 'le_2013': 62.0444878, 'change': 13.856853649999998}\n",
      "{'country': 'Senegal', 'le_1960': 38.206, 'le_2013': 63.35073171, 'change': 25.144731709999995}\n",
      "{'country': 'Singapore', 'le_1960': 65.65982927, 'le_2013': 82.34634146, 'change': 16.686512190000002}\n",
      "{'country': 'Solomon Islands', 'le_1960': 49.38170732, 'le_2013': 67.71690244, 'change': 18.33519512}\n",
      "{'country': 'Sierra Leone', 'le_1960': 30.33153659, 'le_2013': 45.55095122, 'change': 15.219414630000003}\n",
      "{'country': 'El Salvador', 'le_1960': 51.29931707, 'le_2013': 72.33892683, 'change': 21.039609760000005}\n",
      "{'country': 'Somalia', 'le_1960': 36.96587805, 'le_2013': 55.0245122, 'change': 18.058634149999996}\n",
      "{'country': 'South Sudan', 'le_1960': 31.67670732, 'le_2013': 55.24121951, 'change': 23.564512190000002}\n",
      "{'country': 'Sao Tome and Principe', 'le_1960': 50.45136585, 'le_2013': 66.26097561, 'change': 15.80960976}\n",
      "{'country': 'Suriname', 'le_1960': 59.68012195, 'le_2013': 71.03163415, 'change': 11.351512200000002}\n",
      "{'country': 'Slovak Republic', 'le_1960': 69.97592683, 'le_2013': 76.26097561, 'change': 6.285048779999997}\n",
      "{'country': 'Slovenia', 'le_1960': 68.97804878, 'le_2013': 80.27804878, 'change': 11.300000000000011}\n",
      "{'country': 'Sweden', 'le_1960': 73.00560976, 'le_2013': 81.70487805, 'change': 8.699268290000006}\n",
      "{'country': 'Swaziland', 'le_1960': 44.23378049, 'le_2013': 48.93792683, 'change': 4.704146340000001}\n",
      "{'country': 'Syrian Arab Republic', 'le_1960': 52.7682439, 'le_2013': 74.71578049, 'change': 21.94753659}\n",
      "{'country': 'Chad', 'le_1960': 38.01612195, 'le_2013': 51.15907317, 'change': 13.14295122}\n",
      "{'country': 'Togo', 'le_1960': 40.27282927, 'le_2013': 56.4885122, 'change': 16.21568293}\n",
      "{'country': 'Thailand', 'le_1960': 55.23836585, 'le_2013': 74.36507317, 'change': 19.12670732}\n",
      "{'country': 'Tajikistan', 'le_1960': 56.15353659, 'le_2013': 67.37460976, 'change': 11.221073169999997}\n",
      "{'country': 'Turkmenistan', 'le_1960': 54.45868293, 'le_2013': 65.46258537, 'change': 11.003902439999997}\n",
      "{'country': 'Timor-Leste', 'le_1960': 33.72712195, 'le_2013': 67.52236585, 'change': 33.7952439}\n",
      "{'country': 'Tonga', 'le_1960': 61.36453659, 'le_2013': 72.64231707, 'change': 11.277780480000004}\n",
      "{'country': 'Trinidad and Tobago', 'le_1960': 62.65758537, 'le_2013': 69.92521951, 'change': 7.2676341400000055}\n",
      "{'country': 'Tunisia', 'le_1960': 42.0097561, 'le_2013': 73.64634146, 'change': 31.636585360000005}\n",
      "{'country': 'Turkey', 'le_1960': 45.38441463, 'le_2013': 75.17595122, 'change': 29.79153659}\n",
      "{'country': 'Tanzania', 'le_1960': 43.65387805, 'le_2013': 61.49314634, 'change': 17.83926829}\n",
      "{'country': 'Uganda', 'le_1960': 43.98356098, 'le_2013': 59.19, 'change': 15.206439019999998}\n",
      "{'country': 'Ukraine', 'le_1960': 68.29953659, 'le_2013': 71.1595122, 'change': 2.8599756099999922}\n",
      "{'country': 'Uruguay', 'le_1960': 67.89587805, 'le_2013': 77.05141463, 'change': 9.155536580000003}\n",
      "{'country': 'United States', 'le_1960': 69.77073171, 'le_2013': 78.84146341, 'change': 9.070731699999996}\n",
      "{'country': 'Uzbekistan', 'le_1960': 58.88553659, 'le_2013': 68.22758537, 'change': 9.342048779999999}\n",
      "{'country': 'St. Vincent and the Grenadines', 'le_1960': 57.72387805, 'le_2013': 72.50097561, 'change': 14.777097559999994}\n",
      "{'country': 'Venezuela, RB', 'le_1960': 59.52919512, 'le_2013': 74.64309756, 'change': 15.113902440000004}\n",
      "{'country': 'Virgin Islands (U.S.)', 'le_1960': 63.73021951, 'le_2013': 79.62439024, 'change': 15.894170729999999}\n",
      "{'country': 'Vietnam', 'le_1960': 59.06702439, 'le_2013': 75.7564878, 'change': 16.689463410000002}\n",
      "{'country': 'Vanuatu', 'le_1960': 46.4874878, 'le_2013': 71.68682927, 'change': 25.199341470000007}\n",
      "{'country': 'Samoa', 'le_1960': 49.9695122, 'le_2013': 73.26487805, 'change': 23.295365849999996}\n",
      "{'country': 'Yemen, Rep.', 'le_1960': 32.38565854, 'le_2013': 63.08958537, 'change': 30.70392683}\n",
      "{'country': 'South Africa', 'le_1960': 49.03629268, 'le_2013': 56.73658537, 'change': 7.700292689999998}\n",
      "{'country': 'Zambia', 'le_1960': 45.10980488, 'le_2013': 58.09278049, 'change': 12.982975610000004}\n",
      "{'country': 'Zimbabwe', 'le_1960': 51.54246341, 'le_2013': 59.7734878, 'change': 8.231024389999995}\n"
     ]
    }
   ],
   "source": [
    "#loop and print, that's a little better\n",
    "for country in life_expectancy_list: \n",
    "    print(country)\n"
   ]
  },
  {
   "cell_type": "markdown",
   "metadata": {},
   "source": [
    "### Create a function that will display your information"
   ]
  },
  {
   "cell_type": "code",
   "execution_count": 87,
   "metadata": {},
   "outputs": [
    {
     "name": "stdout",
     "output_type": "stream",
     "text": [
      "{'country': 'Aruba', 'le_1960': 65.56936585, 'le_2013': 75.33217073, 'change': 9.762804880000004}\n",
      "{'country': 'Afghanistan', 'le_1960': 31.58004878, 'le_2013': 60.93141463, 'change': 29.35136585}\n",
      "{'country': 'Angola', 'le_1960': 32.98482927, 'le_2013': 51.86617073, 'change': 18.88134146}\n",
      "{'country': 'Albania', 'le_1960': 62.25436585, 'le_2013': 77.5372439, 'change': 15.282878050000008}\n",
      "{'country': 'United Arab Emirates', 'le_1960': 52.24321951, 'le_2013': 77.13129268, 'change': 24.88807317}\n",
      "{'country': 'Argentina', 'le_1960': 65.21553659, 'le_2013': 76.18729268, 'change': 10.97175609}\n",
      "{'country': 'Armenia', 'le_1960': 65.86346341, 'le_2013': 74.5407561, 'change': 8.677292690000002}\n",
      "{'country': 'Antigua and Barbuda', 'le_1960': 61.78273171, 'le_2013': 75.82929268, 'change': 14.046560969999994}\n",
      "{'country': 'Australia', 'le_1960': 70.81707317, 'le_2013': 82.19756098, 'change': 11.380487810000005}\n",
      "{'country': 'Austria', 'le_1960': 68.58560976, 'le_2013': 80.8902439, 'change': 12.304634140000005}\n",
      "{'country': 'Azerbaijan', 'le_1960': 60.8362439, 'le_2013': 70.69314634, 'change': 9.856902439999999}\n",
      "{'country': 'Burundi', 'le_1960': 41.23604878, 'le_2013': 54.09719512, 'change': 12.861146340000005}\n",
      "{'country': 'Belgium', 'le_1960': 69.70195122, 'le_2013': 80.38536585, 'change': 10.683414630000001}\n",
      "{'country': 'Benin', 'le_1960': 37.27826829, 'le_2013': 59.28756098, 'change': 22.009292690000002}\n",
      "{'country': 'Burkina Faso', 'le_1960': 34.47790244, 'le_2013': 56.27502439, 'change': 21.797121949999998}\n",
      "{'country': 'Bangladesh', 'le_1960': 47.02456098, 'le_2013': 70.69339024, 'change': 23.668829260000003}\n",
      "{'country': 'Bulgaria', 'le_1960': 69.24756098, 'le_2013': 74.46585366, 'change': 5.2182926799999905}\n",
      "{'country': 'Bahrain', 'le_1960': 52.08936585, 'le_2013': 76.66987805, 'change': 24.580512199999994}\n",
      "{'country': 'Bahamas, The', 'le_1960': 62.72904878, 'le_2013': 75.07256098, 'change': 12.343512200000006}\n",
      "{'country': 'Bosnia and Herzegovina', 'le_1960': 60.27621951, 'le_2013': 76.27990244, 'change': 16.003682930000004}\n",
      "{'country': 'Belarus', 'le_1960': 67.70809756, 'le_2013': 72.47073171, 'change': 4.762634149999997}\n",
      "{'country': 'Belize', 'le_1960': 59.96136585, 'le_2013': 73.90487805, 'change': 13.943512199999994}\n",
      "{'country': 'Bolivia', 'le_1960': 42.66812195, 'le_2013': 67.21736585, 'change': 24.549243899999993}\n",
      "{'country': 'Brazil', 'le_1960': 54.69214634, 'le_2013': 73.88595122, 'change': 19.193804879999995}\n",
      "{'country': 'Barbados', 'le_1960': 60.76660976, 'le_2013': 75.29641463, 'change': 14.52980487}\n",
      "{'country': 'Brunei Darussalam', 'le_1960': 62.45756098, 'le_2013': 78.56643902, 'change': 16.108878040000008}\n",
      "{'country': 'Bhutan', 'le_1960': 32.35936585, 'le_2013': 68.30231707, 'change': 35.94295122}\n",
      "{'country': 'Botswana', 'le_1960': 50.5362439, 'le_2013': 47.40560976, 'change': -3.130634140000005}\n",
      "{'country': 'Central African Republic', 'le_1960': 36.48263415, 'le_2013': 50.13680488, 'change': 13.654170729999997}\n",
      "{'country': 'Canada', 'le_1960': 71.13317073, 'le_2013': 81.40112195, 'change': 10.26795122}\n",
      "{'country': 'Switzerland', 'le_1960': 71.31341463, 'le_2013': 82.74878049, 'change': 11.435365860000005}\n",
      "{'country': 'Channel Islands', 'le_1960': 70.63978049, 'le_2013': 80.25953659, 'change': 9.61975609999999}\n",
      "{'country': 'Chile', 'le_1960': 57.02153659, 'le_2013': 79.83680488, 'change': 22.815268290000006}\n",
      "{'country': 'China', 'le_1960': 43.46580488, 'le_2013': 75.35302439, 'change': 31.88721951}\n",
      "{'country': \"Cote d'Ivoire\", 'le_1960': 36.87241463, 'le_2013': 50.75741463, 'change': 13.884999999999998}\n",
      "{'country': 'Cameroon', 'le_1960': 41.5237561, 'le_2013': 55.04180488, 'change': 13.51804878}\n",
      "{'country': 'Congo, Dem. Rep.', 'le_1960': 41.01804878, 'le_2013': 49.94385366, 'change': 8.925804880000001}\n",
      "{'country': 'Congo, Rep.', 'le_1960': 48.58163415, 'le_2013': 58.77, 'change': 10.188365850000004}\n",
      "{'country': 'Colombia', 'le_1960': 56.7167561, 'le_2013': 73.97882927, 'change': 17.262073170000008}\n",
      "{'country': 'Comoros', 'le_1960': 43.44195122, 'le_2013': 60.8574878, 'change': 17.41553658}\n",
      "{'country': 'Cabo Verde', 'le_1960': 49.00136585, 'le_2013': 74.87068293, 'change': 25.869317080000002}\n",
      "{'country': 'Costa Rica', 'le_1960': 61.60636585, 'le_2013': 79.921, 'change': 18.314634150000003}\n",
      "{'country': 'Cuba', 'le_1960': 63.90465854, 'le_2013': 79.23926829, 'change': 15.334609749999998}\n",
      "{'country': 'Cyprus', 'le_1960': 69.59392683, 'le_2013': 79.80431707, 'change': 10.210390239999995}\n",
      "{'country': 'Czech Republic', 'le_1960': 70.34878049, 'le_2013': 78.27804878, 'change': 7.92926829000001}\n",
      "{'country': 'Germany', 'le_1960': 69.31295122, 'le_2013': 81.04390244, 'change': 11.730951219999994}\n",
      "{'country': 'Djibouti', 'le_1960': 44.02126829, 'le_2013': 61.78695122, 'change': 17.765682929999997}\n",
      "{'country': 'Denmark', 'le_1960': 72.17658537, 'le_2013': 80.30243902, 'change': 8.125853649999996}\n",
      "{'country': 'Dominican Republic', 'le_1960': 51.84526829, 'le_2013': 73.45095122, 'change': 21.605682929999993}\n",
      "{'country': 'Algeria', 'le_1960': 46.13512195, 'le_2013': 71.00965854, 'change': 24.874536590000005}\n",
      "{'country': 'Ecuador', 'le_1960': 53.12443902, 'le_2013': 76.46507317, 'change': 23.34063415}\n",
      "{'country': 'Egypt, Arab Rep.', 'le_1960': 48.01370732, 'le_2013': 71.13292683, 'change': 23.11921951}\n",
      "{'country': 'Eritrea', 'le_1960': 37.36290244, 'le_2013': 62.75463415, 'change': 25.391731710000002}\n",
      "{'country': 'Spain', 'le_1960': 69.10926829, 'le_2013': 82.42682927, 'change': 13.317560979999996}\n",
      "{'country': 'Estonia', 'le_1960': 67.90597561, 'le_2013': 76.42439024, 'change': 8.518414629999995}\n",
      "{'country': 'Ethiopia', 'le_1960': 38.40570732, 'le_2013': 63.61734146, 'change': 25.21163414}\n",
      "{'country': 'Finland', 'le_1960': 68.8197561, 'le_2013': 80.83170732, 'change': 12.01195122}\n",
      "{'country': 'Fiji', 'le_1960': 55.9584878, 'le_2013': 69.923, 'change': 13.964512200000001}\n",
      "{'country': 'France', 'le_1960': 69.86829268, 'le_2013': 81.96829268, 'change': 12.100000000000009}\n",
      "{'country': 'Micronesia, Fed. Sts.', 'le_1960': 57.58658537, 'le_2013': 68.96097561, 'change': 11.374390240000004}\n",
      "{'country': 'Gabon', 'le_1960': 39.55780488, 'le_2013': 63.441, 'change': 23.883195120000003}\n",
      "{'country': 'United Kingdom', 'le_1960': 71.12682927, 'le_2013': 80.95609756, 'change': 9.829268290000002}\n",
      "{'country': 'Georgia', 'le_1960': 63.43185366, 'le_2013': 74.0795122, 'change': 10.647658539999995}\n",
      "{'country': 'Ghana', 'le_1960': 45.83146341, 'le_2013': 61.09863415, 'change': 15.267170740000005}\n",
      "{'country': 'Guinea', 'le_1960': 34.88639024, 'le_2013': 56.09165854, 'change': 21.2052683}\n",
      "{'country': 'Gambia, The', 'le_1960': 32.04221951, 'le_2013': 58.83134146, 'change': 26.789121949999995}\n",
      "{'country': 'Guinea-Bissau', 'le_1960': 42.14541463, 'le_2013': 54.27170732, 'change': 12.12629269}\n",
      "{'country': 'Equatorial Guinea', 'le_1960': 36.73304878, 'le_2013': 53.11456098, 'change': 16.381512200000003}\n",
      "{'country': 'Greece', 'le_1960': 68.16390244, 'le_2013': 80.63414634, 'change': 12.4702439}\n",
      "{'country': 'Grenada', 'le_1960': 59.81592683, 'le_2013': 72.74134146, 'change': 12.925414629999999}\n",
      "{'country': 'Guatemala', 'le_1960': 45.53163415, 'le_2013': 71.99282927, 'change': 26.46119512}\n",
      "{'country': 'Guam', 'le_1960': 61.22634146, 'le_2013': 78.87512195, 'change': 17.648780489999993}\n",
      "{'country': 'Guyana', 'le_1960': 58.23260976, 'le_2013': 66.20790244, 'change': 7.9752926799999955}\n",
      "{'country': 'Hong Kong SAR, China', 'le_1960': 66.99970732, 'le_2013': 83.83170732, 'change': 16.832000000000008}\n",
      "{'country': 'Honduras', 'le_1960': 46.28831707, 'le_2013': 73.80304878, 'change': 27.51473171}\n",
      "{'country': 'Croatia', 'le_1960': 64.60865854, 'le_2013': 77.12682927, 'change': 12.518170730000008}\n",
      "{'country': 'Haiti', 'le_1960': 42.159, 'le_2013': 63.05885366, 'change': 20.899853659999998}\n",
      "{'country': 'Hungary', 'le_1960': 68.00317073, 'le_2013': 75.26829268, 'change': 7.265121950000008}\n",
      "{'country': 'Indonesia', 'le_1960': 44.8065122, 'le_2013': 70.81743902, 'change': 26.010926819999995}\n",
      "{'country': 'India', 'le_1960': 41.38363415, 'le_2013': 66.4562439, 'change': 25.072609750000005}\n",
      "{'country': 'Ireland', 'le_1960': 69.6917561, 'le_2013': 81.04390244, 'change': 11.35214633999999}\n",
      "{'country': 'Iran, Islamic Rep.', 'le_1960': 44.9455122, 'le_2013': 74.0687561, 'change': 29.1232439}\n",
      "{'country': 'Iraq', 'le_1960': 48.03068293, 'le_2013': 69.47168293, 'change': 21.441000000000003}\n",
      "{'country': 'Iceland', 'le_1960': 73.42865854, 'le_2013': 83.11707317, 'change': 9.688414629999997}\n",
      "{'country': 'Italy', 'le_1960': 69.12390244, 'le_2013': 82.2902439, 'change': 13.166341459999998}\n",
      "{'country': 'Jamaica', 'le_1960': 64.19182927, 'le_2013': 73.46892683, 'change': 9.277097560000001}\n",
      "{'country': 'Jordan', 'le_1960': 52.68526829, 'le_2013': 73.90141463, 'change': 21.21614634}\n",
      "{'country': 'Japan', 'le_1960': 67.66609756, 'le_2013': 83.33195122, 'change': 15.665853659999996}\n",
      "{'country': 'Kazakhstan', 'le_1960': 58.36758537, 'le_2013': 70.45, 'change': 12.082414630000002}\n",
      "{'country': 'Kenya', 'le_1960': 46.36241463, 'le_2013': 61.68397561, 'change': 15.321560979999994}\n",
      "{'country': 'Kyrgyz Republic', 'le_1960': 56.12807317, 'le_2013': 70.20243902, 'change': 14.07436585}\n",
      "{'country': 'Cambodia', 'le_1960': 41.20129268, 'le_2013': 71.74756098, 'change': 30.5462683}\n",
      "{'country': 'Kiribati', 'le_1960': 46.875, 'le_2013': 68.84907317, 'change': 21.974073169999997}\n",
      "{'country': 'Korea, Rep.', 'le_1960': 53.00131707, 'le_2013': 81.4597561, 'change': 28.458439030000008}\n",
      "{'country': 'Kuwait', 'le_1960': 60.34795122, 'le_2013': 74.4627561, 'change': 14.114804879999994}\n",
      "{'country': 'Lao PDR', 'le_1960': 43.19292683, 'le_2013': 68.24941463, 'change': 25.056487800000006}\n",
      "{'country': 'Lebanon', 'le_1960': 63.28012195, 'le_2013': 80.12887805, 'change': 16.848756099999996}\n",
      "{'country': 'Liberia', 'le_1960': 34.78317073, 'le_2013': 60.53187805, 'change': 25.74870732}\n",
      "{'country': 'Libya', 'le_1960': 42.64119512, 'le_2013': 75.36168293, 'change': 32.72048781}\n",
      "{'country': 'St. Lucia', 'le_1960': 57.3037561, 'le_2013': 74.79195122, 'change': 17.48819512}\n",
      "{'country': 'Sri Lanka', 'le_1960': 59.74714634, 'le_2013': 74.24029268, 'change': 14.493146339999996}\n",
      "{'country': 'Lesotho', 'le_1960': 46.51070732, 'le_2013': 49.33146341, 'change': 2.820756089999996}\n",
      "{'country': 'Lithuania', 'le_1960': 69.84731707, 'le_2013': 74.16341463, 'change': 4.316097560000003}\n",
      "{'country': 'Luxembourg', 'le_1960': 68.44639024, 'le_2013': 81.79756098, 'change': 13.35117074}\n",
      "{'country': 'Latvia', 'le_1960': 69.78682927, 'le_2013': 73.9804878, 'change': 4.1936585300000075}\n",
      "{'country': 'Macao SAR, China', 'le_1960': 64.66092683, 'le_2013': 80.3437561, 'change': 15.68282927}\n",
      "{'country': 'Morocco', 'le_1960': 48.44663415, 'le_2013': 70.87212195, 'change': 22.425487799999992}\n",
      "{'country': 'Moldova', 'le_1960': 61.81278049, 'le_2013': 68.8115122, 'change': 6.998731709999994}\n",
      "{'country': 'Madagascar', 'le_1960': 39.97468293, 'le_2013': 64.69139024, 'change': 24.716707310000004}\n",
      "{'country': 'Maldives', 'le_1960': 35.85960976, 'le_2013': 77.93536585, 'change': 42.07575609}\n",
      "{'country': 'Mexico', 'le_1960': 57.06563415, 'le_2013': 77.35402439, 'change': 20.288390240000005}\n",
      "{'country': 'Macedonia, FYR', 'le_1960': 60.62280488, 'le_2013': 75.18802439, 'change': 14.565219509999999}\n",
      "{'country': 'Mali', 'le_1960': 28.21160976, 'le_2013': 55.0135122, 'change': 26.80190244}\n",
      "{'country': 'Malta', 'le_1960': 67.60178049, 'le_2013': 80.74634146, 'change': 13.14456097}\n",
      "{'country': 'Myanmar', 'le_1960': 42.73639024, 'le_2013': 65.09968293, 'change': 22.36329269}\n",
      "{'country': 'Montenegro', 'le_1960': 63.70560976, 'le_2013': 74.75836585, 'change': 11.052756090000003}\n",
      "{'country': 'Mongolia', 'le_1960': 48.36880488, 'le_2013': 67.54819512, 'change': 19.179390240000004}\n",
      "{'country': 'Mozambique', 'le_1960': 35.00370732, 'le_2013': 50.17336585, 'change': 15.169658530000007}\n",
      "{'country': 'Mauritania', 'le_1960': 43.48309756, 'le_2013': 61.5117561, 'change': 18.028658540000002}\n",
      "{'country': 'Mauritius', 'le_1960': 58.74521951, 'le_2013': 74.46, 'change': 15.714780489999995}\n",
      "{'country': 'Malawi', 'le_1960': 37.83558537, 'le_2013': 55.23470732, 'change': 17.39912195}\n",
      "{'country': 'Malaysia', 'le_1960': 59.47534146, 'le_2013': 75.01626829, 'change': 15.540926829999997}\n",
      "{'country': 'Namibia', 'le_1960': 46.88039024, 'le_2013': 64.34387805, 'change': 17.463487810000004}\n",
      "{'country': 'New Caledonia', 'le_1960': 58.63902439, 'le_2013': 77.12195122, 'change': 18.482926829999997}\n",
      "{'country': 'Niger', 'le_1960': 35.51504878, 'le_2013': 58.44270732, 'change': 22.927658539999996}\n",
      "{'country': 'Nigeria', 'le_1960': 37.18295122, 'le_2013': 52.49978049, 'change': 15.31682927}\n",
      "{'country': 'Nicaragua', 'le_1960': 46.99882927, 'le_2013': 74.78817073, 'change': 27.789341460000003}\n",
      "{'country': 'Netherlands', 'le_1960': 73.39268293, 'le_2013': 81.10487805, 'change': 7.71219511999999}\n",
      "{'country': 'Norway', 'le_1960': 73.5497561, 'le_2013': 81.45121951, 'change': 7.901463410000005}\n",
      "{'country': 'Nepal', 'le_1960': 38.45563415, 'le_2013': 68.40385366, 'change': 29.948219509999994}\n",
      "{'country': 'New Zealand', 'le_1960': 71.23658537, 'le_2013': 81.40731707, 'change': 10.170731700000005}\n",
      "{'country': 'Oman', 'le_1960': 42.66707317, 'le_2013': 76.85202439, 'change': 34.184951219999995}\n",
      "{'country': 'Pakistan', 'le_1960': 46.43373171, 'le_2013': 66.58536585, 'change': 20.15163414}\n",
      "{'country': 'Panama', 'le_1960': 60.87682927, 'le_2013': 77.57895122, 'change': 16.70212194999999}\n",
      "{'country': 'Peru', 'le_1960': 47.69158537, 'le_2013': 74.81460976, 'change': 27.123024389999998}\n",
      "{'country': 'Philippines', 'le_1960': 57.81192683, 'le_2013': 68.7144878, 'change': 10.902560970000003}\n",
      "{'country': 'Papua New Guinea', 'le_1960': 38.4622439, 'le_2013': 62.43073171, 'change': 23.968487810000006}\n",
      "{'country': 'Poland', 'le_1960': 67.6804878, 'le_2013': 76.84878049, 'change': 9.168292690000001}\n",
      "{'country': 'Puerto Rico', 'le_1960': 68.71960976, 'le_2013': 78.71119512, 'change': 9.991585360000002}\n",
      "{'country': 'Korea, Dem. Rep.', 'le_1960': 51.07717073, 'le_2013': 69.80695122, 'change': 18.729780490000003}\n",
      "{'country': 'Portugal', 'le_1960': 62.80892683, 'le_2013': 80.37317073, 'change': 17.5642439}\n",
      "{'country': 'Paraguay', 'le_1960': 63.79370732, 'le_2013': 72.2734878, 'change': 8.479780479999995}\n",
      "{'country': 'French Polynesia', 'le_1960': 56.35704878, 'le_2013': 76.33904878, 'change': 19.982}\n",
      "{'country': 'Qatar', 'le_1960': 61.24790244, 'le_2013': 78.60690244, 'change': 17.359}\n",
      "{'country': 'Romania', 'le_1960': 65.64243902, 'le_2013': 74.46341463, 'change': 8.820975610000005}\n",
      "{'country': 'Russian Federation', 'le_1960': 66.05529268, 'le_2013': 71.07317073, 'change': 5.017878050000007}\n",
      "{'country': 'Rwanda', 'le_1960': 42.24929268, 'le_2013': 63.99397561, 'change': 21.744682929999996}\n",
      "{'country': 'Saudi Arabia', 'le_1960': 45.66626829, 'le_2013': 75.70336585, 'change': 30.03709756}\n",
      "{'country': 'Sudan', 'le_1960': 48.18763415, 'le_2013': 62.0444878, 'change': 13.856853649999998}\n",
      "{'country': 'Senegal', 'le_1960': 38.206, 'le_2013': 63.35073171, 'change': 25.144731709999995}\n",
      "{'country': 'Singapore', 'le_1960': 65.65982927, 'le_2013': 82.34634146, 'change': 16.686512190000002}\n",
      "{'country': 'Solomon Islands', 'le_1960': 49.38170732, 'le_2013': 67.71690244, 'change': 18.33519512}\n",
      "{'country': 'Sierra Leone', 'le_1960': 30.33153659, 'le_2013': 45.55095122, 'change': 15.219414630000003}\n",
      "{'country': 'El Salvador', 'le_1960': 51.29931707, 'le_2013': 72.33892683, 'change': 21.039609760000005}\n",
      "{'country': 'Somalia', 'le_1960': 36.96587805, 'le_2013': 55.0245122, 'change': 18.058634149999996}\n",
      "{'country': 'South Sudan', 'le_1960': 31.67670732, 'le_2013': 55.24121951, 'change': 23.564512190000002}\n",
      "{'country': 'Sao Tome and Principe', 'le_1960': 50.45136585, 'le_2013': 66.26097561, 'change': 15.80960976}\n",
      "{'country': 'Suriname', 'le_1960': 59.68012195, 'le_2013': 71.03163415, 'change': 11.351512200000002}\n",
      "{'country': 'Slovak Republic', 'le_1960': 69.97592683, 'le_2013': 76.26097561, 'change': 6.285048779999997}\n",
      "{'country': 'Slovenia', 'le_1960': 68.97804878, 'le_2013': 80.27804878, 'change': 11.300000000000011}\n",
      "{'country': 'Sweden', 'le_1960': 73.00560976, 'le_2013': 81.70487805, 'change': 8.699268290000006}\n",
      "{'country': 'Swaziland', 'le_1960': 44.23378049, 'le_2013': 48.93792683, 'change': 4.704146340000001}\n",
      "{'country': 'Syrian Arab Republic', 'le_1960': 52.7682439, 'le_2013': 74.71578049, 'change': 21.94753659}\n",
      "{'country': 'Chad', 'le_1960': 38.01612195, 'le_2013': 51.15907317, 'change': 13.14295122}\n",
      "{'country': 'Togo', 'le_1960': 40.27282927, 'le_2013': 56.4885122, 'change': 16.21568293}\n",
      "{'country': 'Thailand', 'le_1960': 55.23836585, 'le_2013': 74.36507317, 'change': 19.12670732}\n",
      "{'country': 'Tajikistan', 'le_1960': 56.15353659, 'le_2013': 67.37460976, 'change': 11.221073169999997}\n",
      "{'country': 'Turkmenistan', 'le_1960': 54.45868293, 'le_2013': 65.46258537, 'change': 11.003902439999997}\n",
      "{'country': 'Timor-Leste', 'le_1960': 33.72712195, 'le_2013': 67.52236585, 'change': 33.7952439}\n",
      "{'country': 'Tonga', 'le_1960': 61.36453659, 'le_2013': 72.64231707, 'change': 11.277780480000004}\n",
      "{'country': 'Trinidad and Tobago', 'le_1960': 62.65758537, 'le_2013': 69.92521951, 'change': 7.2676341400000055}\n",
      "{'country': 'Tunisia', 'le_1960': 42.0097561, 'le_2013': 73.64634146, 'change': 31.636585360000005}\n",
      "{'country': 'Turkey', 'le_1960': 45.38441463, 'le_2013': 75.17595122, 'change': 29.79153659}\n",
      "{'country': 'Tanzania', 'le_1960': 43.65387805, 'le_2013': 61.49314634, 'change': 17.83926829}\n",
      "{'country': 'Uganda', 'le_1960': 43.98356098, 'le_2013': 59.19, 'change': 15.206439019999998}\n",
      "{'country': 'Ukraine', 'le_1960': 68.29953659, 'le_2013': 71.1595122, 'change': 2.8599756099999922}\n",
      "{'country': 'Uruguay', 'le_1960': 67.89587805, 'le_2013': 77.05141463, 'change': 9.155536580000003}\n",
      "{'country': 'United States', 'le_1960': 69.77073171, 'le_2013': 78.84146341, 'change': 9.070731699999996}\n",
      "{'country': 'Uzbekistan', 'le_1960': 58.88553659, 'le_2013': 68.22758537, 'change': 9.342048779999999}\n",
      "{'country': 'St. Vincent and the Grenadines', 'le_1960': 57.72387805, 'le_2013': 72.50097561, 'change': 14.777097559999994}\n",
      "{'country': 'Venezuela, RB', 'le_1960': 59.52919512, 'le_2013': 74.64309756, 'change': 15.113902440000004}\n",
      "{'country': 'Virgin Islands (U.S.)', 'le_1960': 63.73021951, 'le_2013': 79.62439024, 'change': 15.894170729999999}\n",
      "{'country': 'Vietnam', 'le_1960': 59.06702439, 'le_2013': 75.7564878, 'change': 16.689463410000002}\n",
      "{'country': 'Vanuatu', 'le_1960': 46.4874878, 'le_2013': 71.68682927, 'change': 25.199341470000007}\n",
      "{'country': 'Samoa', 'le_1960': 49.9695122, 'le_2013': 73.26487805, 'change': 23.295365849999996}\n",
      "{'country': 'Yemen, Rep.', 'le_1960': 32.38565854, 'le_2013': 63.08958537, 'change': 30.70392683}\n",
      "{'country': 'South Africa', 'le_1960': 49.03629268, 'le_2013': 56.73658537, 'change': 7.700292689999998}\n",
      "{'country': 'Zambia', 'le_1960': 45.10980488, 'le_2013': 58.09278049, 'change': 12.982975610000004}\n",
      "{'country': 'Zimbabwe', 'le_1960': 51.54246341, 'le_2013': 59.7734878, 'change': 8.231024389999995}\n"
     ]
    }
   ],
   "source": [
    "def display_stats (some_list): \n",
    "    for country in some_list: \n",
    "        print(country)\n",
    "display_stats(life_expectancy_list)"
   ]
  },
  {
   "cell_type": "code",
   "execution_count": 88,
   "metadata": {},
   "outputs": [
    {
     "name": "stdout",
     "output_type": "stream",
     "text": [
      "Aruba 65.56936585 75.33217073 9.762804880000004\n",
      "Afghanistan 31.58004878 60.93141463 29.35136585\n",
      "Angola 32.98482927 51.86617073 18.88134146\n",
      "Albania 62.25436585 77.5372439 15.282878050000008\n",
      "United Arab Emirates 52.24321951 77.13129268 24.88807317\n",
      "Argentina 65.21553659 76.18729268 10.97175609\n",
      "Armenia 65.86346341 74.5407561 8.677292690000002\n",
      "Antigua and Barbuda 61.78273171 75.82929268 14.046560969999994\n",
      "Australia 70.81707317 82.19756098 11.380487810000005\n",
      "Austria 68.58560976 80.8902439 12.304634140000005\n",
      "Azerbaijan 60.8362439 70.69314634 9.856902439999999\n",
      "Burundi 41.23604878 54.09719512 12.861146340000005\n",
      "Belgium 69.70195122 80.38536585 10.683414630000001\n",
      "Benin 37.27826829 59.28756098 22.009292690000002\n",
      "Burkina Faso 34.47790244 56.27502439 21.797121949999998\n",
      "Bangladesh 47.02456098 70.69339024 23.668829260000003\n",
      "Bulgaria 69.24756098 74.46585366 5.2182926799999905\n",
      "Bahrain 52.08936585 76.66987805 24.580512199999994\n",
      "Bahamas, The 62.72904878 75.07256098 12.343512200000006\n",
      "Bosnia and Herzegovina 60.27621951 76.27990244 16.003682930000004\n",
      "Belarus 67.70809756 72.47073171 4.762634149999997\n",
      "Belize 59.96136585 73.90487805 13.943512199999994\n",
      "Bolivia 42.66812195 67.21736585 24.549243899999993\n",
      "Brazil 54.69214634 73.88595122 19.193804879999995\n",
      "Barbados 60.76660976 75.29641463 14.52980487\n",
      "Brunei Darussalam 62.45756098 78.56643902 16.108878040000008\n",
      "Bhutan 32.35936585 68.30231707 35.94295122\n",
      "Botswana 50.5362439 47.40560976 -3.130634140000005\n",
      "Central African Republic 36.48263415 50.13680488 13.654170729999997\n",
      "Canada 71.13317073 81.40112195 10.26795122\n",
      "Switzerland 71.31341463 82.74878049 11.435365860000005\n",
      "Channel Islands 70.63978049 80.25953659 9.61975609999999\n",
      "Chile 57.02153659 79.83680488 22.815268290000006\n",
      "China 43.46580488 75.35302439 31.88721951\n",
      "Cote d'Ivoire 36.87241463 50.75741463 13.884999999999998\n",
      "Cameroon 41.5237561 55.04180488 13.51804878\n",
      "Congo, Dem. Rep. 41.01804878 49.94385366 8.925804880000001\n",
      "Congo, Rep. 48.58163415 58.77 10.188365850000004\n",
      "Colombia 56.7167561 73.97882927 17.262073170000008\n",
      "Comoros 43.44195122 60.8574878 17.41553658\n",
      "Cabo Verde 49.00136585 74.87068293 25.869317080000002\n",
      "Costa Rica 61.60636585 79.921 18.314634150000003\n",
      "Cuba 63.90465854 79.23926829 15.334609749999998\n",
      "Cyprus 69.59392683 79.80431707 10.210390239999995\n",
      "Czech Republic 70.34878049 78.27804878 7.92926829000001\n",
      "Germany 69.31295122 81.04390244 11.730951219999994\n",
      "Djibouti 44.02126829 61.78695122 17.765682929999997\n",
      "Denmark 72.17658537 80.30243902 8.125853649999996\n",
      "Dominican Republic 51.84526829 73.45095122 21.605682929999993\n",
      "Algeria 46.13512195 71.00965854 24.874536590000005\n",
      "Ecuador 53.12443902 76.46507317 23.34063415\n",
      "Egypt, Arab Rep. 48.01370732 71.13292683 23.11921951\n",
      "Eritrea 37.36290244 62.75463415 25.391731710000002\n",
      "Spain 69.10926829 82.42682927 13.317560979999996\n",
      "Estonia 67.90597561 76.42439024 8.518414629999995\n",
      "Ethiopia 38.40570732 63.61734146 25.21163414\n",
      "Finland 68.8197561 80.83170732 12.01195122\n",
      "Fiji 55.9584878 69.923 13.964512200000001\n",
      "France 69.86829268 81.96829268 12.100000000000009\n",
      "Micronesia, Fed. Sts. 57.58658537 68.96097561 11.374390240000004\n",
      "Gabon 39.55780488 63.441 23.883195120000003\n",
      "United Kingdom 71.12682927 80.95609756 9.829268290000002\n",
      "Georgia 63.43185366 74.0795122 10.647658539999995\n",
      "Ghana 45.83146341 61.09863415 15.267170740000005\n",
      "Guinea 34.88639024 56.09165854 21.2052683\n",
      "Gambia, The 32.04221951 58.83134146 26.789121949999995\n",
      "Guinea-Bissau 42.14541463 54.27170732 12.12629269\n",
      "Equatorial Guinea 36.73304878 53.11456098 16.381512200000003\n",
      "Greece 68.16390244 80.63414634 12.4702439\n",
      "Grenada 59.81592683 72.74134146 12.925414629999999\n",
      "Guatemala 45.53163415 71.99282927 26.46119512\n",
      "Guam 61.22634146 78.87512195 17.648780489999993\n",
      "Guyana 58.23260976 66.20790244 7.9752926799999955\n",
      "Hong Kong SAR, China 66.99970732 83.83170732 16.832000000000008\n",
      "Honduras 46.28831707 73.80304878 27.51473171\n",
      "Croatia 64.60865854 77.12682927 12.518170730000008\n",
      "Haiti 42.159 63.05885366 20.899853659999998\n",
      "Hungary 68.00317073 75.26829268 7.265121950000008\n",
      "Indonesia 44.8065122 70.81743902 26.010926819999995\n",
      "India 41.38363415 66.4562439 25.072609750000005\n",
      "Ireland 69.6917561 81.04390244 11.35214633999999\n",
      "Iran, Islamic Rep. 44.9455122 74.0687561 29.1232439\n",
      "Iraq 48.03068293 69.47168293 21.441000000000003\n",
      "Iceland 73.42865854 83.11707317 9.688414629999997\n",
      "Italy 69.12390244 82.2902439 13.166341459999998\n",
      "Jamaica 64.19182927 73.46892683 9.277097560000001\n",
      "Jordan 52.68526829 73.90141463 21.21614634\n",
      "Japan 67.66609756 83.33195122 15.665853659999996\n",
      "Kazakhstan 58.36758537 70.45 12.082414630000002\n",
      "Kenya 46.36241463 61.68397561 15.321560979999994\n",
      "Kyrgyz Republic 56.12807317 70.20243902 14.07436585\n",
      "Cambodia 41.20129268 71.74756098 30.5462683\n",
      "Kiribati 46.875 68.84907317 21.974073169999997\n",
      "Korea, Rep. 53.00131707 81.4597561 28.458439030000008\n",
      "Kuwait 60.34795122 74.4627561 14.114804879999994\n",
      "Lao PDR 43.19292683 68.24941463 25.056487800000006\n",
      "Lebanon 63.28012195 80.12887805 16.848756099999996\n",
      "Liberia 34.78317073 60.53187805 25.74870732\n",
      "Libya 42.64119512 75.36168293 32.72048781\n",
      "St. Lucia 57.3037561 74.79195122 17.48819512\n",
      "Sri Lanka 59.74714634 74.24029268 14.493146339999996\n",
      "Lesotho 46.51070732 49.33146341 2.820756089999996\n",
      "Lithuania 69.84731707 74.16341463 4.316097560000003\n",
      "Luxembourg 68.44639024 81.79756098 13.35117074\n",
      "Latvia 69.78682927 73.9804878 4.1936585300000075\n",
      "Macao SAR, China 64.66092683 80.3437561 15.68282927\n",
      "Morocco 48.44663415 70.87212195 22.425487799999992\n",
      "Moldova 61.81278049 68.8115122 6.998731709999994\n",
      "Madagascar 39.97468293 64.69139024 24.716707310000004\n",
      "Maldives 35.85960976 77.93536585 42.07575609\n",
      "Mexico 57.06563415 77.35402439 20.288390240000005\n",
      "Macedonia, FYR 60.62280488 75.18802439 14.565219509999999\n",
      "Mali 28.21160976 55.0135122 26.80190244\n",
      "Malta 67.60178049 80.74634146 13.14456097\n",
      "Myanmar 42.73639024 65.09968293 22.36329269\n",
      "Montenegro 63.70560976 74.75836585 11.052756090000003\n",
      "Mongolia 48.36880488 67.54819512 19.179390240000004\n",
      "Mozambique 35.00370732 50.17336585 15.169658530000007\n",
      "Mauritania 43.48309756 61.5117561 18.028658540000002\n",
      "Mauritius 58.74521951 74.46 15.714780489999995\n",
      "Malawi 37.83558537 55.23470732 17.39912195\n",
      "Malaysia 59.47534146 75.01626829 15.540926829999997\n",
      "Namibia 46.88039024 64.34387805 17.463487810000004\n",
      "New Caledonia 58.63902439 77.12195122 18.482926829999997\n",
      "Niger 35.51504878 58.44270732 22.927658539999996\n",
      "Nigeria 37.18295122 52.49978049 15.31682927\n",
      "Nicaragua 46.99882927 74.78817073 27.789341460000003\n",
      "Netherlands 73.39268293 81.10487805 7.71219511999999\n",
      "Norway 73.5497561 81.45121951 7.901463410000005\n",
      "Nepal 38.45563415 68.40385366 29.948219509999994\n",
      "New Zealand 71.23658537 81.40731707 10.170731700000005\n",
      "Oman 42.66707317 76.85202439 34.184951219999995\n",
      "Pakistan 46.43373171 66.58536585 20.15163414\n",
      "Panama 60.87682927 77.57895122 16.70212194999999\n",
      "Peru 47.69158537 74.81460976 27.123024389999998\n",
      "Philippines 57.81192683 68.7144878 10.902560970000003\n",
      "Papua New Guinea 38.4622439 62.43073171 23.968487810000006\n",
      "Poland 67.6804878 76.84878049 9.168292690000001\n",
      "Puerto Rico 68.71960976 78.71119512 9.991585360000002\n",
      "Korea, Dem. Rep. 51.07717073 69.80695122 18.729780490000003\n",
      "Portugal 62.80892683 80.37317073 17.5642439\n",
      "Paraguay 63.79370732 72.2734878 8.479780479999995\n",
      "French Polynesia 56.35704878 76.33904878 19.982\n",
      "Qatar 61.24790244 78.60690244 17.359\n",
      "Romania 65.64243902 74.46341463 8.820975610000005\n",
      "Russian Federation 66.05529268 71.07317073 5.017878050000007\n",
      "Rwanda 42.24929268 63.99397561 21.744682929999996\n",
      "Saudi Arabia 45.66626829 75.70336585 30.03709756\n",
      "Sudan 48.18763415 62.0444878 13.856853649999998\n",
      "Senegal 38.206 63.35073171 25.144731709999995\n",
      "Singapore 65.65982927 82.34634146 16.686512190000002\n",
      "Solomon Islands 49.38170732 67.71690244 18.33519512\n",
      "Sierra Leone 30.33153659 45.55095122 15.219414630000003\n",
      "El Salvador 51.29931707 72.33892683 21.039609760000005\n",
      "Somalia 36.96587805 55.0245122 18.058634149999996\n",
      "South Sudan 31.67670732 55.24121951 23.564512190000002\n",
      "Sao Tome and Principe 50.45136585 66.26097561 15.80960976\n",
      "Suriname 59.68012195 71.03163415 11.351512200000002\n",
      "Slovak Republic 69.97592683 76.26097561 6.285048779999997\n",
      "Slovenia 68.97804878 80.27804878 11.300000000000011\n",
      "Sweden 73.00560976 81.70487805 8.699268290000006\n",
      "Swaziland 44.23378049 48.93792683 4.704146340000001\n",
      "Syrian Arab Republic 52.7682439 74.71578049 21.94753659\n",
      "Chad 38.01612195 51.15907317 13.14295122\n",
      "Togo 40.27282927 56.4885122 16.21568293\n",
      "Thailand 55.23836585 74.36507317 19.12670732\n",
      "Tajikistan 56.15353659 67.37460976 11.221073169999997\n",
      "Turkmenistan 54.45868293 65.46258537 11.003902439999997\n",
      "Timor-Leste 33.72712195 67.52236585 33.7952439\n",
      "Tonga 61.36453659 72.64231707 11.277780480000004\n",
      "Trinidad and Tobago 62.65758537 69.92521951 7.2676341400000055\n",
      "Tunisia 42.0097561 73.64634146 31.636585360000005\n",
      "Turkey 45.38441463 75.17595122 29.79153659\n",
      "Tanzania 43.65387805 61.49314634 17.83926829\n",
      "Uganda 43.98356098 59.19 15.206439019999998\n",
      "Ukraine 68.29953659 71.1595122 2.8599756099999922\n",
      "Uruguay 67.89587805 77.05141463 9.155536580000003\n",
      "United States 69.77073171 78.84146341 9.070731699999996\n",
      "Uzbekistan 58.88553659 68.22758537 9.342048779999999\n",
      "St. Vincent and the Grenadines 57.72387805 72.50097561 14.777097559999994\n",
      "Venezuela, RB 59.52919512 74.64309756 15.113902440000004\n",
      "Virgin Islands (U.S.) 63.73021951 79.62439024 15.894170729999999\n",
      "Vietnam 59.06702439 75.7564878 16.689463410000002\n",
      "Vanuatu 46.4874878 71.68682927 25.199341470000007\n",
      "Samoa 49.9695122 73.26487805 23.295365849999996\n",
      "Yemen, Rep. 32.38565854 63.08958537 30.70392683\n",
      "South Africa 49.03629268 56.73658537 7.700292689999998\n",
      "Zambia 45.10980488 58.09278049 12.982975610000004\n",
      "Zimbabwe 51.54246341 59.7734878 8.231024389999995\n"
     ]
    }
   ],
   "source": [
    "## Okay that's not that exciting, let's make it look like a table\n",
    "## Also, we can create variables on the fly (\"change\")\n",
    "def display_stats (some_list): \n",
    "    for country in some_list: \n",
    "        country_name = country['country']\n",
    "        le_1960 = country['le_1960']\n",
    "        le_2013 = country['le_2013']\n",
    "        change = le_2013 - le_1960 ##This is just for demo purposes, my dicts actually have the change value already\n",
    "        print(country_name, le_1960, le_2013, change)\n",
    "display_stats(life_expectancy_list)"
   ]
  },
  {
   "cell_type": "markdown",
   "metadata": {},
   "source": [
    "Use Python's built-in formatting functions to improve the table look!\n",
    "\n",
    "You can tweak the margins to fit your data"
   ]
  },
  {
   "cell_type": "code",
   "execution_count": 77,
   "metadata": {},
   "outputs": [
    {
     "name": "stdout",
     "output_type": "stream",
     "text": [
      "Country                             Life Exp 1960        Life Exp 2013             Change in Life Exp\n",
      "Aruba                               65.57                75.33                     9.76\n",
      "Afghanistan                         31.58                60.93                     29.35\n",
      "Angola                              32.98                51.87                     18.89\n",
      "Albania                             62.25                77.54                     15.29\n",
      "United Arab Emirates                52.24                77.13                     24.89\n",
      "Argentina                           65.22                76.19                     10.97\n",
      "Armenia                             65.86                74.54                     8.68\n",
      "Antigua and Barbuda                 61.78                75.83                     14.05\n",
      "Australia                           70.82                82.2                      11.38\n",
      "Austria                             68.59                80.89                     12.3\n",
      "Azerbaijan                          60.84                70.69                     9.85\n",
      "Burundi                             41.24                54.1                      12.86\n",
      "Belgium                             69.7                 80.39                     10.69\n",
      "Benin                               37.28                59.29                     22.01\n",
      "Burkina Faso                        34.48                56.28                     21.8\n",
      "Bangladesh                          47.02                70.69                     23.67\n",
      "Bulgaria                            69.25                74.47                     5.22\n",
      "Bahrain                             52.09                76.67                     24.58\n",
      "Bahamas, The                        62.73                75.07                     12.34\n",
      "Bosnia and Herzegovina              60.28                76.28                     16.0\n",
      "Belarus                             67.71                72.47                     4.76\n",
      "Belize                              59.96                73.9                      13.94\n",
      "Bolivia                             42.67                67.22                     24.55\n",
      "Brazil                              54.69                73.89                     19.2\n",
      "Barbados                            60.77                75.3                      14.53\n",
      "Brunei Darussalam                   62.46                78.57                     16.11\n",
      "Bhutan                              32.36                68.3                      35.94\n",
      "Botswana                            50.54                47.41                     -3.13\n",
      "Central African Republic            36.48                50.14                     13.66\n",
      "Canada                              71.13                81.4                      10.27\n",
      "Switzerland                         71.31                82.75                     11.44\n",
      "Channel Islands                     70.64                80.26                     9.62\n",
      "Chile                               57.02                79.84                     22.82\n",
      "China                               43.47                75.35                     31.88\n",
      "Cote d'Ivoire                       36.87                50.76                     13.89\n",
      "Cameroon                            41.52                55.04                     13.52\n",
      "Congo, Dem. Rep.                    41.02                49.94                     8.92\n",
      "Congo, Rep.                         48.58                58.77                     10.19\n",
      "Colombia                            56.72                73.98                     17.26\n",
      "Comoros                             43.44                60.86                     17.42\n",
      "Cabo Verde                          49.0                 74.87                     25.87\n",
      "Costa Rica                          61.61                79.92                     18.31\n",
      "Cuba                                63.9                 79.24                     15.34\n",
      "Cyprus                              69.59                79.8                      10.21\n",
      "Czech Republic                      70.35                78.28                     7.93\n",
      "Germany                             69.31                81.04                     11.73\n",
      "Djibouti                            44.02                61.79                     17.77\n",
      "Denmark                             72.18                80.3                      8.12\n",
      "Dominican Republic                  51.85                73.45                     21.6\n",
      "Algeria                             46.14                71.01                     24.87\n",
      "Ecuador                             53.12                76.47                     23.35\n",
      "Egypt, Arab Rep.                    48.01                71.13                     23.12\n",
      "Eritrea                             37.36                62.75                     25.39\n",
      "Spain                               69.11                82.43                     13.32\n",
      "Estonia                             67.91                76.42                     8.51\n",
      "Ethiopia                            38.41                63.62                     25.21\n",
      "Finland                             68.82                80.83                     12.01\n",
      "Fiji                                55.96                69.92                     13.96\n",
      "France                              69.87                81.97                     12.1\n",
      "Micronesia, Fed. Sts.               57.59                68.96                     11.37\n",
      "Gabon                               39.56                63.44                     23.88\n",
      "United Kingdom                      71.13                80.96                     9.83\n",
      "Georgia                             63.43                74.08                     10.65\n",
      "Ghana                               45.83                61.1                      15.27\n",
      "Guinea                              34.89                56.09                     21.2\n",
      "Gambia, The                         32.04                58.83                     26.79\n",
      "Guinea-Bissau                       42.15                54.27                     12.12\n",
      "Equatorial Guinea                   36.73                53.11                     16.38\n",
      "Greece                              68.16                80.63                     12.47\n",
      "Grenada                             59.82                72.74                     12.92\n",
      "Guatemala                           45.53                71.99                     26.46\n",
      "Guam                                61.23                78.88                     17.65\n",
      "Guyana                              58.23                66.21                     7.98\n",
      "Hong Kong SAR, China                67.0                 83.83                     16.83\n",
      "Honduras                            46.29                73.8                      27.51\n",
      "Croatia                             64.61                77.13                     12.52\n",
      "Haiti                               42.16                63.06                     20.9\n",
      "Hungary                             68.0                 75.27                     7.27\n",
      "Indonesia                           44.81                70.82                     26.01\n",
      "India                               41.38                66.46                     25.08\n",
      "Ireland                             69.69                81.04                     11.35\n",
      "Iran, Islamic Rep.                  44.95                74.07                     29.12\n",
      "Iraq                                48.03                69.47                     21.44\n",
      "Iceland                             73.43                83.12                     9.69\n",
      "Italy                               69.12                82.29                     13.17\n",
      "Jamaica                             64.19                73.47                     9.28\n",
      "Jordan                              52.69                73.9                      21.21\n",
      "Japan                               67.67                83.33                     15.66\n",
      "Kazakhstan                          58.37                70.45                     12.08\n",
      "Kenya                               46.36                61.68                     15.32\n",
      "Kyrgyz Republic                     56.13                70.2                      14.07\n",
      "Cambodia                            41.2                 71.75                     30.55\n",
      "Kiribati                            46.88                68.85                     21.97\n",
      "Korea, Rep.                         53.0                 81.46                     28.46\n",
      "Kuwait                              60.35                74.46                     14.11\n",
      "Lao PDR                             43.19                68.25                     25.06\n",
      "Lebanon                             63.28                80.13                     16.85\n",
      "Liberia                             34.78                60.53                     25.75\n",
      "Libya                               42.64                75.36                     32.72\n",
      "St. Lucia                           57.3                 74.79                     17.49\n",
      "Sri Lanka                           59.75                74.24                     14.49\n",
      "Lesotho                             46.51                49.33                     2.82\n",
      "Lithuania                           69.85                74.16                     4.31\n",
      "Luxembourg                          68.45                81.8                      13.35\n",
      "Latvia                              69.79                73.98                     4.19\n",
      "Macao SAR, China                    64.66                80.34                     15.68\n",
      "Morocco                             48.45                70.87                     22.42\n",
      "Moldova                             61.81                68.81                     7.0\n",
      "Madagascar                          39.97                64.69                     24.72\n",
      "Maldives                            35.86                77.94                     42.08\n",
      "Mexico                              57.07                77.35                     20.28\n",
      "Macedonia, FYR                      60.62                75.19                     14.57\n",
      "Mali                                28.21                55.01                     26.8\n",
      "Malta                               67.6                 80.75                     13.15\n",
      "Myanmar                             42.74                65.1                      22.36\n",
      "Montenegro                          63.71                74.76                     11.05\n",
      "Mongolia                            48.37                67.55                     19.18\n",
      "Mozambique                          35.0                 50.17                     15.17\n",
      "Mauritania                          43.48                61.51                     18.03\n",
      "Mauritius                           58.75                74.46                     15.71\n",
      "Malawi                              37.84                55.23                     17.39\n",
      "Malaysia                            59.48                75.02                     15.54\n",
      "Namibia                             46.88                64.34                     17.46\n",
      "New Caledonia                       58.64                77.12                     18.48\n",
      "Niger                               35.52                58.44                     22.92\n",
      "Nigeria                             37.18                52.5                      15.32\n",
      "Nicaragua                           47.0                 74.79                     27.79\n",
      "Netherlands                         73.39                81.1                      7.71\n",
      "Norway                              73.55                81.45                     7.9\n",
      "Nepal                               38.46                68.4                      29.94\n",
      "New Zealand                         71.24                81.41                     10.17\n",
      "Oman                                42.67                76.85                     34.18\n",
      "Pakistan                            46.43                66.59                     20.16\n",
      "Panama                              60.88                77.58                     16.7\n",
      "Peru                                47.69                74.81                     27.12\n",
      "Philippines                         57.81                68.71                     10.9\n",
      "Papua New Guinea                    38.46                62.43                     23.97\n",
      "Poland                              67.68                76.85                     9.17\n",
      "Puerto Rico                         68.72                78.71                     9.99\n",
      "Korea, Dem. Rep.                    51.08                69.81                     18.73\n",
      "Portugal                            62.81                80.37                     17.56\n",
      "Paraguay                            63.79                72.27                     8.48\n",
      "French Polynesia                    56.36                76.34                     19.98\n",
      "Qatar                               61.25                78.61                     17.36\n",
      "Romania                             65.64                74.46                     8.82\n",
      "Russian Federation                  66.06                71.07                     5.01\n",
      "Rwanda                              42.25                63.99                     21.74\n",
      "Saudi Arabia                        45.67                75.7                      30.03\n",
      "Sudan                               48.19                62.04                     13.85\n",
      "Senegal                             38.21                63.35                     25.14\n",
      "Singapore                           65.66                82.35                     16.69\n",
      "Solomon Islands                     49.38                67.72                     18.34\n",
      "Sierra Leone                        30.33                45.55                     15.22\n",
      "El Salvador                         51.3                 72.34                     21.04\n",
      "Somalia                             36.97                55.02                     18.05\n",
      "South Sudan                         31.68                55.24                     23.56\n",
      "Sao Tome and Principe               50.45                66.26                     15.81\n",
      "Suriname                            59.68                71.03                     11.35\n",
      "Slovak Republic                     69.98                76.26                     6.28\n",
      "Slovenia                            68.98                80.28                     11.3\n",
      "Sweden                              73.01                81.7                      8.69\n",
      "Swaziland                           44.23                48.94                     4.71\n",
      "Syrian Arab Republic                52.77                74.72                     21.95\n",
      "Chad                                38.02                51.16                     13.14\n",
      "Togo                                40.27                56.49                     16.22\n",
      "Thailand                            55.24                74.37                     19.13\n",
      "Tajikistan                          56.15                67.37                     11.22\n",
      "Turkmenistan                        54.46                65.46                     11.0\n",
      "Timor-Leste                         33.73                67.52                     33.79\n",
      "Tonga                               61.36                72.64                     11.28\n",
      "Trinidad and Tobago                 62.66                69.93                     7.27\n",
      "Tunisia                             42.01                73.65                     31.64\n",
      "Turkey                              45.38                75.18                     29.8\n",
      "Tanzania                            43.65                61.49                     17.84\n",
      "Uganda                              43.98                59.19                     15.21\n",
      "Ukraine                             68.3                 71.16                     2.86\n",
      "Uruguay                             67.9                 77.05                     9.15\n",
      "United States                       69.77                78.84                     9.07\n",
      "Uzbekistan                          58.89                68.23                     9.34\n",
      "St. Vincent and the Grenadines      57.72                72.5                      14.78\n",
      "Venezuela, RB                       59.53                74.64                     15.11\n",
      "Virgin Islands (U.S.)               63.73                79.62                     15.89\n",
      "Vietnam                             59.07                75.76                     16.69\n",
      "Vanuatu                             46.49                71.69                     25.2\n",
      "Samoa                               49.97                73.26                     23.29\n",
      "Yemen, Rep.                         32.39                63.09                     30.7\n",
      "South Africa                        49.04                56.74                     7.7\n",
      "Zambia                              45.11                58.09                     12.98\n",
      "Zimbabwe                            51.54                59.77                     8.23\n"
     ]
    }
   ],
   "source": [
    "## Better but the formatting is still pretty bad\n",
    "## Let's improve a little more\n",
    "\n",
    "##Build a table\n",
    "def display_stats (some_list): \n",
    "    \"\"\"Displays output of previous functions as a table\"\"\"\n",
    "    # print header row\n",
    "    header = ['Country', 'Life Exp 1960', 'Life Exp 2013', 'Change in Life Exp']\n",
    "    print(\"{:<35} {:<20} {:<25} {}\".format(*header))\n",
    "    \n",
    "    for country in some_list: \n",
    "        country_name = country['country']\n",
    "        le_1960 = round(country['le_1960'],2)\n",
    "        le_2013 = round(country['le_2013'],2)\n",
    "        change = round(le_2013 - le_1960,2)\n",
    "        print(\"{:<35} {:<20} {:<25} {}\".format(country_name, le_1960, le_2013, change))\n",
    "display_stats(life_expectancy_list)\n"
   ]
  },
  {
   "cell_type": "markdown",
   "metadata": {},
   "source": [
    "Finally, my goal is to produce a table of the top 10 countries that had the most improved change in life expectancy. \n",
    "\n",
    "First, I have to sort my entire country dictionary based on the values for my change key. \n",
    "\n",
    "There are many ways to do this, but the most efficient is definitely with a lambda function. \n",
    "\n",
    "Lambdas are \"pythonic\" and efficient ways to do work like sorting. \n",
    "\n",
    "The way it works is similar to list comprehensions, but the syntax is different. The general syntax is: \n",
    "* lambda arguments: expression\n",
    "\n",
    "as in: \n",
    "\n",
    "* newlist = sorted(list_to_be_sorted, key=lambda item: item['name']) \n",
    "\n",
    "These variables mean: \n",
    "* sorted is the function I want to apply to my list\n",
    "* key is parameter for this lambda (https://www.afternerd.com/blog/python-lambdas/)\n",
    "* \"item\" is an arbitrary anonymous variable name referencing my dictionaries\n",
    "* ['name'] is defining which attribute I want to sort by"
   ]
  },
  {
   "cell_type": "code",
   "execution_count": 78,
   "metadata": {},
   "outputs": [
    {
     "name": "stdout",
     "output_type": "stream",
     "text": [
      "[{'country': 'Maldives', 'le_1960': 35.85960976, 'le_2013': 77.93536585, 'change': 42.07575609}, {'country': 'Bhutan', 'le_1960': 32.35936585, 'le_2013': 68.30231707, 'change': 35.94295122}, {'country': 'Oman', 'le_1960': 42.66707317, 'le_2013': 76.85202439, 'change': 34.184951219999995}, {'country': 'Timor-Leste', 'le_1960': 33.72712195, 'le_2013': 67.52236585, 'change': 33.7952439}, {'country': 'Libya', 'le_1960': 42.64119512, 'le_2013': 75.36168293, 'change': 32.72048781}, {'country': 'China', 'le_1960': 43.46580488, 'le_2013': 75.35302439, 'change': 31.88721951}, {'country': 'Tunisia', 'le_1960': 42.0097561, 'le_2013': 73.64634146, 'change': 31.636585360000005}, {'country': 'Yemen, Rep.', 'le_1960': 32.38565854, 'le_2013': 63.08958537, 'change': 30.70392683}, {'country': 'Cambodia', 'le_1960': 41.20129268, 'le_2013': 71.74756098, 'change': 30.5462683}, {'country': 'Saudi Arabia', 'le_1960': 45.66626829, 'le_2013': 75.70336585, 'change': 30.03709756}]\n"
     ]
    }
   ],
   "source": [
    "#Sort\n",
    "##What I want to do is to sort by change\n",
    "for ctry in life_expectancy_list: \n",
    "    #https://stackoverflow.com/questions/72899/how-do-i-sort-a-list-of-dictionaries-by-a-value-of-the-dictionary\n",
    "    sorted_countries = sorted(life_expectancy_list, key=lambda item: item['change'], reverse = True) \n",
    "\n",
    "print(sorted_countries[:10]) #top 10\n"
   ]
  },
  {
   "cell_type": "markdown",
   "metadata": {},
   "source": [
    "Finally, I can pull my sorted_countries data in and display it"
   ]
  },
  {
   "cell_type": "code",
   "execution_count": 79,
   "metadata": {},
   "outputs": [
    {
     "name": "stdout",
     "output_type": "stream",
     "text": [
      "Country                             Life Exp 1960        Life Exp 2013             Change in Life Exp\n",
      "Maldives                            35.86                77.94                     42.08\n",
      "Bhutan                              32.36                68.3                      35.94\n",
      "Oman                                42.67                76.85                     34.18\n",
      "Timor-Leste                         33.73                67.52                     33.79\n",
      "Libya                               42.64                75.36                     32.72\n",
      "China                               43.47                75.35                     31.88\n",
      "Tunisia                             42.01                73.65                     31.64\n",
      "Yemen, Rep.                         32.39                63.09                     30.7\n",
      "Cambodia                            41.2                 71.75                     30.55\n",
      "Saudi Arabia                        45.67                75.7                      30.03\n"
     ]
    }
   ],
   "source": [
    "display_stats(sorted_countries[:10])"
   ]
  },
  {
   "cell_type": "markdown",
   "metadata": {},
   "source": [
    "### Update 3/17\n",
    "# Tweet Analysis Help\n",
    "\n",
    "This section is intended to show you what the output of your functions could look like in the analysis portion of the a5 homework.\n",
    "\n",
    "The intention here is to show you what the output should look like, then you can work backward in your program.\n"
   ]
  },
  {
   "cell_type": "markdown",
   "metadata": {},
   "source": [
    "## 1. Tweets...whoo!\n",
    "\n",
    "Let's start with a tweet. Any tweet. Out of the box, it should look something like this:"
   ]
  },
  {
   "cell_type": "code",
   "execution_count": 4,
   "metadata": {},
   "outputs": [],
   "source": [
    "some_tweet = {'created_at': 'Fri Oct 07 23:04:20 +0000 2016', 'retweet_count': 1, 'entities': {'hashtags': [{'indices': [9, 21], 'text': 'GeekGirlCon'}]}, 'user': {'screen_name': 'UW_iSchool'}, 'text': 'Going to #GeekGirlCon this weekend in Seattle? So are we! Come and visit and learn about our programs. https://t.co/yJ4Vhx8oOA'}\n"
   ]
  },
  {
   "cell_type": "code",
   "execution_count": 5,
   "metadata": {},
   "outputs": [
    {
     "data": {
      "text/plain": [
       "{'created_at': 'Fri Oct 07 23:04:20 +0000 2016',\n",
       " 'retweet_count': 1,\n",
       " 'entities': {'hashtags': [{'indices': [9, 21], 'text': 'GeekGirlCon'}]},\n",
       " 'user': {'screen_name': 'UW_iSchool'},\n",
       " 'text': 'Going to #GeekGirlCon this weekend in Seattle? So are we! Come and visit and learn about our programs. https://t.co/yJ4Vhx8oOA'}"
      ]
     },
     "execution_count": 5,
     "metadata": {},
     "output_type": "execute_result"
    }
   ],
   "source": [
    "#If you print it, it looks like this:\n",
    "some_tweet"
   ]
  },
  {
   "cell_type": "markdown",
   "metadata": {},
   "source": [
    "## 2. Parse Tweets\n",
    "\n",
    "So okay, you have tweets, big deal. You want to analyze the tweets. First you need to prep some reference data.\n",
    "\n",
    "One way you can do this is to generate a parse_tweets function that takes as an argument some tweets data. It could be one tweet, it could be 1 billion tweets.\n",
    "\n",
    "This function should return some summary \"reference data\" for each tweet:\n",
    "\n",
    "* A list of the words in the tweet text. This should reference your earlier function that splits text into a list of words using the re.split function\n",
    "* A dictionary of all the sentiments that correspond to words in this tweet (reference the previous words list you just created). You should call your earlier function that compares any list of words to the sentiments dictionary and creates lists of words for each sentiment\n",
    "* A list of all of the hashtags in this tweet"
   ]
  },
  {
   "cell_type": "markdown",
   "metadata": {},
   "source": [
    "#### For Example:\n",
    "\n",
    "* \"words\" should look like: ['going', 'to'...]\n",
    "* \"sentiments\" should look like: {'positive': ['visit', 'learn'], ...}\n",
    "* \"hashtags\" should look like: ['GeekGirlCon']\n",
    "\n",
    "Bringing it all together, your tweet should now look like:"
   ]
  },
  {
   "cell_type": "code",
   "execution_count": 12,
   "metadata": {},
   "outputs": [],
   "source": [
    "some_tweet = {'created_at': 'Fri Oct 07 23:04:20 +0000 2016', 'retweet_count': 1, 'entities': {'hashtags': [{'indices': [9, 21], 'text': 'GeekGirlCon'}]}, 'user': {'screen_name': 'UW_iSchool'}, 'text': 'Going to #GeekGirlCon this weekend in Seattle? So are we! Come and visit and learn about our programs. https://t.co/yJ4Vhx8oOA', 'words': ['going', 'to', 'geekgirlcon', 'this', 'weekend', 'in', 'seattle', 'so', 'are', 'we', 'come', 'and', 'visit', 'and', 'learn', 'about', 'our', 'programs', 'https', 'co', 'yj4vhx8ooa'], 'sentiments': {'positive': ['visit', 'learn'], 'negative': [], 'anger': [], 'anticipation': [], 'disgust': [], 'fear': [], 'joy': [], 'sadness': [], 'surprise': [], 'trust': []}, 'hashtags': ['GeekGirlCon']}\n"
   ]
  },
  {
   "cell_type": "code",
   "execution_count": 13,
   "metadata": {},
   "outputs": [
    {
     "data": {
      "text/plain": [
       "{'created_at': 'Fri Oct 07 23:04:20 +0000 2016',\n",
       " 'retweet_count': 1,\n",
       " 'entities': {'hashtags': [{'indices': [9, 21], 'text': 'GeekGirlCon'}]},\n",
       " 'user': {'screen_name': 'UW_iSchool'},\n",
       " 'text': 'Going to #GeekGirlCon this weekend in Seattle? So are we! Come and visit and learn about our programs. https://t.co/yJ4Vhx8oOA',\n",
       " 'words': ['going',\n",
       "  'to',\n",
       "  'geekgirlcon',\n",
       "  'this',\n",
       "  'weekend',\n",
       "  'in',\n",
       "  'seattle',\n",
       "  'so',\n",
       "  'are',\n",
       "  'we',\n",
       "  'come',\n",
       "  'and',\n",
       "  'visit',\n",
       "  'and',\n",
       "  'learn',\n",
       "  'about',\n",
       "  'our',\n",
       "  'programs',\n",
       "  'https',\n",
       "  'co',\n",
       "  'yj4vhx8ooa'],\n",
       " 'sentiments': {'positive': ['visit', 'learn'],\n",
       "  'negative': [],\n",
       "  'anger': [],\n",
       "  'anticipation': [],\n",
       "  'disgust': [],\n",
       "  'fear': [],\n",
       "  'joy': [],\n",
       "  'sadness': [],\n",
       "  'surprise': [],\n",
       "  'trust': []},\n",
       " 'hashtags': ['GeekGirlCon']}"
      ]
     },
     "execution_count": 13,
     "metadata": {},
     "output_type": "execute_result"
    }
   ],
   "source": [
    "some_tweet"
   ]
  },
  {
   "cell_type": "markdown",
   "metadata": {},
   "source": [
    "Again, all of this is just reference data. You're going to aggregate it later, in a new data structure that will store the final data you want to represent in your formatted table."
   ]
  },
  {
   "cell_type": "markdown",
   "metadata": {},
   "source": [
    "## 3. Analyze Tweets\n",
    "\n",
    "Alright, this part is a real booger, so hang tough. \n",
    "\n",
    "You want to create:\n",
    "* a function that analyzes (ahem! *parsed*) tweets and returns a dictionary containing summary data about the tweet population, including: count of total words in a given tweet population, for every emotion there is a sorted list of common words in this tweet population, and for every emotion there is a sorted list of hashtags. The hashtags are \"related\" to a given emotion if a word in a given tweet relates to that emotion. Therefore, the same hashtag may relate to multiple emotions. \n",
    "\n",
    "*Hint:* This is really dang hard to explain succintly in words, but alas, human words are the best ones we have for now. So, you might just rip off the above bullet point and use it for your doc string..."
   ]
  },
  {
   "cell_type": "markdown",
   "metadata": {},
   "source": [
    "#### Breaking it down: \n",
    "\n",
    "That's a lot of words, what do they mean. Let's break this down one piece at a time. \n",
    "\n",
    "#### 1. You need to create a function, could call it `analyze_tweets` that takes tweets as an argument, one, or a bunch. \n",
    "\n",
    "* Question A: You might be wondering, parsed tweets, or just tweets...think about it for a minute, then read the answer below to confirm that you already knew the correct answer. \n",
    "\n",
    "#### 2. This function should create a new data structure that stores your summary data about this tweet population. Consider giving it a really smart, intuitive, and clever name, something like `summary_data`. \n",
    "\n",
    "* Question B: You might be wondering, what kind of data structure should I use? Dictionary or List? If it's not obvious, consider that you want to reference the name of some thing and get the value for it. Does a list or a dictionary work better for that? Think think think...then look at the answer below. \n",
    "\n",
    "#### 3. Because you want to do some division work and produce percents in your table, you're going to need a denominator. Here it is the total count of all the words in all the tweets. \n",
    "* Question C: Aren't you glad you already counted all the words in each tweet? You didn't do that? That's okay. You can do it here or in your parse tweets function. Either way will work. \n",
    "\n",
    "#### 4. Now _for every emotion word in the EMOTION list_ you want to get all the words in all the tweets in this population, that relate to a given emotion in one list, with the most common words appearing first in the list. Append that to your summary_data dictionary...errr umm...data structure. \n",
    "\n",
    "#### 5. Again, _for every emotion word in the EMOTION list_ create a key that's the count of the emotion words for a given emotion (#4 above). Like, 29 positive words, 12 negative words...You'll use this to do math later. Trust me, DO IT. \n",
    "\n",
    "#### 6. Still, _for every emotion word in the EMOTION list_ \"find the most common words\". You should reference your earlier function that finds the most common words for any list of words\n",
    "\n",
    "#### 7. Still, _for every emotion word in the EMOTION list_ \"find the hashtags related to the given emotion\". More on this below. \n",
    "* Are you seeing a trend here? All this work can be done in the same for loop! OMGosh!\n",
    "\n",
    "\n",
    "#### Answers: \n",
    "* Answer A: You should call your parse_tweets function you just created within this function. This is a method of chaining functions together. The first thing analyze_tweets does is...yes, parse tweets. You could just load up your analyze_tweets function with the parse_tweets logic. Right? But it's a good practice to break out discrete pieces of logic into their own functions and just call them later. \n",
    "* Answer B: A dictionary!\n",
    "\n"
   ]
  },
  {
   "cell_type": "markdown",
   "metadata": {},
   "source": [
    "### Okay, so about Emotional Tweets: \n",
    "\n",
    "You want to find hashtags that relate to emotions. BUT: \n",
    "* Hashtags won't correspond to an emotions because something like \"mlis\" or \"indigenouspeoplesday\" won't show up in the sentiments dictionary. \n",
    "* Instead, what you want is something like this: a tweet has text that can be broken into words, a tweet also has hashtags. When a tweet has words that correspond to an emotion, assume that that hashtag corresponds to an emotion\n",
    "\n",
    "Since the hashtags aren't \"real\" words (e.g. #mlis), they won't correspond to words in the sentiment dictionary. Therefore you can just assume that if a tweet has a word that is a key in the emotion dictionary, then the hashtags have the same emotion as the \"real\" words in the tweet. \n",
    "\n",
    "Here's an example: So for the first tweet, \"happy\" corresponds to \"positive\" and therefore #indigenouspeoplesday will also have a \"positive\" association."
   ]
  },
  {
   "cell_type": "markdown",
   "metadata": {},
   "source": [
    "## 4. Emotional Tags Function: \n",
    "\n",
    "You may (read: will) find it helpful to create a helper function that identifies emotional hashtags. \n",
    "\n",
    "You can call it something like, `get_emotional_hashtags`. It should take two arguments: 1. tweets, and 2. an emotion.  It should return a list of hashtags if a tweet has a value in the sentiments dictionary for the given emotion. \n",
    "\n",
    "The work that it should do is: \n",
    "* for every tweet in tweets\n",
    "* reference your tweet \"reference data\" at the sentiments key and the given emotion (the argument you passed)\n",
    "* if the above bullet point is true, then return the hashtag (in lower case)"
   ]
  },
  {
   "cell_type": "markdown",
   "metadata": {},
   "source": [
    "In case that's not clear, here it is scaffolded: "
   ]
  },
  {
   "cell_type": "code",
   "execution_count": null,
   "metadata": {},
   "outputs": [],
   "source": [
    "def get_emotion_hashtags(tweets, emotion):\n",
    "    \"\"\"The function takes two arguments: 1. tweets, and 2. an emotion.  \n",
    "    It returns a list of hashtags if a tweet has a value in the sentiments dictionary for the given emotion. \"\"\"\n",
    "    for tweet in tweets: \n",
    "        if tweet['sentiments'][emotion]: #This boolean will either return an empty list or some hashtags. \n",
    "            ##store the hashtags in a variable\n",
    "            ##return a list of lower case hashtags...a list comprehension would work well here"
   ]
  },
  {
   "cell_type": "markdown",
   "metadata": {},
   "source": [
    "## 5. Bringing it all Back Home\n",
    "\n",
    "In honor of Bob Dylan's 5th studio album, now you should be bringing it all back home. \n",
    "\n",
    "Below, I'll show you what some analyzed tweets should look like after they run through your analyze_tweets function. \n",
    "\n",
    "For this example, I'm looking at tweets at the index 10-11. I use these for demonstration purposes, because one of them is a tweet with 2 hashtags. Here is tweet 10"
   ]
  },
  {
   "cell_type": "code",
   "execution_count": 25,
   "metadata": {},
   "outputs": [],
   "source": [
    "analyzed_tweet = {'created_at': 'Thu Oct 06 19:31:40 +0000 2016', 'retweet_count': 26, 'entities': {'hashtags': [{'indices': [40, 56], 'text': 'SuzzalloLibrary'}, {'indices': [72, 82], 'text': 'NoBrainer'}]}, 'user': {'screen_name': 'UW_iSchool'}, 'text': 'RT @UW: Is anyone surprised to see that #SuzzalloLibrary made the list? #NoBrainer :)\\nCC @uwlibraries https://t.co/OCz15kMQ8R', 'words': ['rt', 'uw', 'is', 'anyone', 'surprised', 'to', 'see', 'that', 'suzzallolibrary', 'made', 'the', 'list', 'nobrainer', 'cc', 'uwlibraries', 'https', 'co', 'ocz15kmq8r'], 'sentiments': {'positive': [], 'negative': [], 'anger': [], 'anticipation': [], 'disgust': [], 'fear': [], 'joy': [], 'sadness': [], 'surprise': ['surprised'], 'trust': []}, 'hashtags': ['SuzzalloLibrary', 'NoBrainer']}\n"
   ]
  },
  {
   "cell_type": "code",
   "execution_count": 27,
   "metadata": {},
   "outputs": [
    {
     "data": {
      "text/plain": [
       "{'created_at': 'Thu Oct 06 19:31:40 +0000 2016',\n",
       " 'retweet_count': 26,\n",
       " 'entities': {'hashtags': [{'indices': [40, 56], 'text': 'SuzzalloLibrary'},\n",
       "   {'indices': [72, 82], 'text': 'NoBrainer'}]},\n",
       " 'user': {'screen_name': 'UW_iSchool'},\n",
       " 'text': 'RT @UW: Is anyone surprised to see that #SuzzalloLibrary made the list? #NoBrainer :)\\nCC @uwlibraries https://t.co/OCz15kMQ8R',\n",
       " 'words': ['rt',\n",
       "  'uw',\n",
       "  'is',\n",
       "  'anyone',\n",
       "  'surprised',\n",
       "  'to',\n",
       "  'see',\n",
       "  'that',\n",
       "  'suzzallolibrary',\n",
       "  'made',\n",
       "  'the',\n",
       "  'list',\n",
       "  'nobrainer',\n",
       "  'cc',\n",
       "  'uwlibraries',\n",
       "  'https',\n",
       "  'co',\n",
       "  'ocz15kmq8r'],\n",
       " 'sentiments': {'positive': [],\n",
       "  'negative': [],\n",
       "  'anger': [],\n",
       "  'anticipation': [],\n",
       "  'disgust': [],\n",
       "  'fear': [],\n",
       "  'joy': [],\n",
       "  'sadness': [],\n",
       "  'surprise': ['surprised'],\n",
       "  'trust': []},\n",
       " 'hashtags': ['SuzzalloLibrary', 'NoBrainer']}"
      ]
     },
     "execution_count": 27,
     "metadata": {},
     "output_type": "execute_result"
    }
   ],
   "source": [
    "analyzed_tweet"
   ]
  },
  {
   "cell_type": "markdown",
   "metadata": {},
   "source": [
    "See those two hashtags at the end? \n",
    "\n",
    "That's all well and good, but what about the data that this produces? \n",
    "\n",
    "My summary data object should look like this: "
   ]
  },
  {
   "cell_type": "code",
   "execution_count": 28,
   "metadata": {},
   "outputs": [],
   "source": [
    "summary_data = {'total_word_count': 18, 'positive': {'count': 0, 'words': [], 'hashtags': None}, 'negative': {'count': 0, 'words': [], 'hashtags': None}, 'anger': {'count': 0, 'words': [], 'hashtags': None}, 'anticipation': {'count': 0, 'words': [], 'hashtags': None}, 'disgust': {'count': 0, 'words': [], 'hashtags': None}, 'fear': {'count': 0, 'words': [], 'hashtags': None}, 'joy': {'count': 0, 'words': [], 'hashtags': None}, 'sadness': {'count': 0, 'words': [], 'hashtags': None}, 'surprise': {'count': 1, 'words': ['surprised'], 'hashtags': ['suzzallolibrary', 'nobrainer']}, 'trust': {'count': 0, 'words': [], 'hashtags': None}}\n"
   ]
  },
  {
   "cell_type": "code",
   "execution_count": 29,
   "metadata": {},
   "outputs": [
    {
     "data": {
      "text/plain": [
       "{'total_word_count': 18,\n",
       " 'positive': {'count': 0, 'words': [], 'hashtags': None},\n",
       " 'negative': {'count': 0, 'words': [], 'hashtags': None},\n",
       " 'anger': {'count': 0, 'words': [], 'hashtags': None},\n",
       " 'anticipation': {'count': 0, 'words': [], 'hashtags': None},\n",
       " 'disgust': {'count': 0, 'words': [], 'hashtags': None},\n",
       " 'fear': {'count': 0, 'words': [], 'hashtags': None},\n",
       " 'joy': {'count': 0, 'words': [], 'hashtags': None},\n",
       " 'sadness': {'count': 0, 'words': [], 'hashtags': None},\n",
       " 'surprise': {'count': 1,\n",
       "  'words': ['surprised'],\n",
       "  'hashtags': ['suzzallolibrary', 'nobrainer']},\n",
       " 'trust': {'count': 0, 'words': [], 'hashtags': None}}"
      ]
     },
     "execution_count": 29,
     "metadata": {},
     "output_type": "execute_result"
    }
   ],
   "source": [
    "summary_data"
   ]
  },
  {
   "cell_type": "markdown",
   "metadata": {},
   "source": [
    "Do you see what's going on here? \n",
    "\n",
    "I'm looking at only 2 tweets for this summary data to try to make it easier to interpret, but you could imagine how this would fill up with information if I used more tweets. \n",
    "\n",
    "*Here's what you see:*\n",
    "\n",
    "* Total_word_count: 18, a total count of all the words in this population\n",
    "* A key for each emotion in the EMOTIONS list. For each emotion a dictionary, containing: \n",
    "    * a count of words in the tweet population that relate to that emotion\n",
    "    * a sorted list of all the words that relate to that emotion\n",
    "    * a sorted list of all the hashtags that relate to that emotion"
   ]
  },
  {
   "cell_type": "markdown",
   "metadata": {},
   "source": [
    "Now you can use this to calculate and format your final table of values. "
   ]
  },
  {
   "cell_type": "code",
   "execution_count": null,
   "metadata": {},
   "outputs": [],
   "source": []
  }
 ],
 "metadata": {
  "kernelspec": {
   "display_name": "Python 3",
   "language": "python",
   "name": "python3"
  },
  "language_info": {
   "codemirror_mode": {
    "name": "ipython",
    "version": 3
   },
   "file_extension": ".py",
   "mimetype": "text/x-python",
   "name": "python",
   "nbconvert_exporter": "python",
   "pygments_lexer": "ipython3",
   "version": "3.7.1"
  }
 },
 "nbformat": 4,
 "nbformat_minor": 2
}
