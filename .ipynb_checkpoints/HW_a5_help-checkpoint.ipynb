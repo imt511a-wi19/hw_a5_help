{
 "cells": [
  {
   "cell_type": "markdown",
   "metadata": {},
   "source": [
    "# a4 Follow-up and a5 help"
   ]
  },
  {
   "cell_type": "markdown",
   "metadata": {},
   "source": [
    "### What's Included: \n",
    "1. Someone asked for a demo of how to use the lemmatizer and to check against noun and verb lists.\n",
    "2. a5 Helpful hints and tips are included second. I'll be updating these, so you clone the repo locally, you'll have to do a \"pull\"(github jargon) to \"get latest\" (Microsoft jargon). (http://rogerdudler.github.io/git-guide/)\n",
    "\n",
    "### Updates: \n",
    "1. Fixed broken lemma example...doh 20190305"
   ]
  },
  {
   "cell_type": "markdown",
   "metadata": {},
   "source": [
    "### Lemma demo: \n",
    "Lemmatization, unlike Stemming, reduces the inflected words properly ensuring that the root word belongs to the language. In Lemmatization root word is called Lemma. A lemma (plural lemmas or lemmata) is the canonical form, dictionary form, or citation form of a set of words.\n",
    "\n",
    "For example, runs, running, ran are all forms of the word run, therefore run is the lemma of all these words. Because lemmatization returns an actual word of the language, it is used where it is necessary to get valid words.\n",
    "\n",
    "https://www.datacamp.com/community/tutorials/stemming-lemmatization-python"
   ]
  },
  {
   "cell_type": "code",
   "execution_count": null,
   "metadata": {},
   "outputs": [],
   "source": [
    "from nltk import download\n",
    "download('punkt')\n",
    "download('wordnet')"
   ]
  },
  {
   "cell_type": "code",
   "execution_count": null,
   "metadata": {},
   "outputs": [],
   "source": [
    "from nltk.stem import WordNetLemmatizer\n",
    "wordnet_lemmatizer = WordNetLemmatizer()"
   ]
  },
  {
   "cell_type": "code",
   "execution_count": null,
   "metadata": {},
   "outputs": [],
   "source": [
    "sentence = \"He was running and eating at same time. He has bad habit of swimming after playing long hours in the Sun.\"\n",
    "punctuations=\"?:!.,;\"\n",
    "sentence_words = nltk.word_tokenize(sentence)\n",
    "for word in sentence_words:\n",
    "    if word in punctuations:\n",
    "        sentence_words.remove(word)"
   ]
  },
  {
   "cell_type": "code",
   "execution_count": null,
   "metadata": {},
   "outputs": [],
   "source": [
    "sentence_words\n",
    "print(\"{0:20}{1:20}\".format(\"Word\",\"Lemma\"))\n",
    "for word in sentence_words:\n",
    "     print (\"{0:20}{1:20}\".format(word,wordnet_lemmatizer.lemmatize(word, pos=\"v\")))"
   ]
  },
  {
   "cell_type": "code",
   "execution_count": null,
   "metadata": {},
   "outputs": [],
   "source": [
    "#Create easy word dictionary for example below\n",
    "easy_word_dict = {'a': True, 'able': True, 'aboard': True, 'about': True, 'above': True, 'absent': True, 'accept': True, 'accident': True, 'account': True, 'ache': True, 'aching': True, 'acorn': True, 'acre': True, 'across': True, 'act': True, 'acts': True, 'add': True, 'address': True, 'admire': True, 'adventure': True, 'afar': True, 'afraid': True, 'after': True, 'afternoon': True, 'afterward': True, 'afterwards': True, 'again': True, 'against': True, 'age': True, 'aged': True, 'ago': True, 'agree': True, 'ah': True, 'ahead': True, 'aid': True, 'aim': True, 'air': True, 'airfield': True, 'airplane': True, 'airport': True, 'airship': True, 'airy': True, 'alarm': True, 'alike': True, 'alive': True, 'all': True, 'alley': True, 'alligator': True, 'allow': True, 'almost': True, 'alone': True, 'along': True, 'aloud': True, 'already': True, 'also': True, 'always': True, 'am': True, 'america': True, 'american': True, 'among': True, 'amount': True, 'an': True, 'and': True, 'angel': True, 'anger': True, 'angry': True, 'animal': True, 'another': True, 'answer': True, 'ant': True, 'any': True, 'anybody': True, 'anyhow': True, 'anyone': True, 'anything': True, 'anyway': True, 'anywhere': True, 'apart': True, 'apartment': True, 'ape': True, 'apiece': True, 'appear': True, 'apple': True, 'april': True, 'apron': True, 'are': True, \"aren't\": True, 'arise': True, 'arithmetic': True, 'arm': True, 'armful': True, 'army': True, 'arose': True, 'around': True, 'arrange': True, 'arrive': True, 'arrived': True, 'arrow': True, 'art': True, 'artist': True, 'as': True, 'ash': True, 'ashes': True, 'aside': True, 'ask': True, 'asleep': True, 'at': True, 'ate': True, 'attack': True, 'attend': True, 'attention': True, 'august': True, 'aunt': True, 'author': True, 'auto': True, 'automobile': True, 'autumn': True, 'avenue': True, 'awake': True, 'awaken': True, 'away': True, 'awful': True, 'awfully': True, 'awhile': True, 'ax': True, 'axe': True, 'baa': True, 'babe': True, 'babies': True, 'back': True, 'background': True, 'backward': True, 'backwards': True, 'bacon': True, 'bad': True, 'badge': True, 'badly': True, 'bag': True, 'bake': True, 'baker': True, 'bakery': True, 'baking': True, 'ball': True, 'balloon': True, 'banana': True, 'band': True, 'bandage': True, 'bang': True, 'banjo': True, 'bank': True, 'banker': True, 'bar': True, 'barber': True, 'bare': True, 'barefoot': True, 'barely': True, 'bark': True, 'barn': True, 'barrel': True, 'base': True, 'baseball': True, 'basement': True, 'basket': True, 'bat': True, 'batch': True, 'bath': True, 'bathe': True, 'bathing': True, 'bathroom': True, 'bathtub': True, 'battle': True, 'battleship': True, 'bay': True, 'be': True, 'beach': True, 'bead': True, 'beam': True, 'bean': True, 'bear': True, 'beard': True, 'beast': True, 'beat': True, 'beating': True, 'beautiful': True, 'beautify': True, 'beauty': True, 'became': True, 'because': True, 'become': True, 'becoming': True, 'bed': True, 'bedbug': True, 'bedroom': True, 'bedspread': True, 'bedtime': True, 'bee': True, 'beech': True, 'beef': True, 'beefsteak': True, 'beehive': True, 'been': True, 'beer': True, 'beet': True, 'before': True, 'beg': True, 'began': True, 'beggar': True, 'begged': True, 'begin': True, 'beginning': True, 'begun': True, 'behave': True, 'behind': True, 'being': True, 'believe': True, 'bell': True, 'belong': True, 'below': True, 'belt': True, 'bench': True, 'bend': True, 'beneath': True, 'bent': True, 'berries': True, 'berry': True, 'beside': True, 'besides': True, 'best': True, 'bet': True, 'better': True, 'between': True, 'bib': True, 'bible': True, 'bicycle': True, 'bid': True, 'big': True, 'bigger': True, 'bill': True, 'billboard': True, 'bin': True, 'bind': True, 'bird': True, 'birth': True, 'birthday': True, 'biscuit': True, 'bit': True, 'bite': True, 'biting': True, 'bitter': True, 'black': True, 'blackberry': True, 'blackbird': True, 'blackboard': True, 'blackness': True, 'blacksmith': True, 'blame': True, 'blank': True, 'blanket': True, 'blast': True, 'blaze': True, 'bleed': True, 'bless': True, 'blessing': True, 'blew': True, 'blind': True, 'blindfold': True, 'blinds': True, 'block': True, 'blood': True, 'bloom': True, 'blossom': True, 'blot': True, 'blow': True, 'blue': True, 'blueberry': True, 'bluebird': True, 'blush': True, 'board': True, 'boast': True, 'boat': True, 'bob': True, 'bobwhite': True, 'bodies': True, 'body': True, 'boil': True, 'boiler': True, 'bold': True, 'bone': True, 'bonnet': True, 'boo': True, 'book': True, 'bookcase': True, 'bookkeeper': True, 'boom': True, 'boot': True, 'born': True, 'borrow': True, 'boss': True, 'both': True, 'bother': True, 'bottle': True, 'bottom': True, 'bought': True, 'bounce': True, 'bow': True, 'bow-wow': True, 'bowl': True, 'box': True, 'boxcar': True, 'boxer': True, 'boxes': True, 'boy': True, 'boyhood': True, 'bracelet': True, 'brain': True, 'brake': True, 'bran': True, 'branch': True, 'brass': True, 'brave': True, 'bread': True, 'break': True, 'breakfast': True, 'breast': True, 'breath': True, 'breathe': True, 'breeze': True, 'brick': True, 'bride': True, 'bridge': True, 'bright': True, 'brightness': True, 'bring': True, 'broad': True, 'broadcast': True, 'broke': True, 'broken': True, 'brook': True, 'broom': True, 'brother': True, 'brought': True, 'brown': True, 'brush': True, 'bubble': True, 'bucket': True, 'buckle': True, 'bud': True, 'buffalo': True, 'bug': True, 'buggy': True, 'build': True, 'building': True, 'built': True, 'bulb': True, 'bull': True, 'bullet': True, 'bum': True, 'bumblebee': True, 'bump': True, 'bun': True, 'bunch': True, 'bundle': True, 'bunny': True, 'burn': True, 'burst': True, 'bury': True, 'bus': True, 'bush': True, 'bushel': True, 'business': True, 'busy': True, 'but': True, 'butcher': True, 'butt': True, 'butter': True, 'buttercup': True, 'butterfly': True, 'buttermilk': True, 'butterscotch': True, 'button': True, 'buttonhole': True, 'buy': True, 'buzz': True, 'by': True, 'bye': True, 'cab': True, 'cabbage': True, 'cabin': True, 'cabinet': True, 'cackle': True, 'cage': True, 'cake': True, 'calendar': True, 'calf': True, 'call': True, 'caller': True, 'calling': True, 'came': True, 'camel': True, 'camp': True, 'campfire': True, 'can': True, \"can't\": True, 'canal': True, 'canary': True, 'candle': True, 'candlestick': True, 'candy': True, 'cane': True, 'cannon': True, 'cannot': True, 'canoe': True, 'canyon': True, 'cap': True, 'cape': True, 'capital': True, 'captain': True, 'car': True, 'card': True, 'cardboard': True, 'care': True, 'careful': True, 'careless': True, 'carelessness': True, 'carload': True, 'carpenter': True, 'carpet': True, 'carriage': True, 'carrot': True, 'carry': True, 'cart': True, 'carve': True, 'case': True, 'cash': True, 'cashier': True, 'castle': True, 'cat': True, 'catbird': True, 'catch': True, 'catcher': True, 'caterpillar': True, 'catfish': True, 'catsup': True, 'cattle': True, 'caught': True, 'cause': True, 'cave': True, 'ceiling': True, 'cell': True, 'cellar': True, 'cent': True, 'center': True, 'cereal': True, 'certain': True, 'certainly': True, 'chain': True, 'chair': True, 'chalk': True, 'champion': True, 'chance': True, 'change': True, 'chap': True, 'charge': True, 'charm': True, 'chart': True, 'chase': True, 'chatter': True, 'cheap': True, 'cheat': True, 'check': True, 'checkers': True, 'cheek': True, 'cheer': True, 'cheese': True, 'cherry': True, 'chest': True, 'chew': True, 'chick': True, 'chicken': True, 'chief': True, 'child': True, 'childhood': True, 'children': True, 'chill': True, 'chilly': True, 'chimney': True, 'chin': True, 'china': True, 'chip': True, 'chipmunk': True, 'chocolate': True, 'choice': True, 'choose': True, 'chop': True, 'chorus': True, 'chose': True, 'chosen': True, 'christen': True, 'christmas': True, 'church': True, 'churn': True, 'cigarette': True, 'circle': True, 'circus': True, 'citizen': True, 'city': True, 'clang': True, 'clap': True, 'class': True, 'classmate': True, 'classroom': True, 'claw': True, 'clay': True, 'clean': True, 'cleaner': True, 'clear': True, 'clerk': True, 'clever': True, 'click': True, 'cliff': True, 'climb': True, 'clip': True, 'cloak': True, 'clock': True, 'close': True, 'closet': True, 'cloth': True, 'clothes': True, 'clothing': True, 'cloud': True, 'cloudy': True, 'clover': True, 'clown': True, 'club': True, 'cluck': True, 'clump': True, 'coach': True, 'coal': True, 'coast': True, 'coat': True, 'cob': True, 'cobbler': True, 'cocoa': True, 'coconut': True, 'cocoon': True, 'cod': True, 'codfish': True, 'coffee': True, 'coffeepot': True, 'coin': True, 'cold': True, 'collar': True, 'college': True, 'color': True, 'colored': True, 'colt': True, 'column': True, 'comb': True, 'come': True, 'comfort': True, 'comic': True, 'coming': True, 'company': True, 'compare': True, 'conductor': True, 'cone': True, 'connect': True, 'coo': True, 'cook': True, 'cooked': True, 'cookie': True, 'cookies': True, 'cooking': True, 'cool': True, 'cooler': True, 'coop': True, 'copper': True, 'copy': True, 'cord': True, 'cork': True, 'corn': True, 'corner': True, 'correct': True, 'cost': True, 'cot': True, 'cottage': True, 'cotton': True, 'couch': True, 'cough': True, 'could': True, \"couldn't\": True, 'count': True, 'counter': True, 'country': True, 'county': True, 'course': True, 'court': True, 'cousin': True, 'cover': True, 'cow': True, 'coward': True, 'cowardly': True, 'cowboy': True, 'cozy': True, 'crab': True, 'crack': True, 'cracker': True, 'cradle': True, 'cramps': True, 'cranberry': True, 'crank': True, 'cranky': True, 'crash': True, 'crawl': True, 'crazy': True, 'cream': True, 'creamy': True, 'creek': True, 'creep': True, 'crept': True, 'cried': True, 'cries': True, 'croak': True, 'crook': True, 'crooked': True, 'crop': True, 'cross': True, 'cross-eyed': True, 'crossing': True, 'crow': True, 'crowd': True, 'crowded': True, 'crown': True, 'cruel': True, 'crumb': True, 'crumble': True, 'crush': True, 'crust': True, 'cry': True, 'cub': True, 'cuff': True, 'cup': True, 'cupboard': True, 'cupful': True, 'cure': True, 'curl': True, 'curly': True, 'curtain': True, 'curve': True, 'cushion': True, 'custard': True, 'customer': True, 'cut': True, 'cute': True, 'cutting': True, 'dab': True, 'dad': True, 'daddy': True, 'daily': True, 'dairy': True, 'daisy': True, 'dam': True, 'damage': True, 'dame': True, 'damp': True, 'dance': True, 'dancer': True, 'dancing': True, 'dandy': True, 'danger': True, 'dangerous': True, 'dare': True, 'dark': True, 'darkness': True, 'darling': True, 'darn': True, 'dart': True, 'dash': True, 'date': True, 'daughter': True, 'dawn': True, 'day': True, 'daybreak': True, 'daytime': True, 'dead': True, 'deaf': True, 'deal': True, 'dear': True, 'death': True, 'december': True, 'decide': True, 'deck': True, 'deed': True, 'deep': True, 'deer': True, 'defeat': True, 'defend': True, 'defense': True, 'delight': True, 'den': True, 'dentist': True, 'depend': True, 'deposit': True, 'describe': True, 'desert': True, 'deserve': True, 'desire': True, 'desk': True, 'destroy': True, 'devil': True, 'dew': True, 'diamond': True, 'did': True, \"didn't\": True, 'die': True, 'died': True, 'dies': True, 'difference': True, 'different': True, 'dig': True, 'dim': True, 'dime': True, 'dine': True, 'ding-dong': True, 'dinner': True, 'dip': True, 'direct': True, 'direction': True, 'dirt': True, 'dirty': True, 'discover': True, 'dish': True, 'dislike': True, 'dismiss': True, 'ditch': True, 'dive': True, 'diver': True, 'divide': True, 'do': True, 'dock': True, 'doctor': True, 'does': True, \"doesn't\": True, 'dog': True, 'doll': True, 'dollar': True, 'dolly': True, \"don't\": True, 'done': True, 'donkey': True, 'door': True, 'doorbell': True, 'doorknob': True, 'doorstep': True, 'dope': True, 'dot': True, 'double': True, 'dough': True, 'dove': True, 'down': True, 'downstairs': True, 'downtown': True, 'dozen': True, 'drag': True, 'drain': True, 'drank': True, 'draw': True, 'drawer': True, 'drawing': True, 'dream': True, 'dress': True, 'dresser': True, 'dressmaker': True, 'drew': True, 'dried': True, 'drift': True, 'drill': True, 'drink': True, 'drip': True, 'drive': True, 'driven': True, 'driver': True, 'drop': True, 'drove': True, 'drown': True, 'drowsy': True, 'drub': True, 'drum': True, 'drunk': True, 'dry': True, 'duck': True, 'due': True, 'dug': True, 'dull': True, 'dumb': True, 'dump': True, 'during': True, 'dust': True, 'dusty': True, 'duty': True, 'dwarf': True, 'dwell': True, 'dwelt': True, 'dying': True, 'each': True, 'eager': True, 'eagle': True, 'ear': True, 'early': True, 'earn': True, 'earth': True, 'east': True, 'eastern': True, 'easy': True, 'eat': True, 'eaten': True, 'edge': True, 'egg': True, 'eh': True, 'eight': True, 'eighteen': True, 'eighth': True, 'eighty': True, 'either': True, 'elbow': True, 'elder': True, 'eldest': True, 'electric': True, 'electricity': True, 'elephant': True, 'eleven': True, 'elf': True, 'elm': True, 'else': True, 'elsewhere': True, 'empty': True, 'end': True, 'ending': True, 'enemy': True, 'engine': True, 'engineer': True, 'english': True, 'enjoy': True, 'enough': True, 'enter': True, 'envelope': True, 'equal': True, 'erase': True, 'eraser': True, 'errand': True, 'escape': True, 'eve': True, 'even': True, 'evening': True, 'ever': True, 'every': True, 'everybody': True, 'everyday': True, 'everyone': True, 'everything': True, 'everywhere': True, 'evil': True, 'exact': True, 'except': True, 'exchange': True, 'excited': True, 'exciting': True, 'excuse': True, 'exit': True, 'expect': True, 'explain': True, 'extra': True, 'eye': True, 'eyebrow': True, 'fable': True, 'face': True, 'facing': True, 'fact': True, 'factory': True, 'fail': True, 'faint': True, 'fair': True, 'fairy': True, 'faith': True, 'fake': True, 'fall': True, 'false': True, 'family': True, 'fan': True, 'fancy': True, 'far': True, 'far-off': True, 'faraway': True, 'fare': True, 'farm': True, 'farmer': True, 'farming': True, 'farther': True, 'fashion': True, 'fast': True, 'fasten': True, 'fat': True, 'father': True, 'fault': True, 'favor': True, 'favorite': True, 'fear': True, 'feast': True, 'feather': True, 'february': True, 'fed': True, 'feed': True, 'feel': True, 'feet': True, 'fell': True, 'fellow': True, 'felt': True, 'fence': True, 'fever': True, 'few': True, 'fib': True, 'fiddle': True, 'field': True, 'fife': True, 'fifteen': True, 'fifth': True, 'fifty': True, 'fig': True, 'fight': True, 'figure': True, 'file': True, 'fill': True, 'film': True, 'finally': True, 'find': True, 'fine': True, 'finger': True, 'finish': True, 'fire': True, 'firearm': True, 'firecracker': True, 'fireplace': True, 'fireworks': True, 'firing': True, 'first': True, 'fish': True, 'fisherman': True, 'fist': True, 'fit': True, 'fits': True, 'five': True, 'fix': True, 'flag': True, 'flake': True, 'flame': True, 'flap': True, 'flash': True, 'flashlight': True, 'flat': True, 'flea': True, 'flesh': True, 'flew': True, 'flies': True, 'flight': True, 'flip': True, 'flip-flop': True, 'float': True, 'flock': True, 'flood': True, 'floor': True, 'flop': True, 'flour': True, 'flow': True, 'flower': True, 'flowery': True, 'flutter': True, 'fly': True, 'foam': True, 'fog': True, 'foggy': True, 'fold': True, 'folks': True, 'follow': True, 'following': True, 'fond': True, 'food': True, 'fool': True, 'foolish': True, 'foot': True, 'football': True, 'footprint': True, 'for': True, 'forehead': True, 'forest': True, 'forget': True, 'forgive': True, 'forgot': True, 'forgotten': True, 'fork': True, 'form': True, 'fort': True, 'forth': True, 'fortune': True, 'forty': True, 'forward': True, 'fought': True, 'found': True, 'fountain': True, 'four': True, 'fourteen': True, 'fourth': True, 'fox': True, 'frame': True, 'free': True, 'freedom': True, 'freeze': True, 'freight': True, 'french': True, 'fresh': True, 'fret': True, 'friday': True, 'fried': True, 'friend': True, 'friendly': True, 'friendship': True, 'frighten': True, 'frog': True, 'from': True, 'front': True, 'frost': True, 'frown': True, 'froze': True, 'fruit': True, 'fry': True, 'fudge': True, 'fuel': True, 'full': True, 'fully': True, 'fun': True, 'funny': True, 'fur': True, 'furniture': True, 'further': True, 'fuzzy': True, 'gain': True, 'gallon': True, 'gallop': True, 'game': True, 'gang': True, 'garage': True, 'garbage': True, 'garden': True, 'gas': True, 'gasoline': True, 'gate': True, 'gather': True, 'gave': True, 'gay': True, 'gear': True, 'geese': True, 'general': True, 'gentle': True, 'gentleman': True, 'gentlemen': True, 'geography': True, 'get': True, 'getting': True, 'giant': True, 'gift': True, 'gingerbread': True, 'girl': True, 'give': True, 'given': True, 'giving': True, 'glad': True, 'gladly': True, 'glance': True, 'glass': True, 'glasses': True, 'gleam': True, 'glide': True, 'glory': True, 'glove': True, 'glow': True, 'glue': True, 'go': True, 'goal': True, 'goat': True, 'gobble': True, 'god': True, 'godmother': True, 'goes': True, 'going': True, 'gold': True, 'golden': True, 'goldfish': True, 'golf': True, 'gone': True, 'good': True, 'good-by': True, 'good-bye': True, 'good-looking': True, 'goodbye': True, 'goodness': True, 'goods': True, 'goody': True, 'goose': True, 'gooseberry': True, 'got': True, 'govern': True, 'government': True, 'gown': True, 'grab': True, 'gracious': True, 'grade': True, 'grain': True, 'grand': True, 'grandchild': True, 'grandchildren': True, 'granddaughter': True, 'grandfather': True, 'grandma': True, 'grandmother': True, 'grandpa': True, 'grandson': True, 'grandstand': True, 'grape': True, 'grapefruit': True, 'grapes': True, 'grass': True, 'grasshopper': True, 'grateful': True, 'grave': True, 'gravel': True, 'graveyard': True, 'gravy': True, 'gray': True, 'graze': True, 'grease': True, 'great': True, 'green': True, 'greet': True, 'grew': True, 'grind': True, 'groan': True, 'grocery': True, 'ground': True, 'group': True, 'grove': True, 'grow': True, 'guard': True, 'guess': True, 'guest': True, 'guide': True, 'gulf': True, 'gum': True, 'gun': True, 'gunpowder': True, 'guy': True, 'ha': True, 'habit': True, 'had': True, \"hadn't\": True, 'hail': True, 'hair': True, 'haircut': True, 'hairpin': True, 'half': True, 'hall': True, 'halt': True, 'ham': True, 'hammer': True, 'hand': True, 'handful': True, 'handkerchief': True, 'handle': True, 'handwriting': True, 'hang': True, 'happen': True, 'happily': True, 'happiness': True, 'happy': True, 'harbor': True, 'hard': True, 'hardly': True, 'hardship': True, 'hardware': True, 'hare': True, 'hark': True, 'harm': True, 'harness': True, 'harp': True, 'harvest': True, 'has': True, \"hasn't\": True, 'haste': True, 'hasten': True, 'hasty': True, 'hat': True, 'hatch': True, 'hatchet': True, 'hate': True, 'haul': True, 'have': True, \"haven't\": True, 'having': True, 'hawk': True, 'hay': True, 'hayfield': True, 'haystack': True, 'he': True, \"he'd\": True, \"he'll\": True, \"he's\": True, 'head': True, 'headache': True, 'heal': True, 'health': True, 'healthy': True, 'heap': True, 'hear': True, 'heard': True, 'hearing': True, 'heart': True, 'heat': True, 'heater': True, 'heaven': True, 'heavy': True, 'heel': True, 'height': True, 'held': True, 'hell': True, 'hello': True, 'helmet': True, 'help': True, 'helper': True, 'helpful': True, 'hem': True, 'hen': True, 'henhouse': True, 'her': True, 'herd': True, 'here': True, \"here's\": True, 'hero': True, 'hers': True, 'herself': True, 'hey': True, 'hickory': True, 'hid': True, 'hidden': True, 'hide': True, 'high': True, 'highway': True, 'hill': True, 'hillside': True, 'hilltop': True, 'hilly': True, 'him': True, 'himself': True, 'hind': True, 'hint': True, 'hip': True, 'hire': True, 'his': True, 'hiss': True, 'history': True, 'hit': True, 'hitch': True, 'hive': True, 'ho': True, 'hoe': True, 'hog': True, 'hold': True, 'holder': True, 'hole': True, 'holiday': True, 'hollow': True, 'holy': True, 'home': True, 'homely': True, 'homesick': True, 'honest': True, 'honey': True, 'honeybee': True, 'honeymoon': True, 'honk': True, 'honor': True, 'hood': True, 'hoof': True, 'hook': True, 'hoop': True, 'hop': True, 'hope': True, 'hopeful': True, 'hopeless': True, 'horn': True, 'horse': True, 'horseback': True, 'horseshoe': True, 'hose': True, 'hospital': True, 'host': True, 'hot': True, 'hotel': True, 'hound': True, 'hour': True, 'house': True, 'housetop': True, 'housewife': True, 'housework': True, 'how': True, 'however': True, 'howl': True, 'hug': True, 'huge': True, 'hum': True, 'humble': True, 'hump': True, 'hundred': True, 'hung': True, 'hunger': True, 'hungry': True, 'hunk': True, 'hunt': True, 'hunter': True, 'hurrah': True, 'hurried': True, 'hurry': True, 'hurt': True, 'husband': True, 'hush': True, 'hut': True, 'hymn': True, 'i': True, \"i'd\": True, \"i'll\": True, \"i'm\": True, \"i've\": True, 'ice': True, 'icy': True, 'idea': True, 'ideal': True, 'if': True, 'ill': True, 'important': True, 'impossible': True, 'improve': True, 'in': True, 'inch': True, 'inches': True, 'income': True, 'indeed': True, 'indian': True, 'indoors': True, 'ink': True, 'inn': True, 'insect': True, 'inside': True, 'instant': True, 'instead': True, 'insult': True, 'intend': True, 'interested': True, 'interesting': True, 'into': True, 'invite': True, 'iron': True, 'is': True, 'island': True, \"isn't\": True, 'it': True, \"it's\": True, 'its': True, 'itself': True, 'ivory': True, 'ivy': True, 'jacket': True, 'jacks': True, 'jail': True, 'jam': True, 'january': True, 'jar': True, 'jaw': True, 'jay': True, 'jelly': True, 'jellyfish': True, 'jerk': True, 'jig': True, 'job': True, 'jockey': True, 'join': True, 'joke': True, 'joking': True, 'jolly': True, 'journey': True, 'joy': True, 'joyful': True, 'joyous': True, 'judge': True, 'jug': True, 'juice': True, 'juicy': True, 'july': True, 'jump': True, 'june': True, 'junior': True, 'junk': True, 'just': True, 'keen': True, 'keep': True, 'kept': True, 'kettle': True, 'key': True, 'kick': True, 'kid': True, 'kill': True, 'killed': True, 'kind': True, 'kindly': True, 'kindness': True, 'king': True, 'kingdom': True, 'kiss': True, 'kitchen': True, 'kite': True, 'kitten': True, 'kitty': True, 'knee': True, 'kneel': True, 'knew': True, 'knife': True, 'knit': True, 'knives': True, 'knob': True, 'knock': True, 'knot': True, 'know': True, 'known': True, 'lace': True, 'lad': True, 'ladder': True, 'ladies': True, 'lady': True, 'laid': True, 'lake': True, 'lamb': True, 'lame': True, 'lamp': True, 'land': True, 'lane': True, 'language': True, 'lantern': True, 'lap': True, 'lard': True, 'large': True, 'lash': True, 'lass': True, 'last': True, 'late': True, 'laugh': True, 'laundry': True, 'law': True, 'lawn': True, 'lawyer': True, 'lay': True, 'lazy': True, 'lead': True, 'leader': True, 'leaf': True, 'leak': True, 'lean': True, 'leap': True, 'learn': True, 'learned': True, 'least': True, 'leather': True, 'leave': True, 'leaving': True, 'led': True, 'left': True, 'leg': True, 'lemon': True, 'lemonade': True, 'lend': True, 'length': True, 'less': True, 'lesson': True, 'let': True, \"let's\": True, 'letter': True, 'letting': True, 'lettuce': True, 'level': True, 'liberty': True, 'library': True, 'lice': True, 'lick': True, 'lid': True, 'lie': True, 'life': True, 'lift': True, 'light': True, 'lightness': True, 'lightning': True, 'like': True, 'likely': True, 'liking': True, 'lily': True, 'limb': True, 'lime': True, 'limp': True, 'line': True, 'linen': True, 'lion': True, 'lip': True, 'list': True, 'listen': True, 'lit': True, 'little': True, 'live': True, 'lively': True, 'liver': True, 'lives': True, 'living': True, 'lizard': True, 'load': True, 'loaf': True, 'loan': True, 'loaves': True, 'lock': True, 'locomotive': True, 'log': True, 'lone': True, 'lonely': True, 'lonesome': True, 'long': True, 'look': True, 'lookout': True, 'loop': True, 'loose': True, 'lord': True, 'lose': True, 'loser': True, 'loss': True, 'lost': True, 'lot': True, 'loud': True, 'love': True, 'lovely': True, 'lover': True, 'low': True, 'luck': True, 'lucky': True, 'lumber': True, 'lump': True, 'lunch': True, 'lying': True, 'ma': True, 'machine': True, 'machinery': True, 'mad': True, 'made': True, 'magazine': True, 'magic': True, 'maid': True, 'mail': True, 'mailbox': True, 'mailman': True, 'major': True, 'make': True, 'making': True, 'male': True, 'mama': True, 'mamma': True, 'man': True, 'manager': True, 'mane': True, 'manger': True, 'many': True, 'map': True, 'maple': True, 'marble': True, 'march': True, 'mare': True, 'mark': True, 'market': True, 'marriage': True, 'married': True, 'marry': True, 'mask': True, 'mast': True, 'master': True, 'mat': True, 'match': True, 'matter': True, 'mattress': True, 'may': True, 'maybe': True, 'mayor': True, 'maypole': True, 'me': True, 'meadow': True, 'meal': True, 'mean': True, 'means': True, 'meant': True, 'measure': True, 'meat': True, 'medicine': True, 'meet': True, 'meeting': True, 'melt': True, 'member': True, 'men': True, 'mend': True, 'meow': True, 'merry': True, 'mess': True, 'message': True, 'met': True, 'metal': True, 'mew': True, 'mice': True, 'middle': True, 'midnight': True, 'might': True, 'mighty': True, 'mile': True, 'miler': True, 'milk': True, 'milkman': True, 'mill': True, 'million': True, 'mind': True, 'mine': True, 'miner': True, 'mint': True, 'minute': True, 'mirror': True, 'mischief': True, 'miss': True, 'misspell': True, 'mistake': True, 'misty': True, 'mitt': True, 'mitten': True, 'mix': True, 'moment': True, 'monday': True, 'money': True, 'monkey': True, 'month': True, 'moo': True, 'moon': True, 'moonlight': True, 'moose': True, 'mop': True, 'more': True, 'morning': True, 'morrow': True, 'moss': True, 'most': True, 'mostly': True, 'mother': True, 'motor': True, 'mount': True, 'mountain': True, 'mouse': True, 'mouth': True, 'move': True, 'movie': True, 'movies': True, 'moving': True, 'mow': True, 'mr.': True, 'mrs.': True, 'much': True, 'mud': True, 'muddy': True, 'mug': True, 'mule': True, 'multiply': True, 'murder': True, 'music': True, 'must': True, 'my': True, 'myself': True, 'nail': True, 'name': True, 'nap': True, 'napkin': True, 'narrow': True, 'nasty': True, 'naughty': True, 'navy': True, 'near': True, 'nearby': True, 'nearly': True, 'neat': True, 'neck': True, 'necktie': True, 'need': True, 'needle': True, \"needn't\": True, 'negro': True, 'neighbor': True, 'neighborhood': True, 'neither': True, 'nerve': True, 'nest': True, 'net': True, 'never': True, 'nevermore': True, 'new': True, 'news': True, 'newspaper': True, 'next': True, 'nibble': True, 'nice': True, 'nickel': True, 'night': True, 'nightgown': True, 'nine': True, 'nineteen': True, 'ninety': True, 'no': True, 'nobody': True, 'nod': True, 'noise': True, 'noisy': True, 'none': True, 'noon': True, 'nor': True, 'north': True, 'northern': True, 'nose': True, 'not': True, 'note': True, 'nothing': True, 'notice': True, 'november': True, 'now': True, 'nowhere': True, 'number': True, 'nurse': True, 'nut': True, \"o'clock\": True, 'oak': True, 'oar': True, 'oatmeal': True, 'oats': True, 'obey': True, 'ocean': True, 'october': True, 'odd': True, 'of': True, 'off': True, 'offer': True, 'office': True, 'officer': True, 'often': True, 'oh': True, 'oil': True, 'old': True, 'old-fashioned': True, 'on': True, 'once': True, 'one': True, 'onion': True, 'only': True, 'onward': True, 'open': True, 'or': True, 'orange': True, 'orchard': True, 'order': True, 'ore': True, 'organ': True, 'other': True, 'otherwise': True, 'ouch': True, 'ought': True, 'our': True, 'ours': True, 'ourselves': True, 'out': True, 'outdoors': True, 'outfit': True, 'outlaw': True, 'outline': True, 'outside': True, 'outward': True, 'oven': True, 'over': True, 'overalls': True, 'overcoat': True, 'overeat': True, 'overhead': True, 'overhear': True, 'overnight': True, 'overturn': True, 'owe': True, 'owing': True, 'owl': True, 'own': True, 'owner': True, 'ox': True, 'pa': True, 'pace': True, 'pack': True, 'package': True, 'pad': True, 'page': True, 'paid': True, 'pail': True, 'pain': True, 'painful': True, 'paint': True, 'painter': True, 'painting': True, 'pair': True, 'pal': True, 'palace': True, 'pale': True, 'pan': True, 'pancake': True, 'pane': True, 'pansy': True, 'pants': True, 'papa': True, 'paper': True, 'parade': True, 'pardon': True, 'parent': True, 'park': True, 'part': True, 'partly': True, 'partner': True, 'party': True, 'pass': True, 'passenger': True, 'past': True, 'paste': True, 'pasture': True, 'pat': True, 'patch': True, 'path': True, 'patter': True, 'pave': True, 'pavement': True, 'paw': True, 'pay': True, 'payment': True, 'pea': True, 'peace': True, 'peaceful': True, 'peach': True, 'peaches': True, 'peak': True, 'peanut': True, 'pear': True, 'pearl': True, 'peas': True, 'peck': True, 'peek': True, 'peel': True, 'peep': True, 'peg': True, 'pen': True, 'pencil': True, 'penny': True, 'people': True, 'pepper': True, 'peppermint': True, 'perfume': True, 'perhaps': True, 'person': True, 'pet': True, 'phone': True, 'piano': True, 'pick': True, 'pickle': True, 'picnic': True, 'picture': True, 'pie': True, 'piece': True, 'pig': True, 'pigeon': True, 'piggy': True, 'pile': True, 'pill': True, 'pillow': True, 'pin': True, 'pine': True, 'pineapple': True, 'pink': True, 'pint': True, 'pipe': True, 'pistol': True, 'pit': True, 'pitch': True, 'pitcher': True, 'pity': True, 'place': True, 'plain': True, 'plan': True, 'plane': True, 'plant': True, 'plate': True, 'platform': True, 'platter': True, 'play': True, 'player': True, 'playground': True, 'playhouse': True, 'playmate': True, 'plaything': True, 'pleasant': True, 'please': True, 'pleasure': True, 'plenty': True, 'plow': True, 'plug': True, 'plum': True, 'pocket': True, 'pocketbook': True, 'poem': True, 'point': True, 'poison': True, 'poke': True, 'pole': True, 'police': True, 'policeman': True, 'polish': True, 'polite': True, 'pond': True, 'ponies': True, 'pony': True, 'pool': True, 'poor': True, 'pop': True, 'popcorn': True, 'popped': True, 'porch': True, 'pork': True, 'possible': True, 'post': True, 'postage': True, 'postman': True, 'pot': True, 'potato': True, 'potatoes': True, 'pound': True, 'pour': True, 'powder': True, 'power': True, 'powerful': True, 'praise': True, 'pray': True, 'prayer': True, 'prepare': True, 'present': True, 'pretty': True, 'price': True, 'prick': True, 'prince': True, 'princess': True, 'print': True, 'prison': True, 'prize': True, 'promise': True, 'proper': True, 'protect': True, 'proud': True, 'prove': True, 'prune': True, 'public': True, 'puddle': True, 'puff': True, 'pull': True, 'pump': True, 'pumpkin': True, 'punch': True, 'punish': True, 'pup': True, 'pupil': True, 'puppy': True, 'pure': True, 'purple': True, 'purse': True, 'push': True, 'puss': True, 'pussy': True, 'pussycat': True, 'put': True, 'putting': True, 'puzzle': True, 'quack': True, 'quart': True, 'quarter': True, 'queen': True, 'queer': True, 'question': True, 'quick': True, 'quickly': True, 'quiet': True, 'quilt': True, 'quit': True, 'quite': True, 'rabbit': True, 'race': True, 'rack': True, 'radio': True, 'radish': True, 'rag': True, 'rail': True, 'railroad': True, 'railway': True, 'rain': True, 'rainbow': True, 'rainy': True, 'raise': True, 'raisin': True, 'rake': True, 'ram': True, 'ran': True, 'ranch': True, 'rang': True, 'rap': True, 'rapidly': True, 'rat': True, 'rate': True, 'rather': True, 'rattle': True, 'raw': True, 'ray': True, 'reach': True, 'read': True, 'reader': True, 'reading': True, 'ready': True, 'real': True, 'really': True, 'reap': True, 'rear': True, 'reason': True, 'rebuild': True, 'receive': True, 'recess': True, 'record': True, 'red': True, 'redbird': True, 'redbreast': True, 'refuse': True, 'reindeer': True, 'rejoice': True, 'remain': True, 'remember': True, 'remind': True, 'remove': True, 'rent': True, 'repair': True, 'repay': True, 'repeat': True, 'report': True, 'rest': True, 'return': True, 'review': True, 'reward': True, 'rib': True, 'ribbon': True, 'rice': True, 'rich': True, 'rid': True, 'riddle': True, 'ride': True, 'rider': True, 'riding': True, 'right': True, 'rim': True, 'ring': True, 'rip': True, 'ripe': True, 'rise': True, 'rising': True, 'river': True, 'road': True, 'roadside': True, 'roar': True, 'roast': True, 'rob': True, 'robber': True, 'robe': True, 'robin': True, 'rock': True, 'rocket': True, 'rocky': True, 'rode': True, 'roll': True, 'roller': True, 'roof': True, 'room': True, 'rooster': True, 'root': True, 'rope': True, 'rose': True, 'rosebud': True, 'rot': True, 'rotten': True, 'rough': True, 'round': True, 'route': True, 'row': True, 'rowboat': True, 'royal': True, 'rub': True, 'rubbed': True, 'rubber': True, 'rubbish': True, 'rug': True, 'rule': True, 'ruler': True, 'rumble': True, 'run': True, 'rung': True, 'runner': True, 'running': True, 'rush': True, 'rust': True, 'rusty': True, 'rye': True, 'sack': True, 'sad': True, 'saddle': True, 'sadness': True, 'safe': True, 'safety': True, 'said': True, 'sail': True, 'sailboat': True, 'sailor': True, 'saint': True, 'salad': True, 'sale': True, 'salt': True, 'same': True, 'sand': True, 'sandwich': True, 'sandy': True, 'sang': True, 'sank': True, 'sap': True, 'sash': True, 'sat': True, 'satin': True, 'satisfactory': True, 'saturday': True, 'sausage': True, 'savage': True, 'save': True, 'savings': True, 'saw': True, 'say': True, 'scab': True, 'scales': True, 'scare': True, 'scarf': True, 'school': True, 'schoolboy': True, 'schoolhouse': True, 'schoolmaster': True, 'schoolroom': True, 'scorch': True, 'score': True, 'scrap': True, 'scrape': True, 'scratch': True, 'scream': True, 'screen': True, 'screw': True, 'scrub': True, 'sea': True, 'seal': True, 'seam': True, 'search': True, 'season': True, 'seat': True, 'second': True, 'secret': True, 'see': True, 'seed': True, 'seeing': True, 'seek': True, 'seem': True, 'seen': True, 'seesaw': True, 'select': True, 'self': True, 'selfish': True, 'sell': True, 'send': True, 'sense': True, 'sent': True, 'sentence': True, 'separate': True, 'september': True, 'servant': True, 'serve': True, 'service': True, 'set': True, 'setting': True, 'settle': True, 'settlement': True, 'seven': True, 'seventeen': True, 'seventh': True, 'seventy': True, 'several': True, 'sew': True, 'shade': True, 'shadow': True, 'shady': True, 'shake': True, 'shaker': True, 'shaking': True, 'shall': True, 'shame': True, \"shan't\": True, 'shape': True, 'share': True, 'sharp': True, 'shave': True, 'she': True, \"she'd\": True, \"she'll\": True, \"she's\": True, 'shear': True, 'shears': True, 'shed': True, 'sheep': True, 'sheet': True, 'shelf': True, 'shell': True, 'shepherd': True, 'shine': True, 'shining': True, 'shiny': True, 'ship': True, 'shirt': True, 'shock': True, 'shoe': True, 'shoemaker': True, 'shone': True, 'shook': True, 'shoot': True, 'shop': True, 'shopping': True, 'shore': True, 'short': True, 'shot': True, 'should': True, 'shoulder': True, \"shouldn't\": True, 'shout': True, 'shovel': True, 'show': True, 'shower': True, 'shut': True, 'shy': True, 'sick': True, 'sickness': True, 'side': True, 'sidewalk': True, 'sideways': True, 'sigh': True, 'sight': True, 'sign': True, 'silence': True, 'silent': True, 'silk': True, 'sill': True, 'silly': True, 'silver': True, 'simple': True, 'sin': True, 'since': True, 'sing': True, 'singer': True, 'single': True, 'sink': True, 'sip': True, 'sir': True, 'sis': True, 'sissy': True, 'sister': True, 'sit': True, 'sitting': True, 'six': True, 'sixteen': True, 'sixth': True, 'sixty': True, 'size': True, 'skate': True, 'skater': True, 'ski': True, 'skin': True, 'skip': True, 'skirt': True, 'sky': True, 'slam': True, 'slap': True, 'slate': True, 'slave': True, 'sled': True, 'sleep': True, 'sleepy': True, 'sleeve': True, 'sleigh': True, 'slept': True, 'slice': True, 'slid': True, 'slide': True, 'sling': True, 'slip': True, 'slipped': True, 'slipper': True, 'slippery': True, 'slit': True, 'slow': True, 'slowly': True, 'sly': True, 'smack': True, 'small': True, 'smart': True, 'smell': True, 'smile': True, 'smoke': True, 'smooth': True, 'snail': True, 'snake': True, 'snap': True, 'snapping': True, 'sneeze': True, 'snow': True, 'snowball': True, 'snowflake': True, 'snowy': True, 'snuff': True, 'snug': True, 'so': True, 'soak': True, 'soap': True, 'sob': True, 'socks': True, 'sod': True, 'soda': True, 'sofa': True, 'soft': True, 'soil': True, 'sold': True, 'soldier': True, 'sole': True, 'some': True, 'somebody': True, 'somehow': True, 'someone': True, 'something': True, 'sometime': True, 'sometimes': True, 'somewhere': True, 'son': True, 'song': True, 'soon': True, 'sore': True, 'sorrow': True, 'sorry': True, 'sort': True, 'soul': True, 'sound': True, 'soup': True, 'sour': True, 'south': True, 'southern': True, 'space': True, 'spade': True, 'spank': True, 'sparrow': True, 'speak': True, 'speaker': True, 'spear': True, 'speech': True, 'speed': True, 'spell': True, 'spelling': True, 'spend': True, 'spent': True, 'spider': True, 'spike': True, 'spill': True, 'spin': True, 'spinach': True, 'spirit': True, 'spit': True, 'splash': True, 'spoil': True, 'spoke': True, 'spook': True, 'spoon': True, 'sport': True, 'spot': True, 'spread': True, 'spring': True, 'springtime': True, 'sprinkle': True, 'square': True, 'squash': True, 'squeak': True, 'squeeze': True, 'squirrel': True, 'stable': True, 'stack': True, 'stage': True, 'stair': True, 'stall': True, 'stamp': True, 'stand': True, 'star': True, 'stare': True, 'start': True, 'starve': True, 'state': True, 'states': True, 'station': True, 'stay': True, 'steak': True, 'steal': True, 'steam': True, 'steamboat': True, 'steamer': True, 'steel': True, 'steep': True, 'steeple': True, 'steer': True, 'stem': True, 'step': True, 'stepping': True, 'stick': True, 'sticky': True, 'stiff': True, 'still': True, 'stillness': True, 'sting': True, 'stir': True, 'stitch': True, 'stock': True, 'stocking': True, 'stole': True, 'stone': True, 'stood': True, 'stool': True, 'stoop': True, 'stop': True, 'stopped': True, 'stopping': True, 'store': True, 'stories': True, 'stork': True, 'storm': True, 'stormy': True, 'story': True, 'stove': True, 'straight': True, 'strange': True, 'stranger': True, 'strap': True, 'straw': True, 'strawberry': True, 'stream': True, 'street': True, 'stretch': True, 'string': True, 'strip': True, 'stripes': True, 'strong': True, 'stuck': True, 'study': True, 'stuff': True, 'stump': True, 'stung': True, 'subject': True, 'such': True, 'suck': True, 'sudden': True, 'suffer': True, 'sugar': True, 'suit': True, 'sum': True, 'summer': True, 'sun': True, 'sunday': True, 'sunflower': True, 'sung': True, 'sunk': True, 'sunlight': True, 'sunny': True, 'sunrise': True, 'sunset': True, 'sunshine': True, 'supper': True, 'suppose': True, 'sure': True, 'surely': True, 'surface': True, 'surprise': True, 'swallow': True, 'swam': True, 'swamp': True, 'swan': True, 'swat': True, 'swear': True, 'sweat': True, 'sweater': True, 'sweep': True, 'sweet': True, 'sweetheart': True, 'sweetness': True, 'swell': True, 'swept': True, 'swift': True, 'swim': True, 'swimming': True, 'swing': True, 'switch': True, 'sword': True, 'swore': True, 'table': True, 'tablecloth': True, 'tablespoon': True, 'tablet': True, 'tack': True, 'tag': True, 'tail': True, 'tailor': True, 'take': True, 'taken': True, 'taking': True, 'tale': True, 'talk': True, 'talker': True, 'tall': True, 'tame': True, 'tan': True, 'tank': True, 'tap': True, 'tape': True, 'tar': True, 'tardy': True, 'task': True, 'taste': True, 'taught': True, 'tax': True, 'tea': True, 'teach': True, 'teacher': True, 'team': True, 'tear': True, 'tease': True, 'teaspoon': True, 'teeth': True, 'telephone': True, 'tell': True, 'temper': True, 'ten': True, 'tennis': True, 'tent': True, 'term': True, 'terrible': True, 'test': True, 'than': True, 'thank': True, 'thankful': True, 'thanks': True, 'thanksgiving': True, 'that': True, \"that's\": True, 'the': True, 'theater': True, 'thee': True, 'their': True, 'them': True, 'then': True, 'there': True, 'these': True, 'they': True, \"they'd\": True, \"they'll\": True, \"they're\": True, \"they've\": True, 'thick': True, 'thief': True, 'thimble': True, 'thin': True, 'thing': True, 'think': True, 'third': True, 'thirsty': True, 'thirteen': True, 'thirty': True, 'this': True, 'thorn': True, 'those': True, 'though': True, 'thought': True, 'thousand': True, 'thread': True, 'three': True, 'threw': True, 'throat': True, 'throne': True, 'through': True, 'throw': True, 'thrown': True, 'thumb': True, 'thunder': True, 'thursday': True, 'thy': True, 'tick': True, 'ticket': True, 'tickle': True, 'tie': True, 'tiger': True, 'tight': True, 'till': True, 'time': True, 'tin': True, 'tinkle': True, 'tiny': True, 'tip': True, 'tiptoe': True, 'tire': True, 'tired': True, 'title': True, 'to': True, 'toad': True, 'toadstool': True, 'toast': True, 'tobacco': True, 'today': True, 'toe': True, 'together': True, 'toilet': True, 'told': True, 'tomato': True, 'tomorrow': True, 'ton': True, 'tone': True, 'tongue': True, 'tonight': True, 'too': True, 'took': True, 'tool': True, 'toot': True, 'tooth': True, 'toothbrush': True, 'toothpick': True, 'top': True, 'tore': True, 'torn': True, 'toss': True, 'touch': True, 'tow': True, 'toward': True, 'towards': True, 'towel': True, 'tower': True, 'town': True, 'toy': True, 'trace': True, 'track': True, 'trade': True, 'train': True, 'tramp': True, 'trap': True, 'tray': True, 'treasure': True, 'treat': True, 'tree': True, 'trick': True, 'tricycle': True, 'tried': True, 'trim': True, 'trip': True, 'trolley': True, 'trouble': True, 'truck': True, 'true': True, 'truly': True, 'trunk': True, 'trust': True, 'truth': True, 'try': True, 'tub': True, 'tuesday': True, 'tug': True, 'tulip': True, 'tumble': True, 'tune': True, 'tunnel': True, 'turkey': True, 'turn': True, 'turtle': True, 'twelve': True, 'twenty': True, 'twice': True, 'twig': True, 'twin': True, 'two': True, 'ugly': True, 'umbrella': True, 'uncle': True, 'under': True, 'understand': True, 'underwear': True, 'undress': True, 'unfair': True, 'unfinished': True, 'unfold': True, 'unfriendly': True, 'unhappy': True, 'unhurt': True, 'uniform': True, 'united': True, 'unkind': True, 'unknown': True, 'unless': True, 'unpleasant': True, 'until': True, 'unwilling': True, 'up': True, 'upon': True, 'upper': True, 'upset': True, 'upside': True, 'upstairs': True, 'uptown': True, 'upward': True, 'us': True, 'use': True, 'used': True, 'useful': True, 'valentine': True, 'valley': True, 'valuable': True, 'value': True, 'vase': True, 'vegetable': True, 'velvet': True, 'very': True, 'vessel': True, 'victory': True, 'view': True, 'village': True, 'vine': True, 'violet': True, 'visit': True, 'visitor': True, 'voice': True, 'vote': True, 'wag': True, 'wagon': True, 'waist': True, 'wait': True, 'wake': True, 'waken': True, 'walk': True, 'wall': True, 'walnut': True, 'want': True, 'war': True, 'warm': True, 'warn': True, 'was': True, 'wash': True, 'washer': True, 'washtub': True, \"wasn't\": True, 'waste': True, 'watch': True, 'watchman': True, 'water': True, 'watermelon': True, 'waterproof': True, 'wave': True, 'wax': True, 'way': True, 'wayside': True, 'we': True, \"we'd\": True, \"we'll\": True, \"we're\": True, \"we've\": True, 'weak': True, 'weaken': True, 'weakness': True, 'wealth': True, 'weapon': True, 'wear': True, 'weary': True, 'weather': True, 'weave': True, 'web': True, 'wedding': True, 'wednesday': True, 'wee': True, 'weed': True, 'week': True, 'weep': True, 'weigh': True, 'welcome': True, 'well': True, 'went': True, 'were': True, 'west': True, 'western': True, 'wet': True, 'whale': True, 'what': True, \"what's\": True, 'wheat': True, 'wheel': True, 'when': True, 'whenever': True, 'where': True, 'which': True, 'while': True, 'whip': True, 'whipped': True, 'whirl': True, 'whiskey': True, 'whisky': True, 'whisper': True, 'whistle': True, 'white': True, 'who': True, \"who'd\": True, \"who'll\": True, \"who's\": True, 'whole': True, 'whom': True, 'whose': True, 'why': True, 'wicked': True, 'wide': True, 'wife': True, 'wiggle': True, 'wild': True, 'wildcat': True, 'will': True, 'willing': True, 'willow': True, 'win': True, 'wind': True, 'windmill': True, 'window': True, 'windy': True, 'wine': True, 'wing': True, 'wink': True, 'winner': True, 'winter': True, 'wipe': True, 'wire': True, 'wise': True, 'wish': True, 'wit': True, 'witch': True, 'with': True, 'without': True, 'woke': True, 'wolf': True, 'woman': True, 'women': True, 'won': True, \"won't\": True, 'wonder': True, 'wonderful': True, 'wood': True, 'wooden': True, 'woodpecker': True, 'woods': True, 'wool': True, 'woolen': True, 'word': True, 'wore': True, 'work': True, 'worker': True, 'workman': True, 'world': True, 'worm': True, 'worn': True, 'worry': True, 'worse': True, 'worst': True, 'worth': True, 'would': True, \"wouldn't\": True, 'wound': True, 'wove': True, 'wrap': True, 'wrapped': True, 'wreck': True, 'wren': True, 'wring': True, 'write': True, 'writing': True, 'written': True, 'wrong': True, 'wrote': True, 'wrung': True, 'yard': True, 'yarn': True, 'year': True, 'yell': True, 'yellow': True, 'yes': True, 'yesterday': True, 'yet': True, 'yolk': True, 'yonder': True, 'you': True, \"you'd\": True, \"you'll\": True, \"you're\": True, \"you've\": True, 'young': True, 'youngster': True, 'your': True, 'yours': True, 'yourself': True, 'yourselves': True, 'youth': True}"
   ]
  },
  {
   "cell_type": "code",
   "execution_count": null,
   "metadata": {},
   "outputs": [],
   "source": [
    "#view first 10 with a list comprehension\n",
    "print({key: easy_word_dict[key] for key in list(easy_word_dict)[:10]})"
   ]
  },
  {
   "cell_type": "code",
   "execution_count": null,
   "metadata": {},
   "outputs": [],
   "source": [
    "#1st Create a \"lemmatizer\" object\n",
    "lemmatizer = WordNetLemmatizer()\n",
    "\n",
    "#Define my function\n",
    "def count_easy_words(word_list):\n",
    "    \"\"\"This function takes in a list of words and returns the number that are easy\"\"\"\n",
    "    \n",
    "    #Initialize a counter\n",
    "    count = 0\n",
    "    for word in word_list:\n",
    "        #First lemmatize a noun list\n",
    "        lem_noun_list = lemmatizer.lemmatize(word.lower(), pos = 'n')\n",
    "        #print(lem_noun_list) #check out: geese, sparrows\n",
    "        \n",
    "        #Second lemmatize a verb list\n",
    "        lem_verb_list = lemmatizer.lemmatize(word.lower(), pos = 'v')\n",
    "        #print(lem_verb_list) #check out: went, has\n",
    "        \n",
    "        #The get() method returns the value for the given key, if present in the dictionary. \n",
    "        #Here I no longer reference \"word\" instead I reference my lemma objects\n",
    "        #If any given \"lem_noun\" is a key in my easy words dictionary, then count it\n",
    "        #The or here is important because it only counts once if it's in either verb or noun list\n",
    "        if easy_word_dict.get(lem_noun_list)or easy_word_dict.get(lem_verb_list): #if a given lemma is in \n",
    "            count +=1 \n",
    "            #print(word) #confirmed: returned expected words\n",
    "    return count\n",
    "\n",
    "word_list = ['Zaphod', 'Beeblebrox','went','words','spoken','has','consequences', 'sparrows', 'obseqious', 'geese', 'Astrophysics']\n",
    "print(count_easy_words(word_list)) \n",
    "# test: PASS"
   ]
  },
  {
   "cell_type": "markdown",
   "metadata": {},
   "source": [
    "## Working with Tweets"
   ]
  },
  {
   "cell_type": "markdown",
   "metadata": {},
   "source": [
    "In a5 you'll be working with real-live tweet data. Examine the sample tweets below to see how they're formatted"
   ]
  },
  {
   "cell_type": "code",
   "execution_count": null,
   "metadata": {},
   "outputs": [],
   "source": [
    "tweets = [{'created_at': 'Mon Oct 10 18:39:51 +0000 2016',\n",
    "  'retweet_count': 9,\n",
    "  'entities': {'hashtags': [{'indices': [20, 41],\n",
    "     'text': 'IndigenousPeoplesDay'}]},\n",
    "  'user': {'screen_name': 'UW_iSchool'},\n",
    "  'text': 'RT @UWAPress: Happy #IndigenousPeoplesDay https://t.co/YmU9e9lj7v'},\n",
    " {'created_at': 'Mon Oct 10 18:00:00 +0000 2016',\n",
    "  'retweet_count': 0,\n",
    "  'entities': {'hashtags': [{'indices': [16, 29], 'text': 'IdealistFair'}]},\n",
    "  'user': {'screen_name': 'UW_iSchool'},\n",
    "  'text': \"We'll be at the #IdealistFair this evening on the Seattle U. campus. Come and learn about our graduate programs: https://t.co/et1HrQshmr\"},\n",
    " {'created_at': 'Mon Oct 10 15:10:36 +0000 2016',\n",
    "  'retweet_count': 1,\n",
    "  'entities': {'hashtags': []},\n",
    "  'user': {'screen_name': 'UW_iSchool'},\n",
    "  'text': 'RT @iYouthUW: iYouth Tips for 1st\\xa0Years https://t.co/K4SCIEhJ8k https://t.co/p4lbC6Jb5o'}]"
   ]
  },
  {
   "cell_type": "markdown",
   "metadata": {},
   "source": [
    "Print the second tweet (first index)"
   ]
  },
  {
   "cell_type": "code",
   "execution_count": null,
   "metadata": {},
   "outputs": [],
   "source": [
    "first_tweet = tweets[1]\n",
    "first_tweet['entities']['hashtags']#[0]['text']"
   ]
  },
  {
   "cell_type": "markdown",
   "metadata": {},
   "source": [
    "Access and print the first hashtag value as a hashtag (#)"
   ]
  },
  {
   "cell_type": "code",
   "execution_count": null,
   "metadata": {},
   "outputs": [],
   "source": [
    "first_hashtag = first_tweet['entities']['hashtags'][0]['text']\n",
    "print('#'+first_hashtag)"
   ]
  },
  {
   "cell_type": "markdown",
   "metadata": {},
   "source": [
    "Print the text of all the tweets in this sample"
   ]
  },
  {
   "cell_type": "code",
   "execution_count": null,
   "metadata": {},
   "outputs": [],
   "source": [
    "for tweet in tweets: \n",
    "    print(tweet['text'])"
   ]
  },
  {
   "cell_type": "markdown",
   "metadata": {},
   "source": [
    "That's the basics of working with tweets\n",
    "\n",
    "In this assignment you're going to be coducting a sentiment analysis. \n",
    "\n",
    "To do that you need sentiments"
   ]
  },
  {
   "cell_type": "code",
   "execution_count": null,
   "metadata": {},
   "outputs": [],
   "source": [
    "from data.sentiments_nrc import SENTIMENTS, EMOTIONS\n",
    "\n",
    "# print(SENTIMENTS) # A Dictionary 6000 + words and associated emotions\n",
    "#     {\n",
    "#     'abacus':  {'trust': 1}\n",
    "#    ,'abandon': {'sadness': 1, 'fear': 1, 'negative': 1}\n",
    "#    ,'abandoned': {'sadness': 1, 'negative': 1\n",
    "#      )\n",
    "\n",
    "# print(EMOTIONS) # A list of 10 emotions  \n",
    "# ['positive', 'joy', 'sadness', 'surprise', 'trust']"
   ]
  },
  {
   "cell_type": "code",
   "execution_count": null,
   "metadata": {},
   "outputs": [],
   "source": [
    "print(SENTIMENTS['prefer']) # A list of 10 emotions  \n",
    "# ['positive', 'joy', 'sadness', 'surprise', 'trust'...]"
   ]
  },
  {
   "cell_type": "markdown",
   "metadata": {},
   "source": [
    "You're going to have to create lists of words, then compare them to sentiments in order to understand if any of the words in your list are in a given sentiment list. \n",
    "\n",
    "You'll have to write functions to do that work. I'm not going to write your function for you, but I will show you a cool list comprehension for doing this kind of work. "
   ]
  },
  {
   "cell_type": "code",
   "execution_count": null,
   "metadata": {},
   "outputs": [],
   "source": [
    "#let's say you have a tweet text that looks like this: \n",
    "\"Amazingly, I prefer a #rainy day to #sunshine.\"\n",
    "\n",
    "#You'll write a function that splits that into a list of words. \n",
    "#I'm going to cheat here and do it manually for demo purposes: \n",
    "tweet_text = [\"Amazingly\", \"I\", \"prefer\", \"a\", \"rainy\", \"day\", \"to\", \"sunshine\"]\n",
    "\n",
    "#and you want to find out if any of the words in your tweet text demonstrate \"positive emotion\" based on your \n",
    "# emotion list\n",
    "emotion = 'positive'\n",
    "\n",
    "#You could write a for loop that says FOR every  IN word list\n",
    "# IF the word is in the emotion list, get the emotion\n",
    "\n",
    "#You could totally write this in a for loop with an if statement. \n",
    "#Or you could write this as a list comprehension for efficiency\n",
    "\n",
    "# for word in tweet_text: \n",
    "#     if SENTIMENTS.get(word, {}).get(emotion): \n",
    "#         print(word)\n",
    "        \n",
    "[word for word in tweet_text if SENTIMENTS.get(word, {}).get(emotion)]\n",
    "\n"
   ]
  },
  {
   "cell_type": "markdown",
   "metadata": {},
   "source": [
    "If you can find this for one emotion, then you can find it for a lot of emotions...even a list of emotions. \n",
    "\n",
    "You want to store it in a structure that looks like this: \n",
    "\n",
    "```\n",
    "{\n",
    " 'anger': [],\n",
    " 'anticipation': [],\n",
    " 'disgust': [],\n",
    " 'fear': [],\n",
    " 'joy': ['amazingly', 'sunshine'],\n",
    " 'negative': [],\n",
    " 'positive': ['amazingly', 'prefer', 'sunshine'],\n",
    " 'sadness': ['rainy'],\n",
    " 'surprise': ['amazingly'],\n",
    " 'trust': ['prefer']\n",
    "}\n",
    "```"
   ]
  },
  {
   "cell_type": "markdown",
   "metadata": {},
   "source": [
    "# Formatting into Tables"
   ]
  },
  {
   "cell_type": "code",
   "execution_count": null,
   "metadata": {},
   "outputs": [],
   "source": [
    "import csv\n",
    "with open('data/life_expectancy.csv', newline='') as le_file:\n",
    "    le_file.readline()\n",
    "    reader = csv.reader(le_file)\n",
    "    life_expectancy_list = []\n",
    "    for row in reader:\n",
    "        record = {}\n",
    "        record['country'] = row[0]\n",
    "        record['le_1960'] = float(row[3])\n",
    "        record['le_2013'] = float(row[4])\n",
    "        life_expectancy_list.append(record)\n",
    "\n",
    "print(life_expectancy_list[0])"
   ]
  },
  {
   "cell_type": "code",
   "execution_count": null,
   "metadata": {},
   "outputs": [],
   "source": [
    "##Append the change value\n",
    "\n",
    "list_len = len(life_expectancy_list)\n",
    "for i in range(list_len): \n",
    "    ##Convert these values from strings to float in order to subtract them\n",
    "    change = float(life_expectancy_list[i][\"le_2013\"])-float(life_expectancy_list[i][\"le_1960\"])\n",
    "    ##\"append\" the new change value to the end of each dict in the list\n",
    "    life_expectancy_list[i][\"change\"] = change\n",
    "print(life_expectancy_list[1])"
   ]
  },
  {
   "cell_type": "code",
   "execution_count": null,
   "metadata": {},
   "outputs": [],
   "source": [
    "#print...that looks ugly\n",
    "print(life_expectancy_list)\n"
   ]
  },
  {
   "cell_type": "code",
   "execution_count": null,
   "metadata": {},
   "outputs": [],
   "source": [
    "#loop and print, that's a little better\n",
    "for country in life_expectancy_list: \n",
    "    print(country)\n"
   ]
  },
  {
   "cell_type": "markdown",
   "metadata": {},
   "source": [
    "### Create a function that will display your information"
   ]
  },
  {
   "cell_type": "code",
   "execution_count": null,
   "metadata": {},
   "outputs": [],
   "source": [
    "def display_stats (some_list): \n",
    "    for country in some_list: \n",
    "        print(country)\n",
    "display_stats(life_expectancy_list)"
   ]
  },
  {
   "cell_type": "code",
   "execution_count": null,
   "metadata": {},
   "outputs": [],
   "source": [
    "## Okay that's not that exciting, let's make it look like a table\n",
    "## Also, we can create variables on the fly (\"change\")\n",
    "def display_stats (some_list): \n",
    "    for country in some_list: \n",
    "        country_name = country['country']\n",
    "        le_1960 = country['le_1960']\n",
    "        le_2013 = country['le_2013']\n",
    "        change = le_2013 - le_1960 ##This is just for demo purposes, my dicts actually have the change value already\n",
    "        print(country_name, le_1960, le_2013, change)\n",
    "display_stats(life_expectancy_list)"
   ]
  },
  {
   "cell_type": "markdown",
   "metadata": {},
   "source": [
    "Use Python's built-in formatting functions to improve the table look!\n",
    "\n",
    "You can tweak the margins to fit your data"
   ]
  },
  {
   "cell_type": "code",
   "execution_count": null,
   "metadata": {},
   "outputs": [],
   "source": [
    "## Better but the formatting is still pretty bad\n",
    "## Let's improve a little more\n",
    "\n",
    "##Build a table\n",
    "def display_stats (some_list): \n",
    "    \"\"\"Displays output of previous functions as a table\"\"\"\n",
    "    # print header row\n",
    "    header = ['Country', 'Life Exp 1960', 'Life Exp 2013', 'Change in Life Exp']\n",
    "    print(\"{:<35} {:<20} {:<25} {}\".format(*header))\n",
    "    \n",
    "    for country in some_list: \n",
    "        country_name = country['country']\n",
    "        le_1960 = round(country['le_1960'],2)\n",
    "        le_2013 = round(country['le_2013'],2)\n",
    "        change = round(le_2013 - le_1960,2)\n",
    "        print(\"{:<35} {:<20} {:<25} {}\".format(country_name, le_1960, le_2013, change))\n",
    "display_stats(life_expectancy_list)\n"
   ]
  },
  {
   "cell_type": "markdown",
   "metadata": {},
   "source": [
    "Finally, my goal is to produce a table of the top 10 countries that had the most improved change in life expectancy. \n",
    "\n",
    "First, I have to sort my entire country dictionary based on the values for my change key. \n",
    "\n",
    "There are many ways to do this, but the most efficient is definitely with a lambda function. \n",
    "\n",
    "Lambdas are \"pythonic\" and efficient ways to do work like sorting. \n",
    "\n",
    "The way it works is similar to list comprehensions, but the syntax is different. The general syntax is: \n",
    "* lambda arguments: expression\n",
    "\n",
    "as in: \n",
    "\n",
    "* newlist = sorted(list_to_be_sorted, key=lambda item: item['name']) \n",
    "\n",
    "These variables mean: \n",
    "* sorted is the function I want to apply to my list\n",
    "* key is parameter for this lambda (https://www.afternerd.com/blog/python-lambdas/)\n",
    "* \"item\" is an arbitrary anonymous variable name referencing my dictionaries\n",
    "* ['name'] is defining which attribute I want to sort by"
   ]
  },
  {
   "cell_type": "code",
   "execution_count": null,
   "metadata": {},
   "outputs": [],
   "source": [
    "#Sort\n",
    "##What I want to do is to sort by change\n",
    "for ctry in life_expectancy_list: \n",
    "    #https://stackoverflow.com/questions/72899/how-do-i-sort-a-list-of-dictionaries-by-a-value-of-the-dictionary\n",
    "    sorted_countries = sorted(life_expectancy_list, key=lambda item: item['change'], reverse = True) \n",
    "\n",
    "print(sorted_countries[:10]) #top 10\n"
   ]
  },
  {
   "cell_type": "markdown",
   "metadata": {},
   "source": [
    "Finally, I can pull my sorted_countries data in and display it"
   ]
  },
  {
   "cell_type": "code",
   "execution_count": null,
   "metadata": {},
   "outputs": [],
   "source": [
    "display_stats(sorted_countries[:10])"
   ]
  },
  {
   "cell_type": "markdown",
   "metadata": {},
   "source": [
    "### Update 3/17\n",
    "# Tweet Analysis Help\n",
    "\n",
    "This section is intended to show you what the output of your functions could look like in the analysis portion of the a5 homework.\n",
    "\n",
    "The intention here is to show you what the output should look like, then you can work backward in your program.\n"
   ]
  },
  {
   "cell_type": "markdown",
   "metadata": {},
   "source": [
    "## 1. Tweets...whoo!\n",
    "\n",
    "Let's start with a tweet. Any tweet. Out of the box, it should look something like this:"
   ]
  },
  {
   "cell_type": "code",
   "execution_count": 1,
   "metadata": {},
   "outputs": [],
   "source": [
    "some_tweet = {'created_at': 'Fri Oct 07 23:04:20 +0000 2016', 'retweet_count': 1, 'entities': {'hashtags': [{'indices': [9, 21], 'text': 'GeekGirlCon'}]}, 'user': {'screen_name': 'UW_iSchool'}, 'text': 'Going to #GeekGirlCon this weekend in Seattle? So are we! Come and visit and learn about our programs. https://t.co/yJ4Vhx8oOA'}\n"
   ]
  },
  {
   "cell_type": "code",
   "execution_count": 2,
   "metadata": {},
   "outputs": [
    {
     "data": {
      "text/plain": [
       "{'created_at': 'Fri Oct 07 23:04:20 +0000 2016',\n",
       " 'retweet_count': 1,\n",
       " 'entities': {'hashtags': [{'indices': [9, 21], 'text': 'GeekGirlCon'}]},\n",
       " 'user': {'screen_name': 'UW_iSchool'},\n",
       " 'text': 'Going to #GeekGirlCon this weekend in Seattle? So are we! Come and visit and learn about our programs. https://t.co/yJ4Vhx8oOA'}"
      ]
     },
     "execution_count": 2,
     "metadata": {},
     "output_type": "execute_result"
    }
   ],
   "source": [
    "#If you print it, it looks like this:\n",
    "some_tweet"
   ]
  },
  {
   "cell_type": "markdown",
   "metadata": {},
   "source": [
    "## 2. Parse Tweets\n",
    "\n",
    "So okay, you have tweets, big deal. You want to analyze the tweets, that's where things get interesting. First you need to prep some reference data for each individual tweet.\n",
    "\n",
    "One way you can do this is to generate a `parse_tweets` function that takes as an argument some tweets data. It could be one tweet, it could be 1 billion tweets.\n",
    "\n",
    "This function should not return anything. Instead, it should just tack some \"reference data\" onto each tweet. Reference data includes:\n",
    "\n",
    "* A list containing each word in the tweet's text. This should reference your earlier function that splits text into a list of words using the re.split function\n",
    "* A dictionary of all the sentiments that correspond to words in this tweet (reference the words list you just created). You should call your earlier function that compares any list of words to the sentiments dictionary and creates lists of words that relate to each sentiment\n",
    "* A list of all of the hashtags in this tweet"
   ]
  },
  {
   "cell_type": "markdown",
   "metadata": {},
   "source": [
    "#### For Example:\n",
    "\n",
    "* \"words\" should look like: ['going', 'to'...]\n",
    "* \"sentiments\" should look like: {'positive': ['visit', 'learn'], ...}\n",
    "* \"hashtags\" should look like: ['GeekGirlCon']\n",
    "\n",
    "Bringing it all together, your tweet should now look like:"
   ]
  },
  {
   "cell_type": "code",
   "execution_count": 3,
   "metadata": {},
   "outputs": [],
   "source": [
    "some_tweet = {'created_at': 'Fri Oct 07 23:04:20 +0000 2016', 'retweet_count': 1, 'entities': {'hashtags': [{'indices': [9, 21], 'text': 'GeekGirlCon'}]}, 'user': {'screen_name': 'UW_iSchool'}, 'text': 'Going to #GeekGirlCon this weekend in Seattle? So are we! Come and visit and learn about our programs. https://t.co/yJ4Vhx8oOA', 'words': ['going', 'to', 'geekgirlcon', 'this', 'weekend', 'in', 'seattle', 'so', 'are', 'we', 'come', 'and', 'visit', 'and', 'learn', 'about', 'our', 'programs', 'https', 'co', 'yj4vhx8ooa'], 'sentiments': {'positive': ['visit', 'learn'], 'negative': [], 'anger': [], 'anticipation': [], 'disgust': [], 'fear': [], 'joy': [], 'sadness': [], 'surprise': [], 'trust': []}, 'hashtags': ['GeekGirlCon']}\n"
   ]
  },
  {
   "cell_type": "code",
   "execution_count": 4,
   "metadata": {},
   "outputs": [
    {
     "data": {
      "text/plain": [
       "{'created_at': 'Fri Oct 07 23:04:20 +0000 2016',\n",
       " 'retweet_count': 1,\n",
       " 'entities': {'hashtags': [{'indices': [9, 21], 'text': 'GeekGirlCon'}]},\n",
       " 'user': {'screen_name': 'UW_iSchool'},\n",
       " 'text': 'Going to #GeekGirlCon this weekend in Seattle? So are we! Come and visit and learn about our programs. https://t.co/yJ4Vhx8oOA',\n",
       " 'words': ['going',\n",
       "  'to',\n",
       "  'geekgirlcon',\n",
       "  'this',\n",
       "  'weekend',\n",
       "  'in',\n",
       "  'seattle',\n",
       "  'so',\n",
       "  'are',\n",
       "  'we',\n",
       "  'come',\n",
       "  'and',\n",
       "  'visit',\n",
       "  'and',\n",
       "  'learn',\n",
       "  'about',\n",
       "  'our',\n",
       "  'programs',\n",
       "  'https',\n",
       "  'co',\n",
       "  'yj4vhx8ooa'],\n",
       " 'sentiments': {'positive': ['visit', 'learn'],\n",
       "  'negative': [],\n",
       "  'anger': [],\n",
       "  'anticipation': [],\n",
       "  'disgust': [],\n",
       "  'fear': [],\n",
       "  'joy': [],\n",
       "  'sadness': [],\n",
       "  'surprise': [],\n",
       "  'trust': []},\n",
       " 'hashtags': ['GeekGirlCon']}"
      ]
     },
     "execution_count": 4,
     "metadata": {},
     "output_type": "execute_result"
    }
   ],
   "source": [
    "some_tweet"
   ]
  },
  {
   "cell_type": "markdown",
   "metadata": {},
   "source": [
    "Again, all of this is just individual tweet reference data. You're going to aggregate it later into a new data structure that will store the final data you want to represent in your formatted table."
   ]
  },
  {
   "cell_type": "markdown",
   "metadata": {},
   "source": [
    "## 3. Analyze Tweets\n",
    "\n",
    "Alright, this part is a real booger, so hang tough. \n",
    "\n",
    "You want to create:\n",
    "* a function that analyzes (ahem! *parsed*) tweets and returns a dictionary containing summary data about the tweet population, including: \n",
    "    * count of total words for the tweet population\n",
    "    * for every emotion the function produces a sorted list of common words in this tweet population\n",
    "    * for every emotion the function produces a sorted list of hashtags. The hashtags are \"related\" to a given emotion if a word in a given tweet relates to that emotion. Therefore, the same hashtag may relate to multiple emotions. \n",
    "\n",
    "*Hint:* This is really dang hard to explain succintly in words, but alas, human words are the best ones we have for now. So, you might just rip off the above bullet points and use them for your doc string..."
   ]
  },
  {
   "cell_type": "markdown",
   "metadata": {},
   "source": [
    "### Breaking it down: \n",
    "\n",
    "That's a lot of words, what do they mean. Let's break this down one piece at a time. \n",
    "\n",
    "#### 1. You need to create a function, you could call it `analyze_tweets` that takes tweets as an argument. \n",
    "\n",
    "* Question A: You might be wondering, parsed tweets, or just tweets...think about it for a minute, then read the answer below to confirm that you already knew the correct answer. \n",
    "\n",
    "#### 2. This `analyze_tweets` function should create a new data structure that stores your summary data about this tweet population. Consider giving it a really smart, intuitive, and clever name, something like `summary_data`. \n",
    "\n",
    "* Question B: You might be wondering, what kind of data structure should I use? A Dictionary or a List? If it's not obvious, consider that you want to reference the name of some thing and get the value for the thing. Does a list or a dictionary work better for that? Think think think...then look at the answer below. \n",
    "\n",
    "#### 3. Because you want to do some division work and produce percents of totals in your table, you're going to need a denominator, a total amount. Here it is the total count of all the words in all the tweets. \n",
    "* Question C: Aren't you glad you already counted all the words in each tweet? You didn't do that? That's okay. You can do it here or in your earlier parse tweets function. Either way will work. \n",
    "* `summary_data = {'total_word_count': n}`\n",
    "\n",
    "#### 4. Now _for every emotion word in the EMOTION list_ you want to get all the words in all the tweets in this population, that relate to a given emotion in a single list (again, for each emotion), with the most common words appearing first in the list. Append that to your summary_data dictionary.\n",
    "* `summary_data = {'total_word_count': n, 'positive': {}}`\n",
    "\n",
    "#### 5. Again, _for every emotion word in the EMOTION list_ create a key that's the count of the emotion words for a given emotion (#4 above). Like, 29 positive words, 12 negative words...You'll use this to do math later. Trust me, DO IT. \n",
    "* `summary_data = {'total_word_count': n, 'positive': {'count': n}}`\n",
    "\n",
    "#### 6. Still, _for every emotion word in the EMOTION list_ \"find the most common words\". You should reference your earlier function that finds the most common words for any list of words\n",
    "* `summary_data = {'total_word_count': n, 'positive': {'count': n, 'words: [ ]}}`\n",
    "\n",
    "#### 7. Still, _for every emotion word in the EMOTION list_ \"find the hashtags related to the given emotion\". More on this below. \n",
    "* Are you seeing a trend here? All this work can be done in the same for loop! OMGosh!\n",
    "* `summary_data = {'total_word_count': n, 'positive': {'count': n, 'words: [ ], 'hashtags': [ ]}}`\n",
    "\n",
    "#### Answers: \n",
    "* Answer A: Within your analyze function, you should call your parse_tweets function you just created. This is a method of \"chaining\" functions together. That means the first thing analyze_tweets does is...yes, parse the tweets population to generate individual tweet reference data. You could just load up your analyze_tweets function with the parse_tweets logic, right? But it's a good practice to break out discrete pieces of logic into their own functions and just call them later. \n",
    "* Answer B: A dictionary!\n"
   ]
  },
  {
   "cell_type": "markdown",
   "metadata": {},
   "source": [
    "### Okay, so about Emotional Tweets: \n",
    "\n",
    "You want to find hashtags that relate to emotions. BUT: \n",
    "* Hashtags won't correspond to an emotion because something like \"mlis\" or \"indigenouspeoplesday\" won't show up in the sentiments dictionary. \n",
    "* Instead, what you want is something like this: a tweet has text that can be broken into words, a tweet also has hashtags. When a tweet has words that correspond to an emotion, assume that that hashtag corresponds to an emotion\n",
    "\n",
    "Since the hashtags aren't \"real\" words (e.g. #mlis), they won't correspond to words in the sentiment dictionary. Therefore you can just assume that if a tweet has a word that is a key in the emotion dictionary, then the hashtags have the same emotion as the \"real\" words in the tweet. \n",
    "\n",
    "Here's an example: For the first tweet, the word \"happy\" corresponds to the \"positive\" sentiment. Since the first tweet has a hashtag of  #indigenouspeoplesday, this hashtag is considered to have a \"positive\" sentiment."
   ]
  },
  {
   "cell_type": "markdown",
   "metadata": {},
   "source": [
    "## 4. Emotional Tags Function: \n",
    "\n",
    "You may (read: will) find it helpful to create a helper function that identifies emotional hashtags. \n",
    "\n",
    "You can call it something like, `get_emotional_hashtags`. It should take two arguments: \n",
    "1. tweets\n",
    "2. an emotion\n",
    "\n",
    "It should return a list of hashtags IF a tweet's word has a value in the sentiments dictionary for the given emotion. \n",
    "\n",
    "The work that it should do is: \n",
    "1. for every tweet in tweets\n",
    "2. reference the tweet's \"reference data\" at the sentiments key for the given emotion (the argument you passed)\n",
    "3. if the above bullet point is true, then return the hashtag (in lower case)"
   ]
  },
  {
   "cell_type": "markdown",
   "metadata": {},
   "source": [
    "In case that's not clear, here it is scaffolded: "
   ]
  },
  {
   "cell_type": "code",
   "execution_count": null,
   "metadata": {},
   "outputs": [],
   "source": [
    "def get_emotion_hashtags(tweets, emotion):\n",
    "    \"\"\"The function takes two arguments: 1. tweets, and 2. an emotion.  \n",
    "    It returns a list of hashtags if a tweet has a value in the sentiments dictionary for the given emotion. \"\"\"\n",
    "    for tweet in tweets: \n",
    "        if tweet['sentiments'][emotion]: #This boolean will either return an empty list or some hashtags. \n",
    "            ##store the hashtags in a variable\n",
    "            ##return a list of lower case hashtags...a list comprehension would work well here"
   ]
  },
  {
   "cell_type": "markdown",
   "metadata": {},
   "source": [
    "## 5. Bringing it all together\n",
    "\n",
    "Below, I'll show you what some analyzed tweets should look like after they're analyzed by your analyze_tweets function. \n",
    "\n",
    "For this example, I'm looking at tweets in the SAMPLE_TWEETS at index 10-11. I use these for demonstration purposes because one of them is a tweet with 2 hashtags. Here is tweet 10"
   ]
  },
  {
   "cell_type": "code",
   "execution_count": 13,
   "metadata": {},
   "outputs": [],
   "source": [
    "parsed_tweet = {'created_at': 'Thu Oct 06 19:31:40 +0000 2016', 'retweet_count': 26, 'entities': {'hashtags': [{'indices': [40, 56], 'text': 'SuzzalloLibrary'}, {'indices': [72, 82], 'text': 'NoBrainer'}]}, 'user': {'screen_name': 'UW_iSchool'}, 'text': 'RT @UW: Is anyone surprised to see that #SuzzalloLibrary made the list? #NoBrainer :)\\nCC @uwlibraries https://t.co/OCz15kMQ8R', 'words': ['rt', 'uw', 'is', 'anyone', 'surprised', 'to', 'see', 'that', 'suzzallolibrary', 'made', 'the', 'list', 'nobrainer', 'cc', 'uwlibraries', 'https', 'co', 'ocz15kmq8r'], 'sentiments': {'positive': [], 'negative': [], 'anger': [], 'anticipation': [], 'disgust': [], 'fear': [], 'joy': [], 'sadness': [], 'surprise': ['surprised'], 'trust': []}, 'hashtags': ['SuzzalloLibrary', 'NoBrainer']}\n"
   ]
  },
  {
   "cell_type": "code",
   "execution_count": 14,
   "metadata": {},
   "outputs": [
    {
     "data": {
      "text/plain": [
       "{'created_at': 'Thu Oct 06 19:31:40 +0000 2016',\n",
       " 'retweet_count': 26,\n",
       " 'entities': {'hashtags': [{'indices': [40, 56], 'text': 'SuzzalloLibrary'},\n",
       "   {'indices': [72, 82], 'text': 'NoBrainer'}]},\n",
       " 'user': {'screen_name': 'UW_iSchool'},\n",
       " 'text': 'RT @UW: Is anyone surprised to see that #SuzzalloLibrary made the list? #NoBrainer :)\\nCC @uwlibraries https://t.co/OCz15kMQ8R',\n",
       " 'words': ['rt',\n",
       "  'uw',\n",
       "  'is',\n",
       "  'anyone',\n",
       "  'surprised',\n",
       "  'to',\n",
       "  'see',\n",
       "  'that',\n",
       "  'suzzallolibrary',\n",
       "  'made',\n",
       "  'the',\n",
       "  'list',\n",
       "  'nobrainer',\n",
       "  'cc',\n",
       "  'uwlibraries',\n",
       "  'https',\n",
       "  'co',\n",
       "  'ocz15kmq8r'],\n",
       " 'sentiments': {'positive': [],\n",
       "  'negative': [],\n",
       "  'anger': [],\n",
       "  'anticipation': [],\n",
       "  'disgust': [],\n",
       "  'fear': [],\n",
       "  'joy': [],\n",
       "  'sadness': [],\n",
       "  'surprise': ['surprised'],\n",
       "  'trust': []},\n",
       " 'hashtags': ['SuzzalloLibrary', 'NoBrainer']}"
      ]
     },
     "execution_count": 14,
     "metadata": {},
     "output_type": "execute_result"
    }
   ],
   "source": [
    "parsed_tweet"
   ]
  },
  {
   "cell_type": "markdown",
   "metadata": {},
   "source": [
    "This is what a \"parsed hashtag\" should look like. See those two hashtags at the end? \n",
    "\n",
    "That's all well and good, but what about the summary data that the `analyze_tweets` function produces? \n",
    "\n",
    "The `summary_data` object looks like this: "
   ]
  },
  {
   "cell_type": "code",
   "execution_count": 21,
   "metadata": {},
   "outputs": [],
   "source": [
    "summary_data = {'total_word_count': 18, 'positive': {'count': 0, 'words': [], 'hashtags': []}, 'negative': {'count': 0, 'words': [], 'hashtags': []}, 'anger': {'count': 0, 'words': [], 'hashtags': []}, 'anticipation': {'count': 0, 'words': [], 'hashtags': []}, 'disgust': {'count': 0, 'words': [], 'hashtags': []}, 'fear': {'count': 0, 'words': [], 'hashtags': []}, 'joy': {'count': 0, 'words': [], 'hashtags': []}, 'sadness': {'count': 0, 'words': [], 'hashtags': []}, 'surprise': {'count': 1, 'words': ['surprised'], 'hashtags': ['suzzallolibrary', 'nobrainer']}, 'trust': {'count': 0, 'words': [], 'hashtags': []}}"
   ]
  },
  {
   "cell_type": "code",
   "execution_count": 22,
   "metadata": {},
   "outputs": [
    {
     "data": {
      "text/plain": [
       "{'total_word_count': 18,\n",
       " 'positive': {'count': 0, 'words': [], 'hashtags': []},\n",
       " 'negative': {'count': 0, 'words': [], 'hashtags': []},\n",
       " 'anger': {'count': 0, 'words': [], 'hashtags': []},\n",
       " 'anticipation': {'count': 0, 'words': [], 'hashtags': []},\n",
       " 'disgust': {'count': 0, 'words': [], 'hashtags': []},\n",
       " 'fear': {'count': 0, 'words': [], 'hashtags': []},\n",
       " 'joy': {'count': 0, 'words': [], 'hashtags': []},\n",
       " 'sadness': {'count': 0, 'words': [], 'hashtags': []},\n",
       " 'surprise': {'count': 1,\n",
       "  'words': ['surprised'],\n",
       "  'hashtags': ['suzzallolibrary', 'nobrainer']},\n",
       " 'trust': {'count': 0, 'words': [], 'hashtags': []}}"
      ]
     },
     "execution_count": 22,
     "metadata": {},
     "output_type": "execute_result"
    }
   ],
   "source": [
    "summary_data"
   ]
  },
  {
   "cell_type": "markdown",
   "metadata": {},
   "source": [
    "Do you see what's going on here? \n",
    "\n",
    "I'm looking at only 2 tweets for this summary data to try to make it easier to interpret, but you could imagine how this would fill up with information if I used more tweets. \n",
    "\n",
    "*Here's what you see:*\n",
    "\n",
    "* Total_word_count: 18, a total count of all the words in this population (here, just 2 tweets)\n",
    "* A key for each emotion in the EMOTIONS list. For each emotion a dictionary, containing: \n",
    "    * a count of words in the tweet population that relate to that emotion\n",
    "    * a sorted list of all the words that relate to that emotion\n",
    "    * a sorted list of all the hashtags that relate to that emotion"
   ]
  },
  {
   "cell_type": "markdown",
   "metadata": {},
   "source": [
    "Now you can use this to calculate and format your final table of values. "
   ]
  },
  {
   "cell_type": "code",
   "execution_count": null,
   "metadata": {},
   "outputs": [],
   "source": []
  }
 ],
 "metadata": {
  "kernelspec": {
   "display_name": "Python 3",
   "language": "python",
   "name": "python3"
  },
  "language_info": {
   "codemirror_mode": {
    "name": "ipython",
    "version": 3
   },
   "file_extension": ".py",
   "mimetype": "text/x-python",
   "name": "python",
   "nbconvert_exporter": "python",
   "pygments_lexer": "ipython3",
   "version": "3.7.1"
  }
 },
 "nbformat": 4,
 "nbformat_minor": 2
}
